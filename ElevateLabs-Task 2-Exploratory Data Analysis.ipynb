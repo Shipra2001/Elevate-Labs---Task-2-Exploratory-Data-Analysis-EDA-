{
 "cells": [
  {
   "cell_type": "code",
   "execution_count": 18,
   "id": "513dcda8-dfc4-4b1b-9427-44b870666524",
   "metadata": {},
   "outputs": [],
   "source": [
    "# Import Libraries\n",
    "import pandas as pd\n",
    "import matplotlib.pyplot as plt\n",
    "import seaborn as sns\n",
    "import plotly.express as px\n"
   ]
  },
  {
   "cell_type": "code",
   "execution_count": 19,
   "id": "c9683373-2707-420a-b9f4-4ed646d7338d",
   "metadata": {},
   "outputs": [],
   "source": [
    "# Settings\n",
    "sns.set(style=\"whitegrid\")\n",
    "plt.rcParams['figure.figsize'] = (10, 6)\n"
   ]
  },
  {
   "cell_type": "code",
   "execution_count": 20,
   "id": "2419be8b-b5cf-4579-993d-1f55f753aa73",
   "metadata": {},
   "outputs": [],
   "source": [
    "# Load Dataset from URL\n",
    "url = \"https://raw.githubusercontent.com/datasciencedojo/datasets/master/titanic.csv\"  # Public direct CSV link\n",
    "df = pd.read_csv(url)\n"
   ]
  },
  {
   "cell_type": "code",
   "execution_count": 21,
   "id": "890d5e89-78d3-40d7-8398-f5a32f803616",
   "metadata": {},
   "outputs": [
    {
     "data": {
      "text/html": [
       "<div>\n",
       "<style scoped>\n",
       "    .dataframe tbody tr th:only-of-type {\n",
       "        vertical-align: middle;\n",
       "    }\n",
       "\n",
       "    .dataframe tbody tr th {\n",
       "        vertical-align: top;\n",
       "    }\n",
       "\n",
       "    .dataframe thead th {\n",
       "        text-align: right;\n",
       "    }\n",
       "</style>\n",
       "<table border=\"1\" class=\"dataframe\">\n",
       "  <thead>\n",
       "    <tr style=\"text-align: right;\">\n",
       "      <th></th>\n",
       "      <th>PassengerId</th>\n",
       "      <th>Survived</th>\n",
       "      <th>Pclass</th>\n",
       "      <th>Name</th>\n",
       "      <th>Sex</th>\n",
       "      <th>Age</th>\n",
       "      <th>SibSp</th>\n",
       "      <th>Parch</th>\n",
       "      <th>Ticket</th>\n",
       "      <th>Fare</th>\n",
       "      <th>Cabin</th>\n",
       "      <th>Embarked</th>\n",
       "    </tr>\n",
       "  </thead>\n",
       "  <tbody>\n",
       "    <tr>\n",
       "      <th>0</th>\n",
       "      <td>1</td>\n",
       "      <td>0</td>\n",
       "      <td>3</td>\n",
       "      <td>Braund, Mr. Owen Harris</td>\n",
       "      <td>male</td>\n",
       "      <td>22.0</td>\n",
       "      <td>1</td>\n",
       "      <td>0</td>\n",
       "      <td>A/5 21171</td>\n",
       "      <td>7.2500</td>\n",
       "      <td>NaN</td>\n",
       "      <td>S</td>\n",
       "    </tr>\n",
       "    <tr>\n",
       "      <th>1</th>\n",
       "      <td>2</td>\n",
       "      <td>1</td>\n",
       "      <td>1</td>\n",
       "      <td>Cumings, Mrs. John Bradley (Florence Briggs Th...</td>\n",
       "      <td>female</td>\n",
       "      <td>38.0</td>\n",
       "      <td>1</td>\n",
       "      <td>0</td>\n",
       "      <td>PC 17599</td>\n",
       "      <td>71.2833</td>\n",
       "      <td>C85</td>\n",
       "      <td>C</td>\n",
       "    </tr>\n",
       "    <tr>\n",
       "      <th>2</th>\n",
       "      <td>3</td>\n",
       "      <td>1</td>\n",
       "      <td>3</td>\n",
       "      <td>Heikkinen, Miss. Laina</td>\n",
       "      <td>female</td>\n",
       "      <td>26.0</td>\n",
       "      <td>0</td>\n",
       "      <td>0</td>\n",
       "      <td>STON/O2. 3101282</td>\n",
       "      <td>7.9250</td>\n",
       "      <td>NaN</td>\n",
       "      <td>S</td>\n",
       "    </tr>\n",
       "    <tr>\n",
       "      <th>3</th>\n",
       "      <td>4</td>\n",
       "      <td>1</td>\n",
       "      <td>1</td>\n",
       "      <td>Futrelle, Mrs. Jacques Heath (Lily May Peel)</td>\n",
       "      <td>female</td>\n",
       "      <td>35.0</td>\n",
       "      <td>1</td>\n",
       "      <td>0</td>\n",
       "      <td>113803</td>\n",
       "      <td>53.1000</td>\n",
       "      <td>C123</td>\n",
       "      <td>S</td>\n",
       "    </tr>\n",
       "    <tr>\n",
       "      <th>4</th>\n",
       "      <td>5</td>\n",
       "      <td>0</td>\n",
       "      <td>3</td>\n",
       "      <td>Allen, Mr. William Henry</td>\n",
       "      <td>male</td>\n",
       "      <td>35.0</td>\n",
       "      <td>0</td>\n",
       "      <td>0</td>\n",
       "      <td>373450</td>\n",
       "      <td>8.0500</td>\n",
       "      <td>NaN</td>\n",
       "      <td>S</td>\n",
       "    </tr>\n",
       "  </tbody>\n",
       "</table>\n",
       "</div>"
      ],
      "text/plain": [
       "   PassengerId  Survived  Pclass  \\\n",
       "0            1         0       3   \n",
       "1            2         1       1   \n",
       "2            3         1       3   \n",
       "3            4         1       1   \n",
       "4            5         0       3   \n",
       "\n",
       "                                                Name     Sex   Age  SibSp  \\\n",
       "0                            Braund, Mr. Owen Harris    male  22.0      1   \n",
       "1  Cumings, Mrs. John Bradley (Florence Briggs Th...  female  38.0      1   \n",
       "2                             Heikkinen, Miss. Laina  female  26.0      0   \n",
       "3       Futrelle, Mrs. Jacques Heath (Lily May Peel)  female  35.0      1   \n",
       "4                           Allen, Mr. William Henry    male  35.0      0   \n",
       "\n",
       "   Parch            Ticket     Fare Cabin Embarked  \n",
       "0      0         A/5 21171   7.2500   NaN        S  \n",
       "1      0          PC 17599  71.2833   C85        C  \n",
       "2      0  STON/O2. 3101282   7.9250   NaN        S  \n",
       "3      0            113803  53.1000  C123        S  \n",
       "4      0            373450   8.0500   NaN        S  "
      ]
     },
     "execution_count": 21,
     "metadata": {},
     "output_type": "execute_result"
    }
   ],
   "source": [
    "# Display the first few rows\n",
    "df.head()\n"
   ]
  },
  {
   "cell_type": "markdown",
   "id": "4b721a1f-7065-45dc-88dc-d7a64bafb627",
   "metadata": {},
   "source": [
    "### *1. Summary Statistics and Data Overview*\n"
   ]
  },
  {
   "cell_type": "code",
   "execution_count": 22,
   "id": "b27cf98b-fa96-4d49-bf7d-6497235a9bb7",
   "metadata": {},
   "outputs": [
    {
     "name": "stdout",
     "output_type": "stream",
     "text": [
      "<class 'pandas.core.frame.DataFrame'>\n",
      "RangeIndex: 891 entries, 0 to 890\n",
      "Data columns (total 12 columns):\n",
      " #   Column       Non-Null Count  Dtype  \n",
      "---  ------       --------------  -----  \n",
      " 0   PassengerId  891 non-null    int64  \n",
      " 1   Survived     891 non-null    int64  \n",
      " 2   Pclass       891 non-null    int64  \n",
      " 3   Name         891 non-null    object \n",
      " 4   Sex          891 non-null    object \n",
      " 5   Age          714 non-null    float64\n",
      " 6   SibSp        891 non-null    int64  \n",
      " 7   Parch        891 non-null    int64  \n",
      " 8   Ticket       891 non-null    object \n",
      " 9   Fare         891 non-null    float64\n",
      " 10  Cabin        204 non-null    object \n",
      " 11  Embarked     889 non-null    object \n",
      "dtypes: float64(2), int64(5), object(5)\n",
      "memory usage: 83.7+ KB\n"
     ]
    }
   ],
   "source": [
    "# Basic structure and missing values\n",
    "df.info()\n"
   ]
  },
  {
   "cell_type": "code",
   "execution_count": 23,
   "id": "7da8c344-29ad-4857-82c8-9eb8c6a77118",
   "metadata": {},
   "outputs": [
    {
     "data": {
      "text/html": [
       "<div>\n",
       "<style scoped>\n",
       "    .dataframe tbody tr th:only-of-type {\n",
       "        vertical-align: middle;\n",
       "    }\n",
       "\n",
       "    .dataframe tbody tr th {\n",
       "        vertical-align: top;\n",
       "    }\n",
       "\n",
       "    .dataframe thead th {\n",
       "        text-align: right;\n",
       "    }\n",
       "</style>\n",
       "<table border=\"1\" class=\"dataframe\">\n",
       "  <thead>\n",
       "    <tr style=\"text-align: right;\">\n",
       "      <th></th>\n",
       "      <th>PassengerId</th>\n",
       "      <th>Survived</th>\n",
       "      <th>Pclass</th>\n",
       "      <th>Age</th>\n",
       "      <th>SibSp</th>\n",
       "      <th>Parch</th>\n",
       "      <th>Fare</th>\n",
       "    </tr>\n",
       "  </thead>\n",
       "  <tbody>\n",
       "    <tr>\n",
       "      <th>count</th>\n",
       "      <td>891.000000</td>\n",
       "      <td>891.000000</td>\n",
       "      <td>891.000000</td>\n",
       "      <td>714.000000</td>\n",
       "      <td>891.000000</td>\n",
       "      <td>891.000000</td>\n",
       "      <td>891.000000</td>\n",
       "    </tr>\n",
       "    <tr>\n",
       "      <th>mean</th>\n",
       "      <td>446.000000</td>\n",
       "      <td>0.383838</td>\n",
       "      <td>2.308642</td>\n",
       "      <td>29.699118</td>\n",
       "      <td>0.523008</td>\n",
       "      <td>0.381594</td>\n",
       "      <td>32.204208</td>\n",
       "    </tr>\n",
       "    <tr>\n",
       "      <th>std</th>\n",
       "      <td>257.353842</td>\n",
       "      <td>0.486592</td>\n",
       "      <td>0.836071</td>\n",
       "      <td>14.526497</td>\n",
       "      <td>1.102743</td>\n",
       "      <td>0.806057</td>\n",
       "      <td>49.693429</td>\n",
       "    </tr>\n",
       "    <tr>\n",
       "      <th>min</th>\n",
       "      <td>1.000000</td>\n",
       "      <td>0.000000</td>\n",
       "      <td>1.000000</td>\n",
       "      <td>0.420000</td>\n",
       "      <td>0.000000</td>\n",
       "      <td>0.000000</td>\n",
       "      <td>0.000000</td>\n",
       "    </tr>\n",
       "    <tr>\n",
       "      <th>25%</th>\n",
       "      <td>223.500000</td>\n",
       "      <td>0.000000</td>\n",
       "      <td>2.000000</td>\n",
       "      <td>20.125000</td>\n",
       "      <td>0.000000</td>\n",
       "      <td>0.000000</td>\n",
       "      <td>7.910400</td>\n",
       "    </tr>\n",
       "    <tr>\n",
       "      <th>50%</th>\n",
       "      <td>446.000000</td>\n",
       "      <td>0.000000</td>\n",
       "      <td>3.000000</td>\n",
       "      <td>28.000000</td>\n",
       "      <td>0.000000</td>\n",
       "      <td>0.000000</td>\n",
       "      <td>14.454200</td>\n",
       "    </tr>\n",
       "    <tr>\n",
       "      <th>75%</th>\n",
       "      <td>668.500000</td>\n",
       "      <td>1.000000</td>\n",
       "      <td>3.000000</td>\n",
       "      <td>38.000000</td>\n",
       "      <td>1.000000</td>\n",
       "      <td>0.000000</td>\n",
       "      <td>31.000000</td>\n",
       "    </tr>\n",
       "    <tr>\n",
       "      <th>max</th>\n",
       "      <td>891.000000</td>\n",
       "      <td>1.000000</td>\n",
       "      <td>3.000000</td>\n",
       "      <td>80.000000</td>\n",
       "      <td>8.000000</td>\n",
       "      <td>6.000000</td>\n",
       "      <td>512.329200</td>\n",
       "    </tr>\n",
       "  </tbody>\n",
       "</table>\n",
       "</div>"
      ],
      "text/plain": [
       "       PassengerId    Survived      Pclass         Age       SibSp  \\\n",
       "count   891.000000  891.000000  891.000000  714.000000  891.000000   \n",
       "mean    446.000000    0.383838    2.308642   29.699118    0.523008   \n",
       "std     257.353842    0.486592    0.836071   14.526497    1.102743   \n",
       "min       1.000000    0.000000    1.000000    0.420000    0.000000   \n",
       "25%     223.500000    0.000000    2.000000   20.125000    0.000000   \n",
       "50%     446.000000    0.000000    3.000000   28.000000    0.000000   \n",
       "75%     668.500000    1.000000    3.000000   38.000000    1.000000   \n",
       "max     891.000000    1.000000    3.000000   80.000000    8.000000   \n",
       "\n",
       "            Parch        Fare  \n",
       "count  891.000000  891.000000  \n",
       "mean     0.381594   32.204208  \n",
       "std      0.806057   49.693429  \n",
       "min      0.000000    0.000000  \n",
       "25%      0.000000    7.910400  \n",
       "50%      0.000000   14.454200  \n",
       "75%      0.000000   31.000000  \n",
       "max      6.000000  512.329200  "
      ]
     },
     "execution_count": 23,
     "metadata": {},
     "output_type": "execute_result"
    }
   ],
   "source": [
    "# Summary statistics\n",
    "df.describe()\n"
   ]
  },
  {
   "cell_type": "code",
   "execution_count": 24,
   "id": "e977c0b9-7bfc-4746-a8b1-63a9354da7a3",
   "metadata": {},
   "outputs": [
    {
     "data": {
      "text/plain": [
       "PassengerId      0\n",
       "Survived         0\n",
       "Pclass           0\n",
       "Name             0\n",
       "Sex              0\n",
       "Age            177\n",
       "SibSp            0\n",
       "Parch            0\n",
       "Ticket           0\n",
       "Fare             0\n",
       "Cabin          687\n",
       "Embarked         2\n",
       "dtype: int64"
      ]
     },
     "execution_count": 24,
     "metadata": {},
     "output_type": "execute_result"
    }
   ],
   "source": [
    "# Check for missing values\n",
    "df.isnull().sum()\n"
   ]
  },
  {
   "cell_type": "markdown",
   "id": "acff1608-b304-428c-9e5c-b1792dd7e5c8",
   "metadata": {},
   "source": [
    "### *2. Visualizing Distributions (Histograms & Boxplots)*"
   ]
  },
  {
   "cell_type": "code",
   "execution_count": 25,
   "id": "11697327-17dd-406e-a59a-6b55ca4e9c8a",
   "metadata": {},
   "outputs": [
    {
     "data": {
      "image/png": "[encoded data removed]",
      "text/plain": [
       "<Figure size 1400x1000 with 9 Axes>"
      ]
     },
     "metadata": {},
     "output_type": "display_data"
    }
   ],
   "source": [
    "# Histograms for numeric features\n",
    "df.hist(bins=20, figsize=(14, 10))\n",
    "plt.suptitle('Histograms of Numeric Features', fontsize=16)\n",
    "plt.tight_layout()\n",
    "plt.show()\n"
   ]
  },
  {
   "cell_type": "code",
   "execution_count": 26,
   "id": "61167006-edd8-4913-8af8-eb4f78598668",
   "metadata": {},
   "outputs": [
    {
     "data": {
      "image/png": "[encoded data removed]",
      "text/plain": [
       "<Figure size 1000x600 with 1 Axes>"
      ]
     },
     "metadata": {},
     "output_type": "display_data"
    },
    {
     "data": {
      "image/png": "[encoded data removed]",
      "text/plain": [
       "<Figure size 1000x600 with 1 Axes>"
      ]
     },
     "metadata": {},
     "output_type": "display_data"
    },
    {
     "data": {
      "image/png": "[encoded data removed]",
      "text/plain": [
       "<Figure size 1000x600 with 1 Axes>"
      ]
     },
     "metadata": {},
     "output_type": "display_data"
    },
    {
     "data": {
      "image/png": "[encoded data removed]",
      "text/plain": [
       "<Figure size 1000x600 with 1 Axes>"
      ]
     },
     "metadata": {},
     "output_type": "display_data"
    },
    {
     "data": {
      "image/png": "[encoded data removed]",
      "text/plain": [
       "<Figure size 1000x600 with 1 Axes>"
      ]
     },
     "metadata": {},
     "output_type": "display_data"
    },
    {
     "data": {
      "image/png": "[encoded data removed]",
      "text/plain": [
       "<Figure size 1000x600 with 1 Axes>"
      ]
     },
     "metadata": {},
     "output_type": "display_data"
    },
    {
     "data": {
      "image/png": "[encoded data removed]",
      "text/plain": [
       "<Figure size 1000x600 with 1 Axes>"
      ]
     },
     "metadata": {},
     "output_type": "display_data"
    }
   ],
   "source": [
    "# Boxplots\n",
    "numeric_cols = df.select_dtypes(include=['float64', 'int64']).columns\n",
    "for col in numeric_cols:\n",
    "    sns.boxplot(x=df[col])\n",
    "    plt.title(f'Boxplot of {col}')\n",
    "    plt.show()\n"
   ]
  },
  {
   "cell_type": "markdown",
   "id": "2068d929-51b1-4380-81ca-ac78fccc7f38",
   "metadata": {},
   "source": [
    "### *3. Correlation Matrix and Pairplot*\n"
   ]
  },
  {
   "cell_type": "code",
   "execution_count": 27,
   "id": "82576a01-d0a1-4a41-9b06-1832960da4ed",
   "metadata": {},
   "outputs": [
    {
     "data": {
      "image/png": "[encoded data removed]",
      "text/plain": [
       "<Figure size 1000x600 with 2 Axes>"
      ]
     },
     "metadata": {},
     "output_type": "display_data"
    }
   ],
   "source": [
    "# Correlation matrix (only numeric columns)\n",
    "plt.figure(figsize=(10, 6))\n",
    "numeric_df = df.select_dtypes(include=['number'])  # Select only numeric columns\n",
    "sns.heatmap(numeric_df.corr(), annot=True, cmap='coolwarm')\n",
    "plt.title('Correlation Matrix')\n",
    "plt.show()"
   ]
  },
  {
   "cell_type": "code",
   "execution_count": 28,
   "id": "22653f57-259c-4b73-92d5-c307c12dd587",
   "metadata": {},
   "outputs": [
    {
     "data": {
      "image/png": "[encoded data removed]",
      "text/plain": [
       "<Figure size 827.472x750 with 12 Axes>"
      ]
     },
     "metadata": {},
     "output_type": "display_data"
    }
   ],
   "source": [
    "# Pairplot\n",
    "sns.pairplot(df[['Age', 'Fare', 'Survived', 'Pclass']].dropna(), hue='Survived')\n",
    "plt.suptitle('Pairplot of Selected Features', y=1.02)\n",
    "plt.show()\n",
    "\n"
   ]
  },
  {
   "cell_type": "markdown",
   "id": "17d2962f-eaef-4b10-a368-fb850c01e95e",
   "metadata": {},
   "source": [
    "### *4. Patterns and Trends (Categorical Visualizations)*\n"
   ]
  },
  {
   "cell_type": "code",
   "execution_count": 29,
   "id": "660dd085-d2d9-4249-8e9e-788c88ebb56c",
   "metadata": {},
   "outputs": [
    {
     "data": {
      "image/png": "[encoded data removed]",
      "text/plain": [
       "<Figure size 1000x600 with 1 Axes>"
      ]
     },
     "metadata": {},
     "output_type": "display_data"
    }
   ],
   "source": [
    "# Survival Count\n",
    "sns.countplot(x='Survived', data=df)\n",
    "plt.title('Survival Count')\n",
    "plt.show()\n"
   ]
  },
  {
   "cell_type": "code",
   "execution_count": 30,
   "id": "0e9e62ae-715f-4ad5-b519-7fd252937117",
   "metadata": {},
   "outputs": [
    {
     "data": {
      "image/png": "[encoded data removed]",
      "text/plain": [
       "<Figure size 1000x600 with 1 Axes>"
      ]
     },
     "metadata": {},
     "output_type": "display_data"
    }
   ],
   "source": [
    "# Survival by Gender\n",
    "sns.countplot(x='Sex', hue='Survived', data=df)\n",
    "plt.title('Survival by Gender')\n",
    "plt.show()\n"
   ]
  },
  {
   "cell_type": "code",
   "execution_count": 31,
   "id": "c54f24ea-02c6-4a9f-a5ee-bf8fdd2ede49",
   "metadata": {},
   "outputs": [
    {
     "data": {
      "image/png": "[encoded data removed]",
      "text/plain": [
       "<Figure size 1000x600 with 1 Axes>"
      ]
     },
     "metadata": {},
     "output_type": "display_data"
    }
   ],
   "source": [
    "# Survival by Class\n",
    "sns.countplot(x='Pclass', hue='Survived', data=df)\n",
    "plt.title('Survival by Passenger Class')\n",
    "plt.show()\n"
   ]
  },
  {
   "cell_type": "markdown",
   "id": "e02332d6-200e-4b1c-b3e3-41c00d74665e",
   "metadata": {},
   "source": [
    "### *5. Interactive Plotly Chart*\n"
   ]
  },
  {
   "cell_type": "code",
   "execution_count": 32,
   "id": "e356d1ed-6b92-48f5-a5c1-12d9bb84eba5",
   "metadata": {},
   "outputs": [
    {
     "data": {
      "application/vnd.plotly.v1+json": {
       "config": {
        "plotlyServerURL": "https://plot.ly"
       },
       "data": [
        {
         "customdata": [
          [
           "Braund, Mr. Owen Harris",
           "male",
           3
          ],
          [
           "Cumings, Mrs. John Bradley (Florence Briggs Thayer)",
           "female",
           1
          ],
          [
           "Heikkinen, Miss. Laina",
           "female",
           3
          ],
          [
           "Futrelle, Mrs. Jacques Heath (Lily May Peel)",
           "female",
           1
          ],
          [
           "Allen, Mr. William Henry",
           "male",
           3
          ],
          [
           "Moran, Mr. James",
           "male",
           3
          ],
          [
           "McCarthy, Mr. Timothy J",
           "male",
           1
          ],
          [
           "Palsson, Master. Gosta Leonard",
           "male",
           3
          ],
          [
           "Johnson, Mrs. Oscar W (Elisabeth Vilhelmina Berg)",
           "female",
           3
          ],
          [
           "Nasser, Mrs. Nicholas (Adele Achem)",
           "female",
           2
          ],
          [
           "Sandstrom, Miss. Marguerite Rut",
           "female",
           3
          ],
          [
           "Bonnell, Miss. Elizabeth",
           "female",
           1
          ],
          [
           "Saundercock, Mr. William Henry",
           "male",
           3
          ],
          [
           "Andersson, Mr. Anders Johan",
           "male",
           3
          ],
          [
           "Vestrom, Miss. Hulda Amanda Adolfina",
           "female",
           3
          ],
          [
           "Hewlett, Mrs. (Mary D Kingcome) ",
           "female",
           2
          ],
          [
           "Rice, Master. Eugene",
           "male",
           3
          ],
          [
           "Williams, Mr. Charles Eugene",
           "male",
           2
          ],
          [
           "Vander Planke, Mrs. Julius (Emelia Maria Vandemoortele)",
           "female",
           3
          ],
          [
           "Masselmani, Mrs. Fatima",
           "female",
           3
          ],
          [
           "Fynney, Mr. Joseph J",
           "male",
           2
          ],
          [
           "Beesley, Mr. Lawrence",
           "male",
           2
          ],
          [
           "McGowan, Miss. Anna \"Annie\"",
           "female",
           3
          ],
          [
           "Sloper, Mr. William Thompson",
           "male",
           1
          ],
          [
           "Palsson, Miss. Torborg Danira",
           "female",
           3
          ],
          [
           "Asplund, Mrs. Carl Oscar (Selma Augusta Emilia Johansson)",
           "female",
           3
          ],
          [
           "Emir, Mr. Farred Chehab",
           "male",
           3
          ],
          [
           "Fortune, Mr. Charles Alexander",
           "male",
           1
          ],
          [
           "O'Dwyer, Miss. Ellen \"Nellie\"",
           "female",
           3
          ],
          [
           "Todoroff, Mr. Lalio",
           "male",
           3
          ],
          [
           "Uruchurtu, Don. Manuel E",
           "male",
           1
          ],
          [
           "Spencer, Mrs. William Augustus (Marie Eugenie)",
           "female",
           1
          ],
          [
           "Glynn, Miss. Mary Agatha",
           "female",
           3
          ],
          [
           "Wheadon, Mr. Edward H",
           "male",
           2
          ],
          [
           "Meyer, Mr. Edgar Joseph",
           "male",
           1
          ],
          [
           "Holverson, Mr. Alexander Oskar",
           "male",
           1
          ],
          [
           "Mamee, Mr. Hanna",
           "male",
           3
          ],
          [
           "Cann, Mr. Ernest Charles",
           "male",
           3
          ],
          [
           "Vander Planke, Miss. Augusta Maria",
           "female",
           3
          ],
          [
           "Nicola-Yarred, Miss. Jamila",
           "female",
           3
          ],
          [
           "Ahlin, Mrs. Johan (Johanna Persdotter Larsson)",
           "female",
           3
          ],
          [
           "Turpin, Mrs. William John Robert (Dorothy Ann Wonnacott)",
           "female",
           2
          ],
          [
           "Kraeff, Mr. Theodor",
           "male",
           3
          ],
          [
           "Laroche, Miss. Simonne Marie Anne Andree",
           "female",
           2
          ],
          [
           "Devaney, Miss. Margaret Delia",
           "female",
           3
          ],
          [
           "Rogers, Mr. William John",
           "male",
           3
          ],
          [
           "Lennon, Mr. Denis",
           "male",
           3
          ],
          [
           "O'Driscoll, Miss. Bridget",
           "female",
           3
          ],
          [
           "Samaan, Mr. Youssef",
           "male",
           3
          ],
          [
           "Arnold-Franchi, Mrs. Josef (Josefine Franchi)",
           "female",
           3
          ],
          [
           "Panula, Master. Juha Niilo",
           "male",
           3
          ],
          [
           "Nosworthy, Mr. Richard Cater",
           "male",
           3
          ],
          [
           "Harper, Mrs. Henry Sleeper (Myna Haxtun)",
           "female",
           1
          ],
          [
           "Faunthorpe, Mrs. Lizzie (Elizabeth Anne Wilkinson)",
           "female",
           2
          ],
          [
           "Ostby, Mr. Engelhart Cornelius",
           "male",
           1
          ],
          [
           "Woolner, Mr. Hugh",
           "male",
           1
          ],
          [
           "Rugg, Miss. Emily",
           "female",
           2
          ],
          [
           "Novel, Mr. Mansouer",
           "male",
           3
          ],
          [
           "West, Miss. Constance Mirium",
           "female",
           2
          ],
          [
           "Goodwin, Master. William Frederick",
           "male",
           3
          ],
          [
           "Sirayanian, Mr. Orsen",
           "male",
           3
          ],
          [
           "Icard, Miss. Amelie",
           "female",
           1
          ],
          [
           "Harris, Mr. Henry Birkhardt",
           "male",
           1
          ],
          [
           "Skoog, Master. Harald",
           "male",
           3
          ],
          [
           "Stewart, Mr. Albert A",
           "male",
           1
          ],
          [
           "Moubarek, Master. Gerios",
           "male",
           3
          ],
          [
           "Nye, Mrs. (Elizabeth Ramell)",
           "female",
           2
          ],
          [
           "Crease, Mr. Ernest James",
           "male",
           3
          ],
          [
           "Andersson, Miss. Erna Alexandra",
           "female",
           3
          ],
          [
           "Kink, Mr. Vincenz",
           "male",
           3
          ],
          [
           "Jenkin, Mr. Stephen Curnow",
           "male",
           2
          ],
          [
           "Goodwin, Miss. Lillian Amy",
           "female",
           3
          ],
          [
           "Hood, Mr. Ambrose Jr",
           "male",
           2
          ],
          [
           "Chronopoulos, Mr. Apostolos",
           "male",
           3
          ],
          [
           "Bing, Mr. Lee",
           "male",
           3
          ],
          [
           "Moen, Mr. Sigurd Hansen",
           "male",
           3
          ],
          [
           "Staneff, Mr. Ivan",
           "male",
           3
          ],
          [
           "Moutal, Mr. Rahamin Haim",
           "male",
           3
          ],
          [
           "Caldwell, Master. Alden Gates",
           "male",
           2
          ],
          [
           "Dowdell, Miss. Elizabeth",
           "female",
           3
          ],
          [
           "Waelens, Mr. Achille",
           "male",
           3
          ],
          [
           "Sheerlinck, Mr. Jan Baptist",
           "male",
           3
          ],
          [
           "McDermott, Miss. Brigdet Delia",
           "female",
           3
          ],
          [
           "Carrau, Mr. Francisco M",
           "male",
           1
          ],
          [
           "Ilett, Miss. Bertha",
           "female",
           2
          ],
          [
           "Backstrom, Mrs. Karl Alfred (Maria Mathilda Gustafsson)",
           "female",
           3
          ],
          [
           "Ford, Mr. William Neal",
           "male",
           3
          ],
          [
           "Slocovski, Mr. Selman Francis",
           "male",
           3
          ],
          [
           "Fortune, Miss. Mabel Helen",
           "female",
           1
          ],
          [
           "Celotti, Mr. Francesco",
           "male",
           3
          ],
          [
           "Christmann, Mr. Emil",
           "male",
           3
          ],
          [
           "Andreasson, Mr. Paul Edvin",
           "male",
           3
          ],
          [
           "Chaffee, Mr. Herbert Fuller",
           "male",
           1
          ],
          [
           "Dean, Mr. Bertram Frank",
           "male",
           3
          ],
          [
           "Coxon, Mr. Daniel",
           "male",
           3
          ],
          [
           "Shorney, Mr. Charles Joseph",
           "male",
           3
          ],
          [
           "Goldschmidt, Mr. George B",
           "male",
           1
          ],
          [
           "Greenfield, Mr. William Bertram",
           "male",
           1
          ],
          [
           "Doling, Mrs. John T (Ada Julia Bone)",
           "female",
           2
          ],
          [
           "Kantor, Mr. Sinai",
           "male",
           2
          ],
          [
           "Petranec, Miss. Matilda",
           "female",
           3
          ],
          [
           "Petroff, Mr. Pastcho (\"Pentcho\")",
           "male",
           3
          ],
          [
           "White, Mr. Richard Frasar",
           "male",
           1
          ],
          [
           "Johansson, Mr. Gustaf Joel",
           "male",
           3
          ],
          [
           "Gustafsson, Mr. Anders Vilhelm",
           "male",
           3
          ],
          [
           "Mionoff, Mr. Stoytcho",
           "male",
           3
          ],
          [
           "Salkjelsvik, Miss. Anna Kristine",
           "female",
           3
          ],
          [
           "Moss, Mr. Albert Johan",
           "male",
           3
          ],
          [
           "Rekic, Mr. Tido",
           "male",
           3
          ],
          [
           "Moran, Miss. Bertha",
           "female",
           3
          ],
          [
           "Porter, Mr. Walter Chamberlain",
           "male",
           1
          ],
          [
           "Zabour, Miss. Hileni",
           "female",
           3
          ],
          [
           "Barton, Mr. David John",
           "male",
           3
          ],
          [
           "Jussila, Miss. Katriina",
           "female",
           3
          ],
          [
           "Attalah, Miss. Malake",
           "female",
           3
          ],
          [
           "Pekoniemi, Mr. Edvard",
           "male",
           3
          ],
          [
           "Connors, Mr. Patrick",
           "male",
           3
          ],
          [
           "Turpin, Mr. William John Robert",
           "male",
           2
          ],
          [
           "Baxter, Mr. Quigg Edmond",
           "male",
           1
          ],
          [
           "Andersson, Miss. Ellis Anna Maria",
           "female",
           3
          ],
          [
           "Hickman, Mr. Stanley George",
           "male",
           2
          ],
          [
           "Moore, Mr. Leonard Charles",
           "male",
           3
          ],
          [
           "Nasser, Mr. Nicholas",
           "male",
           2
          ],
          [
           "Webber, Miss. Susan",
           "female",
           2
          ],
          [
           "White, Mr. Percival Wayland",
           "male",
           1
          ],
          [
           "Nicola-Yarred, Master. Elias",
           "male",
           3
          ],
          [
           "McMahon, Mr. Martin",
           "male",
           3
          ],
          [
           "Madsen, Mr. Fridtjof Arne",
           "male",
           3
          ],
          [
           "Peter, Miss. Anna",
           "female",
           3
          ],
          [
           "Ekstrom, Mr. Johan",
           "male",
           3
          ],
          [
           "Drazenoic, Mr. Jozef",
           "male",
           3
          ],
          [
           "Coelho, Mr. Domingos Fernandeo",
           "male",
           3
          ],
          [
           "Robins, Mrs. Alexander A (Grace Charity Laury)",
           "female",
           3
          ],
          [
           "Weisz, Mrs. Leopold (Mathilde Francoise Pede)",
           "female",
           2
          ],
          [
           "Sobey, Mr. Samuel James Hayden",
           "male",
           2
          ],
          [
           "Richard, Mr. Emile",
           "male",
           2
          ],
          [
           "Newsom, Miss. Helen Monypeny",
           "female",
           1
          ],
          [
           "Futrelle, Mr. Jacques Heath",
           "male",
           1
          ],
          [
           "Osen, Mr. Olaf Elon",
           "male",
           3
          ],
          [
           "Giglio, Mr. Victor",
           "male",
           1
          ],
          [
           "Boulos, Mrs. Joseph (Sultana)",
           "female",
           3
          ],
          [
           "Nysten, Miss. Anna Sofia",
           "female",
           3
          ],
          [
           "Hakkarainen, Mrs. Pekka Pietari (Elin Matilda Dolck)",
           "female",
           3
          ],
          [
           "Burke, Mr. Jeremiah",
           "male",
           3
          ],
          [
           "Andrew, Mr. Edgardo Samuel",
           "male",
           2
          ],
          [
           "Nicholls, Mr. Joseph Charles",
           "male",
           2
          ],
          [
           "Andersson, Mr. August Edvard (\"Wennerstrom\")",
           "male",
           3
          ],
          [
           "Ford, Miss. Robina Maggie \"Ruby\"",
           "female",
           3
          ],
          [
           "Navratil, Mr. Michel (\"Louis M Hoffman\")",
           "male",
           2
          ],
          [
           "Byles, Rev. Thomas Roussel Davids",
           "male",
           2
          ],
          [
           "Bateman, Rev. Robert James",
           "male",
           2
          ],
          [
           "Pears, Mrs. Thomas (Edith Wearne)",
           "female",
           1
          ],
          [
           "Meo, Mr. Alfonzo",
           "male",
           3
          ],
          [
           "van Billiard, Mr. Austin Blyler",
           "male",
           3
          ],
          [
           "Olsen, Mr. Ole Martin",
           "male",
           3
          ],
          [
           "Williams, Mr. Charles Duane",
           "male",
           1
          ],
          [
           "Gilnagh, Miss. Katherine \"Katie\"",
           "female",
           3
          ],
          [
           "Corn, Mr. Harry",
           "male",
           3
          ],
          [
           "Smiljanic, Mr. Mile",
           "male",
           3
          ],
          [
           "Sage, Master. Thomas Henry",
           "male",
           3
          ],
          [
           "Cribb, Mr. John Hatfield",
           "male",
           3
          ],
          [
           "Watt, Mrs. James (Elizabeth \"Bessie\" Inglis Milne)",
           "female",
           2
          ],
          [
           "Bengtsson, Mr. John Viktor",
           "male",
           3
          ],
          [
           "Calic, Mr. Jovo",
           "male",
           3
          ],
          [
           "Panula, Master. Eino Viljami",
           "male",
           3
          ],
          [
           "Goldsmith, Master. Frank John William \"Frankie\"",
           "male",
           3
          ],
          [
           "Chibnall, Mrs. (Edith Martha Bowerman)",
           "female",
           1
          ],
          [
           "Skoog, Mrs. William (Anna Bernhardina Karlsson)",
           "female",
           3
          ],
          [
           "Baumann, Mr. John D",
           "male",
           1
          ],
          [
           "Ling, Mr. Lee",
           "male",
           3
          ],
          [
           "Van der hoef, Mr. Wyckoff",
           "male",
           1
          ],
          [
           "Rice, Master. Arthur",
           "male",
           3
          ],
          [
           "Johnson, Miss. Eleanor Ileen",
           "female",
           3
          ],
          [
           "Sivola, Mr. Antti Wilhelm",
           "male",
           3
          ],
          [
           "Smith, Mr. James Clinch",
           "male",
           1
          ],
          [
           "Klasen, Mr. Klas Albin",
           "male",
           3
          ],
          [
           "Lefebre, Master. Henry Forbes",
           "male",
           3
          ],
          [
           "Isham, Miss. Ann Elizabeth",
           "female",
           1
          ],
          [
           "Hale, Mr. Reginald",
           "male",
           2
          ],
          [
           "Leonard, Mr. Lionel",
           "male",
           3
          ],
          [
           "Sage, Miss. Constance Gladys",
           "female",
           3
          ],
          [
           "Pernot, Mr. Rene",
           "male",
           2
          ],
          [
           "Asplund, Master. Clarence Gustaf Hugo",
           "male",
           3
          ],
          [
           "Becker, Master. Richard F",
           "male",
           2
          ],
          [
           "Kink-Heilmann, Miss. Luise Gretchen",
           "female",
           3
          ],
          [
           "Rood, Mr. Hugh Roscoe",
           "male",
           1
          ],
          [
           "O'Brien, Mrs. Thomas (Johanna \"Hannah\" Godfrey)",
           "female",
           3
          ],
          [
           "Romaine, Mr. Charles Hallace (\"Mr C Rolmane\")",
           "male",
           1
          ],
          [
           "Bourke, Mr. John",
           "male",
           3
          ],
          [
           "Turcin, Mr. Stjepan",
           "male",
           3
          ],
          [
           "Pinsky, Mrs. (Rosa)",
           "female",
           2
          ],
          [
           "Carbines, Mr. William",
           "male",
           2
          ],
          [
           "Andersen-Jensen, Miss. Carla Christine Nielsine",
           "female",
           3
          ],
          [
           "Navratil, Master. Michel M",
           "male",
           2
          ],
          [
           "Brown, Mrs. James Joseph (Margaret Tobin)",
           "female",
           1
          ],
          [
           "Lurette, Miss. Elise",
           "female",
           1
          ],
          [
           "Mernagh, Mr. Robert",
           "male",
           3
          ],
          [
           "Olsen, Mr. Karl Siegwart Andreas",
           "male",
           3
          ],
          [
           "Madigan, Miss. Margaret \"Maggie\"",
           "female",
           3
          ],
          [
           "Yrois, Miss. Henriette (\"Mrs Harbeck\")",
           "female",
           2
          ],
          [
           "Vande Walle, Mr. Nestor Cyriel",
           "male",
           3
          ],
          [
           "Sage, Mr. Frederick",
           "male",
           3
          ],
          [
           "Johanson, Mr. Jakob Alfred",
           "male",
           3
          ],
          [
           "Youseff, Mr. Gerious",
           "male",
           3
          ],
          [
           "Cohen, Mr. Gurshon \"Gus\"",
           "male",
           3
          ],
          [
           "Strom, Miss. Telma Matilda",
           "female",
           3
          ],
          [
           "Backstrom, Mr. Karl Alfred",
           "male",
           3
          ],
          [
           "Albimona, Mr. Nassef Cassem",
           "male",
           3
          ],
          [
           "Carr, Miss. Helen \"Ellen\"",
           "female",
           3
          ],
          [
           "Blank, Mr. Henry",
           "male",
           1
          ],
          [
           "Ali, Mr. Ahmed",
           "male",
           3
          ],
          [
           "Cameron, Miss. Clear Annie",
           "female",
           2
          ],
          [
           "Perkin, Mr. John Henry",
           "male",
           3
          ],
          [
           "Givard, Mr. Hans Kristensen",
           "male",
           2
          ],
          [
           "Kiernan, Mr. Philip",
           "male",
           3
          ],
          [
           "Newell, Miss. Madeleine",
           "female",
           1
          ],
          [
           "Honkanen, Miss. Eliina",
           "female",
           3
          ],
          [
           "Jacobsohn, Mr. Sidney Samuel",
           "male",
           2
          ],
          [
           "Bazzani, Miss. Albina",
           "female",
           1
          ],
          [
           "Harris, Mr. Walter",
           "male",
           2
          ],
          [
           "Sunderland, Mr. Victor Francis",
           "male",
           3
          ],
          [
           "Bracken, Mr. James H",
           "male",
           2
          ],
          [
           "Green, Mr. George Henry",
           "male",
           3
          ],
          [
           "Nenkoff, Mr. Christo",
           "male",
           3
          ],
          [
           "Hoyt, Mr. Frederick Maxfield",
           "male",
           1
          ],
          [
           "Berglund, Mr. Karl Ivar Sven",
           "male",
           3
          ],
          [
           "Mellors, Mr. William John",
           "male",
           2
          ],
          [
           "Lovell, Mr. John Hall (\"Henry\")",
           "male",
           3
          ],
          [
           "Fahlstrom, Mr. Arne Jonas",
           "male",
           2
          ],
          [
           "Lefebre, Miss. Mathilde",
           "female",
           3
          ],
          [
           "Harris, Mrs. Henry Birkhardt (Irene Wallach)",
           "female",
           1
          ],
          [
           "Larsson, Mr. Bengt Edvin",
           "male",
           3
          ],
          [
           "Sjostedt, Mr. Ernst Adolf",
           "male",
           2
          ],
          [
           "Asplund, Miss. Lillian Gertrud",
           "female",
           3
          ],
          [
           "Leyson, Mr. Robert William Norman",
           "male",
           2
          ],
          [
           "Harknett, Miss. Alice Phoebe",
           "female",
           3
          ],
          [
           "Hold, Mr. Stephen",
           "male",
           2
          ],
          [
           "Collyer, Miss. Marjorie \"Lottie\"",
           "female",
           2
          ],
          [
           "Pengelly, Mr. Frederick William",
           "male",
           2
          ],
          [
           "Hunt, Mr. George Henry",
           "male",
           2
          ],
          [
           "Zabour, Miss. Thamine",
           "female",
           3
          ],
          [
           "Murphy, Miss. Katherine \"Kate\"",
           "female",
           3
          ],
          [
           "Coleridge, Mr. Reginald Charles",
           "male",
           2
          ],
          [
           "Maenpaa, Mr. Matti Alexanteri",
           "male",
           3
          ],
          [
           "Attalah, Mr. Sleiman",
           "male",
           3
          ],
          [
           "Minahan, Dr. William Edward",
           "male",
           1
          ],
          [
           "Lindahl, Miss. Agda Thorilda Viktoria",
           "female",
           3
          ],
          [
           "Hamalainen, Mrs. William (Anna)",
           "female",
           2
          ],
          [
           "Beckwith, Mr. Richard Leonard",
           "male",
           1
          ],
          [
           "Carter, Rev. Ernest Courtenay",
           "male",
           2
          ],
          [
           "Reed, Mr. James George",
           "male",
           3
          ],
          [
           "Strom, Mrs. Wilhelm (Elna Matilda Persson)",
           "female",
           3
          ],
          [
           "Stead, Mr. William Thomas",
           "male",
           1
          ],
          [
           "Lobb, Mr. William Arthur",
           "male",
           3
          ],
          [
           "Rosblom, Mrs. Viktor (Helena Wilhelmina)",
           "female",
           3
          ],
          [
           "Touma, Mrs. Darwis (Hanne Youssef Razi)",
           "female",
           3
          ],
          [
           "Thorne, Mrs. Gertrude Maybelle",
           "female",
           1
          ],
          [
           "Cherry, Miss. Gladys",
           "female",
           1
          ],
          [
           "Ward, Miss. Anna",
           "female",
           1
          ],
          [
           "Parrish, Mrs. (Lutie Davis)",
           "female",
           2
          ],
          [
           "Smith, Mr. Thomas",
           "male",
           3
          ],
          [
           "Asplund, Master. Edvin Rojj Felix",
           "male",
           3
          ],
          [
           "Taussig, Mr. Emil",
           "male",
           1
          ],
          [
           "Harrison, Mr. William",
           "male",
           1
          ],
          [
           "Henry, Miss. Delia",
           "female",
           3
          ],
          [
           "Reeves, Mr. David",
           "male",
           2
          ],
          [
           "Panula, Mr. Ernesti Arvid",
           "male",
           3
          ],
          [
           "Persson, Mr. Ernst Ulrik",
           "male",
           3
          ],
          [
           "Graham, Mrs. William Thompson (Edith Junkins)",
           "female",
           1
          ],
          [
           "Bissette, Miss. Amelia",
           "female",
           1
          ],
          [
           "Cairns, Mr. Alexander",
           "male",
           1
          ],
          [
           "Tornquist, Mr. William Henry",
           "male",
           3
          ],
          [
           "Mellinger, Mrs. (Elizabeth Anne Maidment)",
           "female",
           2
          ],
          [
           "Natsch, Mr. Charles H",
           "male",
           1
          ],
          [
           "Healy, Miss. Hanora \"Nora\"",
           "female",
           3
          ],
          [
           "Andrews, Miss. Kornelia Theodosia",
           "female",
           1
          ],
          [
           "Lindblom, Miss. Augusta Charlotta",
           "female",
           3
          ],
          [
           "Parkes, Mr. Francis \"Frank\"",
           "male",
           2
          ],
          [
           "Rice, Master. Eric",
           "male",
           3
          ],
          [
           "Abbott, Mrs. Stanton (Rosa Hunt)",
           "female",
           3
          ],
          [
           "Duane, Mr. Frank",
           "male",
           3
          ],
          [
           "Olsson, Mr. Nils Johan Goransson",
           "male",
           3
          ],
          [
           "de Pelsmaeker, Mr. Alfons",
           "male",
           3
          ],
          [
           "Dorking, Mr. Edward Arthur",
           "male",
           3
          ],
          [
           "Smith, Mr. Richard William",
           "male",
           1
          ],
          [
           "Stankovic, Mr. Ivan",
           "male",
           3
          ],
          [
           "de Mulder, Mr. Theodore",
           "male",
           3
          ],
          [
           "Naidenoff, Mr. Penko",
           "male",
           3
          ],
          [
           "Hosono, Mr. Masabumi",
           "male",
           2
          ],
          [
           "Connolly, Miss. Kate",
           "female",
           3
          ],
          [
           "Barber, Miss. Ellen \"Nellie\"",
           "female",
           1
          ],
          [
           "Bishop, Mrs. Dickinson H (Helen Walton)",
           "female",
           1
          ],
          [
           "Levy, Mr. Rene Jacques",
           "male",
           2
          ],
          [
           "Haas, Miss. Aloisia",
           "female",
           3
          ],
          [
           "Mineff, Mr. Ivan",
           "male",
           3
          ],
          [
           "Lewy, Mr. Ervin G",
           "male",
           1
          ],
          [
           "Hanna, Mr. Mansour",
           "male",
           3
          ],
          [
           "Allison, Miss. Helen Loraine",
           "female",
           1
          ],
          [
           "Saalfeld, Mr. Adolphe",
           "male",
           1
          ],
          [
           "Baxter, Mrs. James (Helene DeLaudeniere Chaput)",
           "female",
           1
          ],
          [
           "Kelly, Miss. Anna Katherine \"Annie Kate\"",
           "female",
           3
          ],
          [
           "McCoy, Mr. Bernard",
           "male",
           3
          ],
          [
           "Johnson, Mr. William Cahoone Jr",
           "male",
           3
          ],
          [
           "Keane, Miss. Nora A",
           "female",
           2
          ],
          [
           "Williams, Mr. Howard Hugh \"Harry\"",
           "male",
           3
          ],
          [
           "Allison, Master. Hudson Trevor",
           "male",
           1
          ],
          [
           "Fleming, Miss. Margaret",
           "female",
           1
          ],
          [
           "Penasco y Castellana, Mrs. Victor de Satode (Maria Josefa Perez de Soto y Vallejo)",
           "female",
           1
          ],
          [
           "Abelson, Mr. Samuel",
           "male",
           2
          ],
          [
           "Francatelli, Miss. Laura Mabel",
           "female",
           1
          ],
          [
           "Hays, Miss. Margaret Bechstein",
           "female",
           1
          ],
          [
           "Ryerson, Miss. Emily Borie",
           "female",
           1
          ],
          [
           "Lahtinen, Mrs. William (Anna Sylfven)",
           "female",
           2
          ],
          [
           "Hendekovic, Mr. Ignjac",
           "male",
           3
          ],
          [
           "Hart, Mr. Benjamin",
           "male",
           2
          ],
          [
           "Nilsson, Miss. Helmina Josefina",
           "female",
           3
          ],
          [
           "Kantor, Mrs. Sinai (Miriam Sternin)",
           "female",
           2
          ],
          [
           "Moraweck, Dr. Ernest",
           "male",
           2
          ],
          [
           "Wick, Miss. Mary Natalie",
           "female",
           1
          ],
          [
           "Spedden, Mrs. Frederic Oakley (Margaretta Corning Stone)",
           "female",
           1
          ],
          [
           "Dennis, Mr. Samuel",
           "male",
           3
          ],
          [
           "Danoff, Mr. Yoto",
           "male",
           3
          ],
          [
           "Slayter, Miss. Hilda Mary",
           "female",
           2
          ],
          [
           "Caldwell, Mrs. Albert Francis (Sylvia Mae Harbaugh)",
           "female",
           2
          ],
          [
           "Sage, Mr. George John Jr",
           "male",
           3
          ],
          [
           "Young, Miss. Marie Grice",
           "female",
           1
          ],
          [
           "Nysveen, Mr. Johan Hansen",
           "male",
           3
          ],
          [
           "Ball, Mrs. (Ada E Hall)",
           "female",
           2
          ],
          [
           "Goldsmith, Mrs. Frank John (Emily Alice Brown)",
           "female",
           3
          ],
          [
           "Hippach, Miss. Jean Gertrude",
           "female",
           1
          ],
          [
           "McCoy, Miss. Agnes",
           "female",
           3
          ],
          [
           "Partner, Mr. Austen",
           "male",
           1
          ],
          [
           "Graham, Mr. George Edward",
           "male",
           1
          ],
          [
           "Vander Planke, Mr. Leo Edmondus",
           "male",
           3
          ],
          [
           "Frauenthal, Mrs. Henry William (Clara Heinsheimer)",
           "female",
           1
          ],
          [
           "Denkoff, Mr. Mitto",
           "male",
           3
          ],
          [
           "Pears, Mr. Thomas Clinton",
           "male",
           1
          ],
          [
           "Burns, Miss. Elizabeth Margaret",
           "female",
           1
          ],
          [
           "Dahl, Mr. Karl Edwart",
           "male",
           3
          ],
          [
           "Blackwell, Mr. Stephen Weart",
           "male",
           1
          ],
          [
           "Navratil, Master. Edmond Roger",
           "male",
           2
          ],
          [
           "Fortune, Miss. Alice Elizabeth",
           "female",
           1
          ],
          [
           "Collander, Mr. Erik Gustaf",
           "male",
           2
          ],
          [
           "Sedgwick, Mr. Charles Frederick Waddington",
           "male",
           2
          ],
          [
           "Fox, Mr. Stanley Hubert",
           "male",
           2
          ],
          [
           "Brown, Miss. Amelia \"Mildred\"",
           "female",
           2
          ],
          [
           "Smith, Miss. Marion Elsie",
           "female",
           2
          ],
          [
           "Davison, Mrs. Thomas Henry (Mary E Finck)",
           "female",
           3
          ],
          [
           "Coutts, Master. William Loch \"William\"",
           "male",
           3
          ],
          [
           "Dimic, Mr. Jovan",
           "male",
           3
          ],
          [
           "Odahl, Mr. Nils Martin",
           "male",
           3
          ],
          [
           "Williams-Lambert, Mr. Fletcher Fellows",
           "male",
           1
          ],
          [
           "Elias, Mr. Tannous",
           "male",
           3
          ],
          [
           "Arnold-Franchi, Mr. Josef",
           "male",
           3
          ],
          [
           "Yousif, Mr. Wazli",
           "male",
           3
          ],
          [
           "Vanden Steen, Mr. Leo Peter",
           "male",
           3
          ],
          [
           "Bowerman, Miss. Elsie Edith",
           "female",
           1
          ],
          [
           "Funk, Miss. Annie Clemmer",
           "female",
           2
          ],
          [
           "McGovern, Miss. Mary",
           "female",
           3
          ],
          [
           "Mockler, Miss. Helen Mary \"Ellie\"",
           "female",
           3
          ],
          [
           "Skoog, Mr. Wilhelm",
           "male",
           3
          ],
          [
           "del Carlo, Mr. Sebastiano",
           "male",
           2
          ],
          [
           "Barbara, Mrs. (Catherine David)",
           "female",
           3
          ],
          [
           "Asim, Mr. Adola",
           "male",
           3
          ],
          [
           "O'Brien, Mr. Thomas",
           "male",
           3
          ],
          [
           "Adahl, Mr. Mauritz Nils Martin",
           "male",
           3
          ],
          [
           "Warren, Mrs. Frank Manley (Anna Sophia Atkinson)",
           "female",
           1
          ],
          [
           "Moussa, Mrs. (Mantoura Boulos)",
           "female",
           3
          ],
          [
           "Jermyn, Miss. Annie",
           "female",
           3
          ],
          [
           "Aubart, Mme. Leontine Pauline",
           "female",
           1
          ],
          [
           "Harder, Mr. George Achilles",
           "male",
           1
          ],
          [
           "Wiklund, Mr. Jakob Alfred",
           "male",
           3
          ],
          [
           "Beavan, Mr. William Thomas",
           "male",
           3
          ],
          [
           "Ringhini, Mr. Sante",
           "male",
           1
          ],
          [
           "Palsson, Miss. Stina Viola",
           "female",
           3
          ],
          [
           "Meyer, Mrs. Edgar Joseph (Leila Saks)",
           "female",
           1
          ],
          [
           "Landergren, Miss. Aurora Adelia",
           "female",
           3
          ],
          [
           "Widener, Mr. Harry Elkins",
           "male",
           1
          ],
          [
           "Betros, Mr. Tannous",
           "male",
           3
          ],
          [
           "Gustafsson, Mr. Karl Gideon",
           "male",
           3
          ],
          [
           "Bidois, Miss. Rosalie",
           "female",
           1
          ],
          [
           "Nakid, Miss. Maria (\"Mary\")",
           "female",
           3
          ],
          [
           "Tikkanen, Mr. Juho",
           "male",
           3
          ],
          [
           "Holverson, Mrs. Alexander Oskar (Mary Aline Towner)",
           "female",
           1
          ],
          [
           "Plotcharsky, Mr. Vasil",
           "male",
           3
          ],
          [
           "Davies, Mr. Charles Henry",
           "male",
           2
          ],
          [
           "Goodwin, Master. Sidney Leonard",
           "male",
           3
          ],
          [
           "Buss, Miss. Kate",
           "female",
           2
          ],
          [
           "Sadlier, Mr. Matthew",
           "male",
           3
          ],
          [
           "Lehmann, Miss. Bertha",
           "female",
           2
          ],
          [
           "Carter, Mr. William Ernest",
           "male",
           1
          ],
          [
           "Jansson, Mr. Carl Olof",
           "male",
           3
          ],
          [
           "Gustafsson, Mr. Johan Birger",
           "male",
           3
          ],
          [
           "Newell, Miss. Marjorie",
           "female",
           1
          ],
          [
           "Sandstrom, Mrs. Hjalmar (Agnes Charlotta Bengtsson)",
           "female",
           3
          ],
          [
           "Johansson, Mr. Erik",
           "male",
           3
          ],
          [
           "Olsson, Miss. Elina",
           "female",
           3
          ],
          [
           "McKane, Mr. Peter David",
           "male",
           2
          ],
          [
           "Pain, Dr. Alfred",
           "male",
           2
          ],
          [
           "Trout, Mrs. William H (Jessie L)",
           "female",
           2
          ],
          [
           "Niskanen, Mr. Juha",
           "male",
           3
          ],
          [
           "Adams, Mr. John",
           "male",
           3
          ],
          [
           "Jussila, Miss. Mari Aina",
           "female",
           3
          ],
          [
           "Hakkarainen, Mr. Pekka Pietari",
           "male",
           3
          ],
          [
           "Oreskovic, Miss. Marija",
           "female",
           3
          ],
          [
           "Gale, Mr. Shadrach",
           "male",
           2
          ],
          [
           "Widegren, Mr. Carl/Charles Peter",
           "male",
           3
          ],
          [
           "Richards, Master. William Rowe",
           "male",
           2
          ],
          [
           "Birkeland, Mr. Hans Martin Monsen",
           "male",
           3
          ],
          [
           "Lefebre, Miss. Ida",
           "female",
           3
          ],
          [
           "Sdycoff, Mr. Todor",
           "male",
           3
          ],
          [
           "Hart, Mr. Henry",
           "male",
           3
          ],
          [
           "Minahan, Miss. Daisy E",
           "female",
           1
          ],
          [
           "Cunningham, Mr. Alfred Fleming",
           "male",
           2
          ],
          [
           "Sundman, Mr. Johan Julian",
           "male",
           3
          ],
          [
           "Meek, Mrs. Thomas (Annie Louise Rowley)",
           "female",
           3
          ],
          [
           "Drew, Mrs. James Vivian (Lulu Thorne Christian)",
           "female",
           2
          ],
          [
           "Silven, Miss. Lyyli Karoliina",
           "female",
           2
          ],
          [
           "Matthews, Mr. William John",
           "male",
           2
          ],
          [
           "Van Impe, Miss. Catharina",
           "female",
           3
          ],
          [
           "Gheorgheff, Mr. Stanio",
           "male",
           3
          ],
          [
           "Charters, Mr. David",
           "male",
           3
          ],
          [
           "Zimmerman, Mr. Leo",
           "male",
           3
          ],
          [
           "Danbom, Mrs. Ernst Gilbert (Anna Sigrid Maria Brogren)",
           "female",
           3
          ],
          [
           "Rosblom, Mr. Viktor Richard",
           "male",
           3
          ],
          [
           "Wiseman, Mr. Phillippe",
           "male",
           3
          ],
          [
           "Clarke, Mrs. Charles V (Ada Maria Winfield)",
           "female",
           2
          ],
          [
           "Phillips, Miss. Kate Florence (\"Mrs Kate Louise Phillips Marshall\")",
           "female",
           2
          ],
          [
           "Flynn, Mr. James",
           "male",
           3
          ],
          [
           "Pickard, Mr. Berk (Berk Trembisky)",
           "male",
           3
          ],
          [
           "Bjornstrom-Steffansson, Mr. Mauritz Hakan",
           "male",
           1
          ],
          [
           "Thorneycroft, Mrs. Percival (Florence Kate White)",
           "female",
           3
          ],
          [
           "Louch, Mrs. Charles Alexander (Alice Adelaide Slow)",
           "female",
           2
          ],
          [
           "Kallio, Mr. Nikolai Erland",
           "male",
           3
          ],
          [
           "Silvey, Mr. William Baird",
           "male",
           1
          ],
          [
           "Carter, Miss. Lucile Polk",
           "female",
           1
          ],
          [
           "Ford, Miss. Doolina Margaret \"Daisy\"",
           "female",
           3
          ],
          [
           "Richards, Mrs. Sidney (Emily Hocking)",
           "female",
           2
          ],
          [
           "Fortune, Mr. Mark",
           "male",
           1
          ],
          [
           "Kvillner, Mr. Johan Henrik Johannesson",
           "male",
           2
          ],
          [
           "Hart, Mrs. Benjamin (Esther Ada Bloomfield)",
           "female",
           2
          ],
          [
           "Hampe, Mr. Leon",
           "male",
           3
          ],
          [
           "Petterson, Mr. Johan Emil",
           "male",
           3
          ],
          [
           "Reynaldo, Ms. Encarnacion",
           "female",
           2
          ],
          [
           "Johannesen-Bratthammer, Mr. Bernt",
           "male",
           3
          ],
          [
           "Dodge, Master. Washington",
           "male",
           1
          ],
          [
           "Mellinger, Miss. Madeleine Violet",
           "female",
           2
          ],
          [
           "Seward, Mr. Frederic Kimber",
           "male",
           1
          ],
          [
           "Baclini, Miss. Marie Catherine",
           "female",
           3
          ],
          [
           "Peuchen, Major. Arthur Godfrey",
           "male",
           1
          ],
          [
           "West, Mr. Edwy Arthur",
           "male",
           2
          ],
          [
           "Hagland, Mr. Ingvald Olai Olsen",
           "male",
           3
          ],
          [
           "Foreman, Mr. Benjamin Laventall",
           "male",
           1
          ],
          [
           "Goldenberg, Mr. Samuel L",
           "male",
           1
          ],
          [
           "Peduzzi, Mr. Joseph",
           "male",
           3
          ],
          [
           "Jalsevac, Mr. Ivan",
           "male",
           3
          ],
          [
           "Millet, Mr. Francis Davis",
           "male",
           1
          ],
          [
           "Kenyon, Mrs. Frederick R (Marion)",
           "female",
           1
          ],
          [
           "Toomey, Miss. Ellen",
           "female",
           2
          ],
          [
           "O'Connor, Mr. Maurice",
           "male",
           3
          ],
          [
           "Anderson, Mr. Harry",
           "male",
           1
          ],
          [
           "Morley, Mr. William",
           "male",
           3
          ],
          [
           "Gee, Mr. Arthur H",
           "male",
           1
          ],
          [
           "Milling, Mr. Jacob Christian",
           "male",
           2
          ],
          [
           "Maisner, Mr. Simon",
           "male",
           3
          ],
          [
           "Goncalves, Mr. Manuel Estanslas",
           "male",
           3
          ],
          [
           "Campbell, Mr. William",
           "male",
           2
          ],
          [
           "Smart, Mr. John Montgomery",
           "male",
           1
          ],
          [
           "Scanlan, Mr. James",
           "male",
           3
          ],
          [
           "Baclini, Miss. Helene Barbara",
           "female",
           3
          ],
          [
           "Keefe, Mr. Arthur",
           "male",
           3
          ],
          [
           "Cacic, Mr. Luka",
           "male",
           3
          ],
          [
           "West, Mrs. Edwy Arthur (Ada Mary Worth)",
           "female",
           2
          ],
          [
           "Jerwan, Mrs. Amin S (Marie Marthe Thuillard)",
           "female",
           2
          ],
          [
           "Strandberg, Miss. Ida Sofia",
           "female",
           3
          ],
          [
           "Clifford, Mr. George Quincy",
           "male",
           1
          ],
          [
           "Renouf, Mr. Peter Henry",
           "male",
           2
          ],
          [
           "Braund, Mr. Lewis Richard",
           "male",
           3
          ],
          [
           "Karlsson, Mr. Nils August",
           "male",
           3
          ],
          [
           "Hirvonen, Miss. Hildur E",
           "female",
           3
          ],
          [
           "Goodwin, Master. Harold Victor",
           "male",
           3
          ],
          [
           "Frost, Mr. Anthony Wood \"Archie\"",
           "male",
           2
          ],
          [
           "Rouse, Mr. Richard Henry",
           "male",
           3
          ],
          [
           "Turkula, Mrs. (Hedwig)",
           "female",
           3
          ],
          [
           "Bishop, Mr. Dickinson H",
           "male",
           1
          ],
          [
           "Lefebre, Miss. Jeannie",
           "female",
           3
          ],
          [
           "Hoyt, Mrs. Frederick Maxfield (Jane Anne Forby)",
           "female",
           1
          ],
          [
           "Kent, Mr. Edward Austin",
           "male",
           1
          ],
          [
           "Somerton, Mr. Francis William",
           "male",
           3
          ],
          [
           "Coutts, Master. Eden Leslie \"Neville\"",
           "male",
           3
          ],
          [
           "Hagland, Mr. Konrad Mathias Reiersen",
           "male",
           3
          ],
          [
           "Windelov, Mr. Einar",
           "male",
           3
          ],
          [
           "Molson, Mr. Harry Markland",
           "male",
           1
          ],
          [
           "Artagaveytia, Mr. Ramon",
           "male",
           1
          ],
          [
           "Stanley, Mr. Edward Roland",
           "male",
           3
          ],
          [
           "Yousseff, Mr. Gerious",
           "male",
           3
          ],
          [
           "Eustis, Miss. Elizabeth Mussey",
           "female",
           1
          ],
          [
           "Shellard, Mr. Frederick William",
           "male",
           3
          ],
          [
           "Allison, Mrs. Hudson J C (Bessie Waldo Daniels)",
           "female",
           1
          ],
          [
           "Svensson, Mr. Olof",
           "male",
           3
          ],
          [
           "Calic, Mr. Petar",
           "male",
           3
          ],
          [
           "Canavan, Miss. Mary",
           "female",
           3
          ],
          [
           "O'Sullivan, Miss. Bridget Mary",
           "female",
           3
          ],
          [
           "Laitinen, Miss. Kristina Sofia",
           "female",
           3
          ],
          [
           "Maioni, Miss. Roberta",
           "female",
           1
          ],
          [
           "Penasco y Castellana, Mr. Victor de Satode",
           "male",
           1
          ],
          [
           "Quick, Mrs. Frederick Charles (Jane Richards)",
           "female",
           2
          ],
          [
           "Bradley, Mr. George (\"George Arthur Brayton\")",
           "male",
           1
          ],
          [
           "Olsen, Mr. Henry Margido",
           "male",
           3
          ],
          [
           "Lang, Mr. Fang",
           "male",
           3
          ],
          [
           "Daly, Mr. Eugene Patrick",
           "male",
           3
          ],
          [
           "Webber, Mr. James",
           "male",
           3
          ],
          [
           "McGough, Mr. James Robert",
           "male",
           1
          ],
          [
           "Rothschild, Mrs. Martin (Elizabeth L. Barrett)",
           "female",
           1
          ],
          [
           "Coleff, Mr. Satio",
           "male",
           3
          ],
          [
           "Walker, Mr. William Anderson",
           "male",
           1
          ],
          [
           "Lemore, Mrs. (Amelia Milley)",
           "female",
           2
          ],
          [
           "Ryan, Mr. Patrick",
           "male",
           3
          ],
          [
           "Angle, Mrs. William A (Florence \"Mary\" Agnes Hughes)",
           "female",
           2
          ],
          [
           "Pavlovic, Mr. Stefo",
           "male",
           3
          ],
          [
           "Perreault, Miss. Anne",
           "female",
           1
          ],
          [
           "Vovk, Mr. Janko",
           "male",
           3
          ],
          [
           "Lahoud, Mr. Sarkis",
           "male",
           3
          ],
          [
           "Hippach, Mrs. Louis Albert (Ida Sophia Fischer)",
           "female",
           1
          ],
          [
           "Kassem, Mr. Fared",
           "male",
           3
          ],
          [
           "Farrell, Mr. James",
           "male",
           3
          ],
          [
           "Ridsdale, Miss. Lucy",
           "female",
           2
          ],
          [
           "Farthing, Mr. John",
           "male",
           1
          ],
          [
           "Salonen, Mr. Johan Werner",
           "male",
           3
          ],
          [
           "Hocking, Mr. Richard George",
           "male",
           2
          ],
          [
           "Quick, Miss. Phyllis May",
           "female",
           2
          ],
          [
           "Toufik, Mr. Nakli",
           "male",
           3
          ],
          [
           "Elias, Mr. Joseph Jr",
           "male",
           3
          ],
          [
           "Peter, Mrs. Catherine (Catherine Rizk)",
           "female",
           3
          ],
          [
           "Cacic, Miss. Marija",
           "female",
           3
          ],
          [
           "Hart, Miss. Eva Miriam",
           "female",
           2
          ],
          [
           "Butt, Major. Archibald Willingham",
           "male",
           1
          ],
          [
           "LeRoy, Miss. Bertha",
           "female",
           1
          ],
          [
           "Risien, Mr. Samuel Beard",
           "male",
           3
          ],
          [
           "Frolicher, Miss. Hedwig Margaritha",
           "female",
           1
          ],
          [
           "Crosby, Miss. Harriet R",
           "female",
           1
          ],
          [
           "Andersson, Miss. Ingeborg Constanzia",
           "female",
           3
          ],
          [
           "Andersson, Miss. Sigrid Elisabeth",
           "female",
           3
          ],
          [
           "Beane, Mr. Edward",
           "male",
           2
          ],
          [
           "Douglas, Mr. Walter Donald",
           "male",
           1
          ],
          [
           "Nicholson, Mr. Arthur Ernest",
           "male",
           1
          ],
          [
           "Beane, Mrs. Edward (Ethel Clarke)",
           "female",
           2
          ],
          [
           "Padro y Manent, Mr. Julian",
           "male",
           2
          ],
          [
           "Goldsmith, Mr. Frank John",
           "male",
           3
          ],
          [
           "Davies, Master. John Morgan Jr",
           "male",
           2
          ],
          [
           "Thayer, Mr. John Borland Jr",
           "male",
           1
          ],
          [
           "Sharp, Mr. Percival James R",
           "male",
           2
          ],
          [
           "O'Brien, Mr. Timothy",
           "male",
           3
          ],
          [
           "Leeni, Mr. Fahim (\"Philip Zenni\")",
           "male",
           3
          ],
          [
           "Ohman, Miss. Velin",
           "female",
           3
          ],
          [
           "Wright, Mr. George",
           "male",
           1
          ],
          [
           "Duff Gordon, Lady. (Lucille Christiana Sutherland) (\"Mrs Morgan\")",
           "female",
           1
          ],
          [
           "Robbins, Mr. Victor",
           "male",
           1
          ],
          [
           "Taussig, Mrs. Emil (Tillie Mandelbaum)",
           "female",
           1
          ],
          [
           "de Messemaeker, Mrs. Guillaume Joseph (Emma)",
           "female",
           3
          ],
          [
           "Morrow, Mr. Thomas Rowan",
           "male",
           3
          ],
          [
           "Sivic, Mr. Husein",
           "male",
           3
          ],
          [
           "Norman, Mr. Robert Douglas",
           "male",
           2
          ],
          [
           "Simmons, Mr. John",
           "male",
           3
          ],
          [
           "Meanwell, Miss. (Marion Ogden)",
           "female",
           3
          ],
          [
           "Davies, Mr. Alfred J",
           "male",
           3
          ],
          [
           "Stoytcheff, Mr. Ilia",
           "male",
           3
          ],
          [
           "Palsson, Mrs. Nils (Alma Cornelia Berglund)",
           "female",
           3
          ],
          [
           "Doharr, Mr. Tannous",
           "male",
           3
          ],
          [
           "Jonsson, Mr. Carl",
           "male",
           3
          ],
          [
           "Harris, Mr. George",
           "male",
           2
          ],
          [
           "Appleton, Mrs. Edward Dale (Charlotte Lamson)",
           "female",
           1
          ],
          [
           "Flynn, Mr. John Irwin (\"Irving\")",
           "male",
           1
          ],
          [
           "Kelly, Miss. Mary",
           "female",
           3
          ],
          [
           "Rush, Mr. Alfred George John",
           "male",
           3
          ],
          [
           "Patchett, Mr. George",
           "male",
           3
          ],
          [
           "Garside, Miss. Ethel",
           "female",
           2
          ],
          [
           "Silvey, Mrs. William Baird (Alice Munger)",
           "female",
           1
          ],
          [
           "Caram, Mrs. Joseph (Maria Elias)",
           "female",
           3
          ],
          [
           "Jussila, Mr. Eiriik",
           "male",
           3
          ],
          [
           "Christy, Miss. Julie Rachel",
           "female",
           2
          ],
          [
           "Thayer, Mrs. John Borland (Marian Longstreth Morris)",
           "female",
           1
          ],
          [
           "Downton, Mr. William James",
           "male",
           2
          ],
          [
           "Ross, Mr. John Hugo",
           "male",
           1
          ],
          [
           "Paulner, Mr. Uscher",
           "male",
           3
          ],
          [
           "Taussig, Miss. Ruth",
           "female",
           1
          ],
          [
           "Jarvis, Mr. John Denzil",
           "male",
           2
          ],
          [
           "Frolicher-Stehli, Mr. Maxmillian",
           "male",
           1
          ],
          [
           "Gilinski, Mr. Eliezer",
           "male",
           3
          ],
          [
           "Murdlin, Mr. Joseph",
           "male",
           3
          ],
          [
           "Rintamaki, Mr. Matti",
           "male",
           3
          ],
          [
           "Stephenson, Mrs. Walter Bertram (Martha Eustis)",
           "female",
           1
          ],
          [
           "Elsbury, Mr. William James",
           "male",
           3
          ],
          [
           "Bourke, Miss. Mary",
           "female",
           3
          ],
          [
           "Chapman, Mr. John Henry",
           "male",
           2
          ],
          [
           "Van Impe, Mr. Jean Baptiste",
           "male",
           3
          ],
          [
           "Leitch, Miss. Jessie Wills",
           "female",
           2
          ],
          [
           "Johnson, Mr. Alfred",
           "male",
           3
          ],
          [
           "Boulos, Mr. Hanna",
           "male",
           3
          ],
          [
           "Duff Gordon, Sir. Cosmo Edmund (\"Mr Morgan\")",
           "male",
           1
          ],
          [
           "Jacobsohn, Mrs. Sidney Samuel (Amy Frances Christy)",
           "female",
           2
          ],
          [
           "Slabenoff, Mr. Petco",
           "male",
           3
          ],
          [
           "Harrington, Mr. Charles H",
           "male",
           1
          ],
          [
           "Torber, Mr. Ernst William",
           "male",
           3
          ],
          [
           "Homer, Mr. Harry (\"Mr E Haven\")",
           "male",
           1
          ],
          [
           "Lindell, Mr. Edvard Bengtsson",
           "male",
           3
          ],
          [
           "Karaic, Mr. Milan",
           "male",
           3
          ],
          [
           "Daniel, Mr. Robert Williams",
           "male",
           1
          ],
          [
           "Laroche, Mrs. Joseph (Juliette Marie Louise Lafargue)",
           "female",
           2
          ],
          [
           "Shutes, Miss. Elizabeth W",
           "female",
           1
          ],
          [
           "Andersson, Mrs. Anders Johan (Alfrida Konstantia Brogren)",
           "female",
           3
          ],
          [
           "Jardin, Mr. Jose Neto",
           "male",
           3
          ],
          [
           "Murphy, Miss. Margaret Jane",
           "female",
           3
          ],
          [
           "Horgan, Mr. John",
           "male",
           3
          ],
          [
           "Brocklebank, Mr. William Alfred",
           "male",
           3
          ],
          [
           "Herman, Miss. Alice",
           "female",
           2
          ],
          [
           "Danbom, Mr. Ernst Gilbert",
           "male",
           3
          ],
          [
           "Lobb, Mrs. William Arthur (Cordelia K Stanlick)",
           "female",
           3
          ],
          [
           "Becker, Miss. Marion Louise",
           "female",
           2
          ],
          [
           "Gavey, Mr. Lawrence",
           "male",
           2
          ],
          [
           "Yasbeck, Mr. Antoni",
           "male",
           3
          ],
          [
           "Kimball, Mr. Edwin Nelson Jr",
           "male",
           1
          ],
          [
           "Nakid, Mr. Sahid",
           "male",
           3
          ],
          [
           "Hansen, Mr. Henry Damsgaard",
           "male",
           3
          ],
          [
           "Bowen, Mr. David John \"Dai\"",
           "male",
           3
          ],
          [
           "Sutton, Mr. Frederick",
           "male",
           1
          ],
          [
           "Kirkland, Rev. Charles Leonard",
           "male",
           2
          ],
          [
           "Longley, Miss. Gretchen Fiske",
           "female",
           1
          ],
          [
           "Bostandyeff, Mr. Guentcho",
           "male",
           3
          ],
          [
           "O'Connell, Mr. Patrick D",
           "male",
           3
          ],
          [
           "Barkworth, Mr. Algernon Henry Wilson",
           "male",
           1
          ],
          [
           "Lundahl, Mr. Johan Svensson",
           "male",
           3
          ],
          [
           "Stahelin-Maeglin, Dr. Max",
           "male",
           1
          ],
          [
           "Parr, Mr. William Henry Marsh",
           "male",
           1
          ],
          [
           "Skoog, Miss. Mabel",
           "female",
           3
          ],
          [
           "Davis, Miss. Mary",
           "female",
           2
          ],
          [
           "Leinonen, Mr. Antti Gustaf",
           "male",
           3
          ],
          [
           "Collyer, Mr. Harvey",
           "male",
           2
          ],
          [
           "Panula, Mrs. Juha (Maria Emilia Ojala)",
           "female",
           3
          ],
          [
           "Thorneycroft, Mr. Percival",
           "male",
           3
          ],
          [
           "Jensen, Mr. Hans Peder",
           "male",
           3
          ],
          [
           "Sagesser, Mlle. Emma",
           "female",
           1
          ],
          [
           "Skoog, Miss. Margit Elizabeth",
           "female",
           3
          ],
          [
           "Foo, Mr. Choong",
           "male",
           3
          ],
          [
           "Baclini, Miss. Eugenie",
           "female",
           3
          ],
          [
           "Harper, Mr. Henry Sleeper",
           "male",
           1
          ],
          [
           "Cor, Mr. Liudevit",
           "male",
           3
          ],
          [
           "Simonius-Blumer, Col. Oberst Alfons",
           "male",
           1
          ],
          [
           "Willey, Mr. Edward",
           "male",
           3
          ],
          [
           "Stanley, Miss. Amy Zillah Elsie",
           "female",
           3
          ],
          [
           "Mitkoff, Mr. Mito",
           "male",
           3
          ],
          [
           "Doling, Miss. Elsie",
           "female",
           2
          ],
          [
           "Kalvik, Mr. Johannes Halvorsen",
           "male",
           3
          ],
          [
           "O'Leary, Miss. Hanora \"Norah\"",
           "female",
           3
          ],
          [
           "Hegarty, Miss. Hanora \"Nora\"",
           "female",
           3
          ],
          [
           "Hickman, Mr. Leonard Mark",
           "male",
           2
          ],
          [
           "Radeff, Mr. Alexander",
           "male",
           3
          ],
          [
           "Bourke, Mrs. John (Catherine)",
           "female",
           3
          ],
          [
           "Eitemiller, Mr. George Floyd",
           "male",
           2
          ],
          [
           "Newell, Mr. Arthur Webster",
           "male",
           1
          ],
          [
           "Frauenthal, Dr. Henry William",
           "male",
           1
          ],
          [
           "Badt, Mr. Mohamed",
           "male",
           3
          ],
          [
           "Colley, Mr. Edward Pomeroy",
           "male",
           1
          ],
          [
           "Coleff, Mr. Peju",
           "male",
           3
          ],
          [
           "Lindqvist, Mr. Eino William",
           "male",
           3
          ],
          [
           "Hickman, Mr. Lewis",
           "male",
           2
          ],
          [
           "Butler, Mr. Reginald Fenton",
           "male",
           2
          ],
          [
           "Rommetvedt, Mr. Knud Paust",
           "male",
           3
          ],
          [
           "Cook, Mr. Jacob",
           "male",
           3
          ],
          [
           "Taylor, Mrs. Elmer Zebley (Juliet Cummins Wright)",
           "female",
           1
          ],
          [
           "Brown, Mrs. Thomas William Solomon (Elizabeth Catherine Ford)",
           "female",
           2
          ],
          [
           "Davidson, Mr. Thornton",
           "male",
           1
          ],
          [
           "Mitchell, Mr. Henry Michael",
           "male",
           2
          ],
          [
           "Wilhelms, Mr. Charles",
           "male",
           2
          ],
          [
           "Watson, Mr. Ennis Hastings",
           "male",
           2
          ],
          [
           "Edvardsson, Mr. Gustaf Hjalmar",
           "male",
           3
          ],
          [
           "Sawyer, Mr. Frederick Charles",
           "male",
           3
          ],
          [
           "Turja, Miss. Anna Sofia",
           "female",
           3
          ],
          [
           "Goodwin, Mrs. Frederick (Augusta Tyler)",
           "female",
           3
          ],
          [
           "Cardeza, Mr. Thomas Drake Martinez",
           "male",
           1
          ],
          [
           "Peters, Miss. Katie",
           "female",
           3
          ],
          [
           "Hassab, Mr. Hammad",
           "male",
           1
          ],
          [
           "Olsvigen, Mr. Thor Anderson",
           "male",
           3
          ],
          [
           "Goodwin, Mr. Charles Edward",
           "male",
           3
          ],
          [
           "Brown, Mr. Thomas William Solomon",
           "male",
           2
          ],
          [
           "Laroche, Mr. Joseph Philippe Lemercier",
           "male",
           2
          ],
          [
           "Panula, Mr. Jaako Arnold",
           "male",
           3
          ],
          [
           "Dakic, Mr. Branko",
           "male",
           3
          ],
          [
           "Fischer, Mr. Eberhard Thelander",
           "male",
           3
          ],
          [
           "Madill, Miss. Georgette Alexandra",
           "female",
           1
          ],
          [
           "Dick, Mr. Albert Adrian",
           "male",
           1
          ],
          [
           "Karun, Miss. Manca",
           "female",
           3
          ],
          [
           "Lam, Mr. Ali",
           "male",
           3
          ],
          [
           "Saad, Mr. Khalil",
           "male",
           3
          ],
          [
           "Weir, Col. John",
           "male",
           1
          ],
          [
           "Chapman, Mr. Charles Henry",
           "male",
           2
          ],
          [
           "Kelly, Mr. James",
           "male",
           3
          ],
          [
           "Mullens, Miss. Katherine \"Katie\"",
           "female",
           3
          ],
          [
           "Thayer, Mr. John Borland",
           "male",
           1
          ],
          [
           "Humblen, Mr. Adolf Mathias Nicolai Olsen",
           "male",
           3
          ],
          [
           "Astor, Mrs. John Jacob (Madeleine Talmadge Force)",
           "female",
           1
          ],
          [
           "Silverthorne, Mr. Spencer Victor",
           "male",
           1
          ],
          [
           "Barbara, Miss. Saiide",
           "female",
           3
          ],
          [
           "Gallagher, Mr. Martin",
           "male",
           3
          ],
          [
           "Hansen, Mr. Henrik Juul",
           "male",
           3
          ],
          [
           "Morley, Mr. Henry Samuel (\"Mr Henry Marshall\")",
           "male",
           2
          ],
          [
           "Kelly, Mrs. Florence \"Fannie\"",
           "female",
           2
          ],
          [
           "Calderhead, Mr. Edward Pennington",
           "male",
           1
          ],
          [
           "Cleaver, Miss. Alice",
           "female",
           1
          ],
          [
           "Moubarek, Master. Halim Gonios (\"William George\")",
           "male",
           3
          ],
          [
           "Mayne, Mlle. Berthe Antonine (\"Mrs de Villiers\")",
           "female",
           1
          ],
          [
           "Klaber, Mr. Herman",
           "male",
           1
          ],
          [
           "Taylor, Mr. Elmer Zebley",
           "male",
           1
          ],
          [
           "Larsson, Mr. August Viktor",
           "male",
           3
          ],
          [
           "Greenberg, Mr. Samuel",
           "male",
           2
          ],
          [
           "Soholt, Mr. Peter Andreas Lauritz Andersen",
           "male",
           3
          ],
          [
           "Endres, Miss. Caroline Louise",
           "female",
           1
          ],
          [
           "Troutt, Miss. Edwina Celia \"Winnie\"",
           "female",
           2
          ],
          [
           "McEvoy, Mr. Michael",
           "male",
           3
          ],
          [
           "Johnson, Mr. Malkolm Joackim",
           "male",
           3
          ],
          [
           "Harper, Miss. Annie Jessie \"Nina\"",
           "female",
           2
          ],
          [
           "Jensen, Mr. Svend Lauritz",
           "male",
           3
          ],
          [
           "Gillespie, Mr. William Henry",
           "male",
           2
          ],
          [
           "Hodges, Mr. Henry Price",
           "male",
           2
          ],
          [
           "Chambers, Mr. Norman Campbell",
           "male",
           1
          ],
          [
           "Oreskovic, Mr. Luka",
           "male",
           3
          ],
          [
           "Renouf, Mrs. Peter Henry (Lillian Jefferys)",
           "female",
           2
          ],
          [
           "Mannion, Miss. Margareth",
           "female",
           3
          ],
          [
           "Bryhl, Mr. Kurt Arnold Gottfrid",
           "male",
           2
          ],
          [
           "Ilmakangas, Miss. Pieta Sofia",
           "female",
           3
          ],
          [
           "Allen, Miss. Elisabeth Walton",
           "female",
           1
          ],
          [
           "Hassan, Mr. Houssein G N",
           "male",
           3
          ],
          [
           "Knight, Mr. Robert J",
           "male",
           2
          ],
          [
           "Berriman, Mr. William John",
           "male",
           2
          ],
          [
           "Troupiansky, Mr. Moses Aaron",
           "male",
           2
          ],
          [
           "Williams, Mr. Leslie",
           "male",
           3
          ],
          [
           "Ford, Mrs. Edward (Margaret Ann Watson)",
           "female",
           3
          ],
          [
           "Lesurer, Mr. Gustave J",
           "male",
           1
          ],
          [
           "Ivanoff, Mr. Kanio",
           "male",
           3
          ],
          [
           "Nankoff, Mr. Minko",
           "male",
           3
          ],
          [
           "Hawksford, Mr. Walter James",
           "male",
           1
          ],
          [
           "Cavendish, Mr. Tyrell William",
           "male",
           1
          ],
          [
           "Ryerson, Miss. Susan Parker \"Suzette\"",
           "female",
           1
          ],
          [
           "McNamee, Mr. Neal",
           "male",
           3
          ],
          [
           "Stranden, Mr. Juho",
           "male",
           3
          ],
          [
           "Crosby, Capt. Edward Gifford",
           "male",
           1
          ],
          [
           "Abbott, Mr. Rossmore Edward",
           "male",
           3
          ],
          [
           "Sinkkonen, Miss. Anna",
           "female",
           2
          ],
          [
           "Marvin, Mr. Daniel Warner",
           "male",
           1
          ],
          [
           "Connaghton, Mr. Michael",
           "male",
           3
          ],
          [
           "Wells, Miss. Joan",
           "female",
           2
          ],
          [
           "Moor, Master. Meier",
           "male",
           3
          ],
          [
           "Vande Velde, Mr. Johannes Joseph",
           "male",
           3
          ],
          [
           "Jonkoff, Mr. Lalio",
           "male",
           3
          ],
          [
           "Herman, Mrs. Samuel (Jane Laver)",
           "female",
           2
          ],
          [
           "Hamalainen, Master. Viljo",
           "male",
           2
          ],
          [
           "Carlsson, Mr. August Sigfrid",
           "male",
           3
          ],
          [
           "Bailey, Mr. Percy Andrew",
           "male",
           2
          ],
          [
           "Theobald, Mr. Thomas Leonard",
           "male",
           3
          ],
          [
           "Rothes, the Countess. of (Lucy Noel Martha Dyer-Edwards)",
           "female",
           1
          ],
          [
           "Garfirth, Mr. John",
           "male",
           3
          ],
          [
           "Nirva, Mr. Iisakki Antino Aijo",
           "male",
           3
          ],
          [
           "Barah, Mr. Hanna Assi",
           "male",
           3
          ],
          [
           "Carter, Mrs. William Ernest (Lucile Polk)",
           "female",
           1
          ],
          [
           "Eklund, Mr. Hans Linus",
           "male",
           3
          ],
          [
           "Hogeboom, Mrs. John C (Anna Andrews)",
           "female",
           1
          ],
          [
           "Brewe, Dr. Arthur Jackson",
           "male",
           1
          ],
          [
           "Mangan, Miss. Mary",
           "female",
           3
          ],
          [
           "Moran, Mr. Daniel J",
           "male",
           3
          ],
          [
           "Gronnestad, Mr. Daniel Danielsen",
           "male",
           3
          ],
          [
           "Lievens, Mr. Rene Aime",
           "male",
           3
          ],
          [
           "Jensen, Mr. Niels Peder",
           "male",
           3
          ],
          [
           "Mack, Mrs. (Mary)",
           "female",
           2
          ],
          [
           "Elias, Mr. Dibo",
           "male",
           3
          ],
          [
           "Hocking, Mrs. Elizabeth (Eliza Needs)",
           "female",
           2
          ],
          [
           "Myhrman, Mr. Pehr Fabian Oliver Malkolm",
           "male",
           3
          ],
          [
           "Tobin, Mr. Roger",
           "male",
           3
          ],
          [
           "Emanuel, Miss. Virginia Ethel",
           "female",
           3
          ],
          [
           "Kilgannon, Mr. Thomas J",
           "male",
           3
          ],
          [
           "Robert, Mrs. Edward Scott (Elisabeth Walton McMillan)",
           "female",
           1
          ],
          [
           "Ayoub, Miss. Banoura",
           "female",
           3
          ],
          [
           "Dick, Mrs. Albert Adrian (Vera Gillespie)",
           "female",
           1
          ],
          [
           "Long, Mr. Milton Clyde",
           "male",
           1
          ],
          [
           "Johnston, Mr. Andrew G",
           "male",
           3
          ],
          [
           "Ali, Mr. William",
           "male",
           3
          ],
          [
           "Harmer, Mr. Abraham (David Lishin)",
           "male",
           3
          ],
          [
           "Sjoblom, Miss. Anna Sofia",
           "female",
           3
          ],
          [
           "Rice, Master. George Hugh",
           "male",
           3
          ],
          [
           "Dean, Master. Bertram Vere",
           "male",
           3
          ],
          [
           "Guggenheim, Mr. Benjamin",
           "male",
           1
          ],
          [
           "Keane, Mr. Andrew \"Andy\"",
           "male",
           3
          ],
          [
           "Gaskell, Mr. Alfred",
           "male",
           2
          ],
          [
           "Sage, Miss. Stella Anna",
           "female",
           3
          ],
          [
           "Hoyt, Mr. William Fisher",
           "male",
           1
          ],
          [
           "Dantcheff, Mr. Ristiu",
           "male",
           3
          ],
          [
           "Otter, Mr. Richard",
           "male",
           2
          ],
          [
           "Leader, Dr. Alice (Farnham)",
           "female",
           1
          ],
          [
           "Osman, Mrs. Mara",
           "female",
           3
          ],
          [
           "Ibrahim Shawah, Mr. Yousseff",
           "male",
           3
          ],
          [
           "Van Impe, Mrs. Jean Baptiste (Rosalie Paula Govaert)",
           "female",
           3
          ],
          [
           "Ponesell, Mr. Martin",
           "male",
           2
          ],
          [
           "Collyer, Mrs. Harvey (Charlotte Annie Tate)",
           "female",
           2
          ],
          [
           "Carter, Master. William Thornton II",
           "male",
           1
          ],
          [
           "Thomas, Master. Assad Alexander",
           "male",
           3
          ],
          [
           "Hedman, Mr. Oskar Arvid",
           "male",
           3
          ],
          [
           "Johansson, Mr. Karl Johan",
           "male",
           3
          ],
          [
           "Andrews, Mr. Thomas Jr",
           "male",
           1
          ],
          [
           "Pettersson, Miss. Ellen Natalia",
           "female",
           3
          ],
          [
           "Meyer, Mr. August",
           "male",
           2
          ],
          [
           "Chambers, Mrs. Norman Campbell (Bertha Griggs)",
           "female",
           1
          ],
          [
           "Alexander, Mr. William",
           "male",
           3
          ],
          [
           "Lester, Mr. James",
           "male",
           3
          ],
          [
           "Slemen, Mr. Richard James",
           "male",
           2
          ],
          [
           "Andersson, Miss. Ebba Iris Alfrida",
           "female",
           3
          ],
          [
           "Tomlin, Mr. Ernest Portage",
           "male",
           3
          ],
          [
           "Fry, Mr. Richard",
           "male",
           1
          ],
          [
           "Heininen, Miss. Wendla Maria",
           "female",
           3
          ],
          [
           "Mallet, Mr. Albert",
           "male",
           2
          ],
          [
           "Holm, Mr. John Fredrik Alexander",
           "male",
           3
          ],
          [
           "Skoog, Master. Karl Thorsten",
           "male",
           3
          ],
          [
           "Hays, Mrs. Charles Melville (Clara Jennings Gregg)",
           "female",
           1
          ],
          [
           "Lulic, Mr. Nikola",
           "male",
           3
          ],
          [
           "Reuchlin, Jonkheer. John George",
           "male",
           1
          ],
          [
           "Moor, Mrs. (Beila)",
           "female",
           3
          ],
          [
           "Panula, Master. Urho Abraham",
           "male",
           3
          ],
          [
           "Flynn, Mr. John",
           "male",
           3
          ],
          [
           "Lam, Mr. Len",
           "male",
           3
          ],
          [
           "Mallet, Master. Andre",
           "male",
           2
          ],
          [
           "McCormack, Mr. Thomas Joseph",
           "male",
           3
          ],
          [
           "Stone, Mrs. George Nelson (Martha Evelyn)",
           "female",
           1
          ],
          [
           "Yasbeck, Mrs. Antoni (Selini Alexander)",
           "female",
           3
          ],
          [
           "Richards, Master. George Sibley",
           "male",
           2
          ],
          [
           "Saad, Mr. Amin",
           "male",
           3
          ],
          [
           "Augustsson, Mr. Albert",
           "male",
           3
          ],
          [
           "Allum, Mr. Owen George",
           "male",
           3
          ],
          [
           "Compton, Miss. Sara Rebecca",
           "female",
           1
          ],
          [
           "Pasic, Mr. Jakob",
           "male",
           3
          ],
          [
           "Sirota, Mr. Maurice",
           "male",
           3
          ],
          [
           "Chip, Mr. Chang",
           "male",
           3
          ],
          [
           "Marechal, Mr. Pierre",
           "male",
           1
          ],
          [
           "Alhomaki, Mr. Ilmari Rudolf",
           "male",
           3
          ],
          [
           "Mudd, Mr. Thomas Charles",
           "male",
           2
          ],
          [
           "Serepeca, Miss. Augusta",
           "female",
           1
          ],
          [
           "Lemberopolous, Mr. Peter L",
           "male",
           3
          ],
          [
           "Culumovic, Mr. Jeso",
           "male",
           3
          ],
          [
           "Abbing, Mr. Anthony",
           "male",
           3
          ],
          [
           "Sage, Mr. Douglas Bullen",
           "male",
           3
          ],
          [
           "Markoff, Mr. Marin",
           "male",
           3
          ],
          [
           "Harper, Rev. John",
           "male",
           2
          ],
          [
           "Goldenberg, Mrs. Samuel L (Edwiga Grabowska)",
           "female",
           1
          ],
          [
           "Andersson, Master. Sigvard Harald Elias",
           "male",
           3
          ],
          [
           "Svensson, Mr. Johan",
           "male",
           3
          ],
          [
           "Boulos, Miss. Nourelain",
           "female",
           3
          ],
          [
           "Lines, Miss. Mary Conover",
           "female",
           1
          ],
          [
           "Carter, Mrs. Ernest Courtenay (Lilian Hughes)",
           "female",
           2
          ],
          [
           "Aks, Mrs. Sam (Leah Rosen)",
           "female",
           3
          ],
          [
           "Wick, Mrs. George Dennick (Mary Hitchcock)",
           "female",
           1
          ],
          [
           "Daly, Mr. Peter Denis ",
           "male",
           1
          ],
          [
           "Baclini, Mrs. Solomon (Latifa Qurban)",
           "female",
           3
          ],
          [
           "Razi, Mr. Raihed",
           "male",
           3
          ],
          [
           "Hansen, Mr. Claus Peter",
           "male",
           3
          ],
          [
           "Giles, Mr. Frederick Edward",
           "male",
           2
          ],
          [
           "Swift, Mrs. Frederick Joel (Margaret Welles Barron)",
           "female",
           1
          ],
          [
           "Sage, Miss. Dorothy Edith \"Dolly\"",
           "female",
           3
          ],
          [
           "Gill, Mr. John William",
           "male",
           2
          ],
          [
           "Bystrom, Mrs. (Karolina)",
           "female",
           2
          ],
          [
           "Duran y More, Miss. Asuncion",
           "female",
           2
          ],
          [
           "Roebling, Mr. Washington Augustus II",
           "male",
           1
          ],
          [
           "van Melkebeke, Mr. Philemon",
           "male",
           3
          ],
          [
           "Johnson, Master. Harold Theodor",
           "male",
           3
          ],
          [
           "Balkic, Mr. Cerin",
           "male",
           3
          ],
          [
           "Beckwith, Mrs. Richard Leonard (Sallie Monypeny)",
           "female",
           1
          ],
          [
           "Carlsson, Mr. Frans Olof",
           "male",
           1
          ],
          [
           "Vander Cruyssen, Mr. Victor",
           "male",
           3
          ],
          [
           "Abelson, Mrs. Samuel (Hannah Wizosky)",
           "female",
           2
          ],
          [
           "Najib, Miss. Adele Kiamie \"Jane\"",
           "female",
           3
          ],
          [
           "Gustafsson, Mr. Alfred Ossian",
           "male",
           3
          ],
          [
           "Petroff, Mr. Nedelio",
           "male",
           3
          ],
          [
           "Laleff, Mr. Kristo",
           "male",
           3
          ],
          [
           "Potter, Mrs. Thomas Jr (Lily Alexenia Wilson)",
           "female",
           1
          ],
          [
           "Shelley, Mrs. William (Imanita Parrish Hall)",
           "female",
           2
          ],
          [
           "Markun, Mr. Johann",
           "male",
           3
          ],
          [
           "Dahlberg, Miss. Gerda Ulrika",
           "female",
           3
          ],
          [
           "Banfield, Mr. Frederick James",
           "male",
           2
          ],
          [
           "Sutehall, Mr. Henry Jr",
           "male",
           3
          ],
          [
           "Rice, Mrs. William (Margaret Norton)",
           "female",
           3
          ],
          [
           "Montvila, Rev. Juozas",
           "male",
           2
          ],
          [
           "Graham, Miss. Margaret Edith",
           "female",
           1
          ],
          [
           "Johnston, Miss. Catherine Helen \"Carrie\"",
           "female",
           3
          ],
          [
           "Behr, Mr. Karl Howell",
           "male",
           1
          ],
          [
           "Dooley, Mr. Patrick",
           "male",
           3
          ]
         ],
         "hovertemplate": "Age=%{x}<br>Fare=%{y}<br>Name=%{customdata[0]}<br>Sex=%{customdata[1]}<br>Pclass=%{customdata[2]}<br>Survived=%{marker.color}<extra></extra>",
         "legendgroup": "",
         "marker": {
          "color": [
           0,
           1,
           1,
           1,
           0,
           0,
           0,
           0,
           1,
           1,
           1,
           1,
           0,
           0,
           0,
           1,
           0,
           1,
           0,
           1,
           0,
           1,
           1,
           1,
           0,
           1,
           0,
           0,
           1,
           0,
           0,
           1,
           1,
           0,
           0,
           0,
           1,
           0,
           0,
           1,
           0,
           0,
           0,
           1,
           1,
           0,
           0,
           1,
           0,
           0,
           0,
           0,
           1,
           1,
           0,
           1,
           1,
           0,
           1,
           0,
           0,
           1,
           0,
           0,
           0,
           1,
           1,
           0,
           1,
           0,
           0,
           0,
           0,
           0,
           1,
           0,
           0,
           0,
           1,
           1,
           0,
           1,
           1,
           0,
           1,
           1,
           0,
           0,
           1,
           0,
           0,
           0,
           0,
           0,
           0,
           0,
           0,
           1,
           1,
           0,
           0,
           0,
           0,
           0,
           0,
           0,
           1,
           1,
           0,
           1,
           0,
           0,
           0,
           0,
           0,
           0,
           0,
           0,
           0,
           0,
           0,
           0,
           0,
           1,
           0,
           1,
           0,
           1,
           1,
           0,
           0,
           0,
           0,
           1,
           0,
           0,
           1,
           0,
           0,
           0,
           0,
           1,
           1,
           0,
           0,
           0,
           1,
           0,
           0,
           0,
           0,
           1,
           0,
           0,
           0,
           0,
           1,
           0,
           0,
           0,
           0,
           1,
           0,
           0,
           0,
           1,
           1,
           0,
           0,
           0,
           0,
           0,
           1,
           0,
           0,
           0,
           0,
           0,
           0,
           0,
           0,
           0,
           0,
           1,
           1,
           0,
           1,
           1,
           0,
           0,
           1,
           0,
           1,
           1,
           1,
           1,
           0,
           0,
           1,
           0,
           0,
           0,
           0,
           0,
           1,
           0,
           0,
           1,
           1,
           1,
           0,
           1,
           0,
           0,
           0,
           1,
           1,
           0,
           1,
           0,
           1,
           0,
           0,
           0,
           1,
           0,
           1,
           0,
           0,
           0,
           1,
           0,
           0,
           1,
           0,
           0,
           0,
           1,
           0,
           0,
           0,
           1,
           0,
           0,
           0,
           0,
           0,
           1,
           1,
           0,
           0,
           0,
           0,
           0,
           0,
           1,
           1,
           1,
           1,
           1,
           0,
           1,
           0,
           0,
           0,
           0,
           0,
           1,
           1,
           1,
           0,
           1,
           1,
           0,
           1,
           1,
           0,
           0,
           0,
           1,
           0,
           0,
           0,
           1,
           0,
           0,
           1,
           0,
           1,
           1,
           1,
           1,
           0,
           0,
           0,
           0,
           0,
           0,
           1,
           1,
           1,
           1,
           0,
           1,
           0,
           1,
           1,
           1,
           0,
           1,
           1,
           1,
           0,
           0,
           0,
           1,
           1,
           0,
           1,
           1,
           0,
           0,
           1,
           1,
           0,
           1,
           0,
           1,
           1,
           1,
           1,
           0,
           0,
           0,
           1,
           0,
           0,
           1,
           1,
           0,
           1,
           1,
           0,
           0,
           0,
           1,
           1,
           1,
           1,
           0,
           0,
           0,
           0,
           0,
           0,
           0,
           1,
           0,
           1,
           1,
           0,
           0,
           0,
           0,
           0,
           0,
           1,
           1,
           1,
           1,
           1,
           0,
           0,
           0,
           0,
           1,
           1,
           0,
           0,
           0,
           1,
           1,
           0,
           1,
           0,
           0,
           0,
           1,
           0,
           1,
           1,
           1,
           0,
           1,
           1,
           0,
           0,
           0,
           0,
           1,
           1,
           0,
           0,
           0,
           0,
           0,
           0,
           1,
           0,
           0,
           0,
           0,
           1,
           0,
           1,
           0,
           1,
           1,
           0,
           0,
           0,
           0,
           0,
           0,
           0,
           0,
           1,
           1,
           0,
           1,
           1,
           1,
           1,
           0,
           0,
           1,
           0,
           1,
           0,
           0,
           1,
           0,
           0,
           1,
           1,
           1,
           1,
           1,
           1,
           1,
           0,
           0,
           0,
           1,
           0,
           1,
           0,
           1,
           1,
           0,
           1,
           0,
           0,
           0,
           0,
           0,
           0,
           0,
           0,
           1,
           0,
           0,
           1,
           1,
           0,
           0,
           0,
           0,
           0,
           1,
           0,
           0,
           0,
           1,
           1,
           0,
           1,
           0,
           0,
           1,
           0,
           0,
           0,
           0,
           0,
           0,
           1,
           0,
           0,
           0,
           0,
           0,
           0,
           0,
           1,
           0,
           1,
           1,
           0,
           1,
           1,
           0,
           1,
           1,
           0,
           0,
           1,
           0,
           1,
           0,
           1,
           0,
           0,
           1,
           0,
           0,
           1,
           0,
           0,
           0,
           1,
           0,
           0,
           1,
           0,
           1,
           0,
           1,
           0,
           1,
           1,
           0,
           0,
           1,
           0,
           0,
           1,
           1,
           0,
           1,
           1,
           0,
           0,
           1,
           1,
           0,
           1,
           0,
           1,
           1,
           0,
           0,
           0,
           0,
           0,
           0,
           0,
           0,
           0,
           1,
           1,
           1,
           1,
           1,
           0,
           0,
           1,
           1,
           0,
           1,
           1,
           1,
           0,
           0,
           0,
           1,
           0,
           1,
           0,
           0,
           0,
           1,
           0,
           0,
           0,
           0,
           1,
           0,
           0,
           1,
           1,
           0,
           0,
           0,
           1,
           0,
           0,
           1,
           1,
           1,
           0,
           0,
           1,
           0,
           0,
           1,
           0,
           0,
           1,
           0,
           0,
           1,
           1,
           0,
           0,
           0,
           0,
           1,
           0,
           0,
           1,
           0,
           1,
           0,
           0,
           1,
           0,
           0,
           0,
           0,
           0,
           1,
           0,
           1,
           1,
           1,
           0,
           1,
           0,
           1,
           0,
           1,
           0,
           1,
           0,
           0,
           0,
           0,
           0,
           0,
           1,
           0,
           0,
           0,
           1,
           0,
           0,
           0,
           0,
           1,
           1,
           0,
           0,
           1,
           0,
           0,
           0,
           1,
           0,
           1,
           0,
           1,
           0,
           0,
           0,
           0,
           0,
           0,
           0,
           1,
           1,
           1,
           1,
           0,
           0,
           0,
           0,
           1,
           0,
           0,
           1,
           1,
           0,
           0,
           0,
           0,
           1,
           1,
           1,
           1,
           1,
           0,
           1,
           0,
           0,
           0,
           1,
           1,
           0,
           0,
           1,
           0,
           0,
           0,
           1,
           0,
           1,
           1,
           0,
           0,
           1,
           0,
           0,
           0,
           0,
           0,
           0,
           1,
           0,
           0,
           1,
           0,
           1,
           0,
           1,
           0,
           0,
           1,
           0,
           0,
           1,
           1,
           0,
           0,
           1,
           1,
           0,
           0,
           0,
           1,
           0,
           0,
           1,
           1,
           0,
           1,
           0,
           0,
           0,
           0,
           0,
           0,
           0,
           0,
           1,
           0,
           0,
           1,
           0,
           1,
           1,
           1,
           0,
           0,
           0,
           0,
           1,
           0,
           1,
           0,
           0,
           0,
           0,
           0,
           0,
           0,
           1,
           1,
           0,
           0,
           0,
           1,
           1,
           1,
           1,
           0,
           0,
           0,
           0,
           1,
           0,
           0,
           0,
           0,
           0,
           0,
           0,
           0,
           0,
           0,
           1,
           1,
           0,
           1,
           0,
           0,
           0,
           1,
           1,
           1,
           1,
           1,
           0,
           0,
           0,
           1,
           0,
           0,
           1,
           1,
           0,
           0,
           1,
           0,
           0,
           0,
           0,
           0,
           0,
           1,
           0,
           0,
           0,
           1,
           0,
           1,
           1,
           1,
           1,
           0,
           0,
           0,
           1,
           0,
           0,
           1,
           1,
           0,
           0,
           1,
           0,
           1,
           0,
           0,
           1,
           1,
           0,
           0,
           0,
           1,
           1,
           0,
           0,
           0,
           0,
           0,
           0,
           1,
           0,
           1,
           0
          ],
          "coloraxis": "coloraxis",
          "symbol": "circle"
         },
         "mode": "markers",
         "name": "",
         "orientation": "v",
         "showlegend": false,
         "type": "scatter",
         "x": [
          22,
          38,
          26,
          35,
          35,
          null,
          54,
          2,
          27,
          14,
          4,
          58,
          20,
          39,
          14,
          55,
          2,
          null,
          31,
          null,
          35,
          34,
          15,
          28,
          8,
          38,
          null,
          19,
          null,
          null,
          40,
          null,
          null,
          66,
          28,
          42,
          null,
          21,
          18,
          14,
          40,
          27,
          null,
          3,
          19,
          null,
          null,
          null,
          null,
          18,
          7,
          21,
          49,
          29,
          65,
          null,
          21,
          28.5,
          5,
          11,
          22,
          38,
          45,
          4,
          null,
          null,
          29,
          19,
          17,
          26,
          32,
          16,
          21,
          26,
          32,
          25,
          null,
          null,
          0.83,
          30,
          22,
          29,
          null,
          28,
          17,
          33,
          16,
          null,
          23,
          24,
          29,
          20,
          46,
          26,
          59,
          null,
          71,
          23,
          34,
          34,
          28,
          null,
          21,
          33,
          37,
          28,
          21,
          null,
          38,
          null,
          47,
          14.5,
          22,
          20,
          17,
          21,
          70.5,
          29,
          24,
          2,
          21,
          null,
          32.5,
          32.5,
          54,
          12,
          null,
          24,
          null,
          45,
          33,
          20,
          47,
          29,
          25,
          23,
          19,
          37,
          16,
          24,
          null,
          22,
          24,
          19,
          18,
          19,
          27,
          9,
          36.5,
          42,
          51,
          22,
          55.5,
          40.5,
          null,
          51,
          16,
          30,
          null,
          null,
          44,
          40,
          26,
          17,
          1,
          9,
          null,
          45,
          null,
          28,
          61,
          4,
          1,
          21,
          56,
          18,
          null,
          50,
          30,
          36,
          null,
          null,
          9,
          1,
          4,
          null,
          null,
          45,
          40,
          36,
          32,
          19,
          19,
          3,
          44,
          58,
          null,
          42,
          null,
          24,
          28,
          null,
          34,
          45.5,
          18,
          2,
          32,
          26,
          16,
          40,
          24,
          35,
          22,
          30,
          null,
          31,
          27,
          42,
          32,
          30,
          16,
          27,
          51,
          null,
          38,
          22,
          19,
          20.5,
          18,
          null,
          35,
          29,
          59,
          5,
          24,
          null,
          44,
          8,
          19,
          33,
          null,
          null,
          29,
          22,
          30,
          44,
          25,
          24,
          37,
          54,
          null,
          29,
          62,
          30,
          41,
          29,
          null,
          30,
          35,
          50,
          null,
          3,
          52,
          40,
          null,
          36,
          16,
          25,
          58,
          35,
          null,
          25,
          41,
          37,
          null,
          63,
          45,
          null,
          7,
          35,
          65,
          28,
          16,
          19,
          null,
          33,
          30,
          22,
          42,
          22,
          26,
          19,
          36,
          24,
          24,
          null,
          23.5,
          2,
          null,
          50,
          null,
          null,
          19,
          null,
          null,
          0.92,
          null,
          17,
          30,
          30,
          24,
          18,
          26,
          28,
          43,
          26,
          24,
          54,
          31,
          40,
          22,
          27,
          30,
          22,
          null,
          36,
          61,
          36,
          31,
          16,
          null,
          45.5,
          38,
          16,
          null,
          null,
          29,
          41,
          45,
          45,
          2,
          24,
          28,
          25,
          36,
          24,
          40,
          null,
          3,
          42,
          23,
          null,
          15,
          25,
          null,
          28,
          22,
          38,
          null,
          null,
          40,
          29,
          45,
          35,
          null,
          30,
          60,
          null,
          null,
          24,
          25,
          18,
          19,
          22,
          3,
          null,
          22,
          27,
          20,
          19,
          42,
          1,
          32,
          35,
          null,
          18,
          1,
          36,
          null,
          17,
          36,
          21,
          28,
          23,
          24,
          22,
          31,
          46,
          23,
          28,
          39,
          26,
          21,
          28,
          20,
          34,
          51,
          3,
          21,
          null,
          null,
          null,
          33,
          null,
          44,
          null,
          34,
          18,
          30,
          10,
          null,
          21,
          29,
          28,
          18,
          null,
          28,
          19,
          null,
          32,
          28,
          null,
          42,
          17,
          50,
          14,
          21,
          24,
          64,
          31,
          45,
          20,
          25,
          28,
          null,
          4,
          13,
          34,
          5,
          52,
          36,
          null,
          30,
          49,
          null,
          29,
          65,
          null,
          50,
          null,
          48,
          34,
          47,
          48,
          null,
          38,
          null,
          56,
          null,
          0.75,
          null,
          38,
          33,
          23,
          22,
          null,
          34,
          29,
          22,
          2,
          9,
          null,
          50,
          63,
          25,
          null,
          35,
          58,
          30,
          9,
          null,
          21,
          55,
          71,
          21,
          null,
          54,
          null,
          25,
          24,
          17,
          21,
          null,
          37,
          16,
          18,
          33,
          null,
          28,
          26,
          29,
          null,
          36,
          54,
          24,
          47,
          34,
          null,
          36,
          32,
          30,
          22,
          null,
          44,
          null,
          40.5,
          50,
          null,
          39,
          23,
          2,
          null,
          17,
          null,
          30,
          7,
          45,
          30,
          null,
          22,
          36,
          9,
          11,
          32,
          50,
          64,
          19,
          null,
          33,
          8,
          17,
          27,
          null,
          22,
          22,
          62,
          48,
          null,
          39,
          36,
          null,
          40,
          28,
          null,
          null,
          24,
          19,
          29,
          null,
          32,
          62,
          53,
          36,
          null,
          16,
          19,
          34,
          39,
          null,
          32,
          25,
          39,
          54,
          36,
          null,
          18,
          47,
          60,
          22,
          null,
          35,
          52,
          47,
          null,
          37,
          36,
          null,
          49,
          null,
          49,
          24,
          null,
          null,
          44,
          35,
          36,
          30,
          27,
          22,
          40,
          39,
          null,
          null,
          null,
          35,
          24,
          34,
          26,
          4,
          26,
          27,
          42,
          20,
          21,
          21,
          61,
          57,
          21,
          26,
          null,
          80,
          51,
          32,
          null,
          9,
          28,
          32,
          31,
          41,
          null,
          20,
          24,
          2,
          null,
          0.75,
          48,
          19,
          56,
          null,
          23,
          null,
          18,
          21,
          null,
          18,
          24,
          null,
          32,
          23,
          58,
          50,
          40,
          47,
          36,
          20,
          32,
          25,
          null,
          43,
          null,
          40,
          31,
          70,
          31,
          null,
          18,
          24.5,
          18,
          43,
          36,
          null,
          27,
          20,
          14,
          60,
          25,
          14,
          19,
          18,
          15,
          31,
          4,
          null,
          25,
          60,
          52,
          44,
          null,
          49,
          42,
          18,
          35,
          18,
          25,
          26,
          39,
          45,
          42,
          22,
          null,
          24,
          null,
          48,
          29,
          52,
          19,
          38,
          27,
          null,
          33,
          6,
          17,
          34,
          50,
          27,
          20,
          30,
          null,
          25,
          25,
          29,
          11,
          null,
          23,
          23,
          28.5,
          48,
          35,
          null,
          null,
          null,
          36,
          21,
          24,
          31,
          70,
          16,
          30,
          19,
          31,
          4,
          6,
          33,
          23,
          48,
          0.67,
          28,
          18,
          34,
          33,
          null,
          41,
          20,
          36,
          16,
          51,
          null,
          30.5,
          null,
          32,
          24,
          48,
          57,
          null,
          54,
          18,
          null,
          5,
          null,
          43,
          13,
          17,
          29,
          null,
          25,
          25,
          18,
          8,
          1,
          46,
          null,
          16,
          null,
          null,
          25,
          39,
          49,
          31,
          30,
          30,
          34,
          31,
          11,
          0.42,
          27,
          31,
          39,
          18,
          39,
          33,
          26,
          39,
          35,
          6,
          30.5,
          null,
          23,
          31,
          43,
          10,
          52,
          27,
          38,
          27,
          2,
          null,
          null,
          1,
          null,
          62,
          15,
          0.83,
          null,
          23,
          18,
          39,
          21,
          null,
          32,
          null,
          20,
          16,
          30,
          34.5,
          17,
          42,
          null,
          35,
          28,
          null,
          4,
          74,
          9,
          16,
          44,
          18,
          45,
          51,
          24,
          null,
          41,
          21,
          48,
          null,
          24,
          42,
          27,
          31,
          null,
          4,
          26,
          47,
          33,
          47,
          28,
          15,
          20,
          19,
          null,
          56,
          25,
          33,
          22,
          28,
          25,
          39,
          27,
          19,
          null,
          26,
          32
         ],
         "xaxis": "x",
         "y": [
          7.25,
          71.2833,
          7.925,
          53.1,
          8.05,
          8.4583,
          51.8625,
          21.075,
          11.1333,
          30.0708,
          16.7,
          26.55,
          8.05,
          31.275,
          7.8542,
          16,
          29.125,
          13,
          18,
          7.225,
          26,
          13,
          8.0292,
          35.5,
          21.075,
          31.3875,
          7.225,
          263,
          7.8792,
          7.8958,
          27.7208,
          146.5208,
          7.75,
          10.5,
          82.1708,
          52,
          7.2292,
          8.05,
          18,
          11.2417,
          9.475,
          21,
          7.8958,
          41.5792,
          7.8792,
          8.05,
          15.5,
          7.75,
          21.6792,
          17.8,
          39.6875,
          7.8,
          76.7292,
          26,
          61.9792,
          35.5,
          10.5,
          7.2292,
          27.75,
          46.9,
          7.2292,
          80,
          83.475,
          27.9,
          27.7208,
          15.2458,
          10.5,
          8.1583,
          7.925,
          8.6625,
          10.5,
          46.9,
          73.5,
          14.4542,
          56.4958,
          7.65,
          7.8958,
          8.05,
          29,
          12.475,
          9,
          9.5,
          7.7875,
          47.1,
          10.5,
          15.85,
          34.375,
          8.05,
          263,
          8.05,
          8.05,
          7.8542,
          61.175,
          20.575,
          7.25,
          8.05,
          34.6542,
          63.3583,
          23,
          26,
          7.8958,
          7.8958,
          77.2875,
          8.6542,
          7.925,
          7.8958,
          7.65,
          7.775,
          7.8958,
          24.15,
          52,
          14.4542,
          8.05,
          9.825,
          14.4583,
          7.925,
          7.75,
          21,
          247.5208,
          31.275,
          73.5,
          8.05,
          30.0708,
          13,
          77.2875,
          11.2417,
          7.75,
          7.1417,
          22.3583,
          6.975,
          7.8958,
          7.05,
          14.5,
          26,
          13,
          15.0458,
          26.2833,
          53.1,
          9.2167,
          79.2,
          15.2458,
          7.75,
          15.85,
          6.75,
          11.5,
          36.75,
          7.7958,
          34.375,
          26,
          13,
          12.525,
          66.6,
          8.05,
          14.5,
          7.3125,
          61.3792,
          7.7333,
          8.05,
          8.6625,
          69.55,
          16.1,
          15.75,
          7.775,
          8.6625,
          39.6875,
          20.525,
          55,
          27.9,
          25.925,
          56.4958,
          33.5,
          29.125,
          11.1333,
          7.925,
          30.6958,
          7.8542,
          25.4667,
          28.7125,
          13,
          0,
          69.55,
          15.05,
          31.3875,
          39,
          22.025,
          50,
          15.5,
          26.55,
          15.5,
          7.8958,
          13,
          13,
          7.8542,
          26,
          27.7208,
          146.5208,
          7.75,
          8.4042,
          7.75,
          13,
          9.5,
          69.55,
          6.4958,
          7.225,
          8.05,
          10.4625,
          15.85,
          18.7875,
          7.75,
          31,
          7.05,
          21,
          7.25,
          13,
          7.75,
          113.275,
          7.925,
          27,
          76.2917,
          10.5,
          8.05,
          13,
          8.05,
          7.8958,
          90,
          9.35,
          10.5,
          7.25,
          13,
          25.4667,
          83.475,
          7.775,
          13.5,
          31.3875,
          10.5,
          7.55,
          26,
          26.25,
          10.5,
          12.275,
          14.4542,
          15.5,
          10.5,
          7.125,
          7.225,
          90,
          7.775,
          14.5,
          52.5542,
          26,
          7.25,
          10.4625,
          26.55,
          16.1,
          20.2125,
          15.2458,
          79.2,
          86.5,
          512.3292,
          26,
          7.75,
          31.3875,
          79.65,
          0,
          7.75,
          10.5,
          39.6875,
          7.775,
          153.4625,
          135.6333,
          31,
          0,
          19.5,
          29.7,
          7.75,
          77.9583,
          7.75,
          0,
          29.125,
          20.25,
          7.75,
          7.8542,
          9.5,
          8.05,
          26,
          8.6625,
          9.5,
          7.8958,
          13,
          7.75,
          78.85,
          91.0792,
          12.875,
          8.85,
          7.8958,
          27.7208,
          7.2292,
          151.55,
          30.5,
          247.5208,
          7.75,
          23.25,
          0,
          12.35,
          8.05,
          151.55,
          110.8833,
          108.9,
          24,
          56.9292,
          83.1583,
          262.375,
          26,
          7.8958,
          26.25,
          7.8542,
          26,
          14,
          164.8667,
          134.5,
          7.25,
          7.8958,
          12.35,
          29,
          69.55,
          135.6333,
          6.2375,
          13,
          20.525,
          57.9792,
          23.25,
          28.5,
          153.4625,
          18,
          133.65,
          7.8958,
          66.6,
          134.5,
          8.05,
          35.5,
          26,
          263,
          13,
          13,
          13,
          13,
          13,
          16.1,
          15.9,
          8.6625,
          9.225,
          35,
          7.2292,
          17.8,
          7.225,
          9.5,
          55,
          13,
          7.8792,
          7.8792,
          27.9,
          27.7208,
          14.4542,
          7.05,
          15.5,
          7.25,
          75.25,
          7.2292,
          7.75,
          69.3,
          55.4417,
          6.4958,
          8.05,
          135.6333,
          21.075,
          82.1708,
          7.25,
          211.5,
          4.0125,
          7.775,
          227.525,
          15.7417,
          7.925,
          52,
          7.8958,
          73.5,
          46.9,
          13,
          7.7292,
          12,
          120,
          7.7958,
          7.925,
          113.275,
          16.7,
          7.7958,
          7.8542,
          26,
          10.5,
          12.65,
          7.925,
          8.05,
          9.825,
          15.85,
          8.6625,
          21,
          7.75,
          18.75,
          7.775,
          25.4667,
          7.8958,
          6.8583,
          90,
          0,
          7.925,
          8.05,
          32.5,
          13,
          13,
          24.15,
          7.8958,
          7.7333,
          7.875,
          14.4,
          20.2125,
          7.25,
          26,
          26,
          7.75,
          8.05,
          26.55,
          16.1,
          26,
          7.125,
          55.9,
          120,
          34.375,
          18.75,
          263,
          10.5,
          26.25,
          9.5,
          7.775,
          13,
          8.1125,
          81.8583,
          19.5,
          26.55,
          19.2583,
          30.5,
          27.75,
          19.9667,
          27.75,
          89.1042,
          8.05,
          7.8958,
          26.55,
          51.8625,
          10.5,
          7.75,
          26.55,
          8.05,
          38.5,
          13,
          8.05,
          7.05,
          0,
          26.55,
          7.725,
          19.2583,
          7.25,
          8.6625,
          27.75,
          13.7917,
          9.8375,
          52,
          21,
          7.0458,
          7.5208,
          12.2875,
          46.9,
          0,
          8.05,
          9.5875,
          91.0792,
          25.4667,
          90,
          29.7,
          8.05,
          15.9,
          19.9667,
          7.25,
          30.5,
          49.5042,
          8.05,
          14.4583,
          78.2667,
          15.1,
          151.55,
          7.7958,
          8.6625,
          7.75,
          7.6292,
          9.5875,
          86.5,
          108.9,
          26,
          26.55,
          22.525,
          56.4958,
          7.75,
          8.05,
          26.2875,
          59.4,
          7.4958,
          34.0208,
          10.5,
          24.15,
          26,
          7.8958,
          93.5,
          7.8958,
          7.225,
          57.9792,
          7.2292,
          7.75,
          10.5,
          221.7792,
          7.925,
          11.5,
          26,
          7.2292,
          7.2292,
          22.3583,
          8.6625,
          26.25,
          26.55,
          106.425,
          14.5,
          49.5,
          71,
          31.275,
          31.275,
          26,
          106.425,
          26,
          26,
          13.8625,
          20.525,
          36.75,
          110.8833,
          26,
          7.8292,
          7.225,
          7.775,
          26.55,
          39.6,
          227.525,
          79.65,
          17.4,
          7.75,
          7.8958,
          13.5,
          8.05,
          8.05,
          24.15,
          7.8958,
          21.075,
          7.2292,
          7.8542,
          10.5,
          51.4792,
          26.3875,
          7.75,
          8.05,
          14.5,
          13,
          55.9,
          14.4583,
          7.925,
          30,
          110.8833,
          26,
          40.125,
          8.7125,
          79.65,
          15,
          79.2,
          8.05,
          8.05,
          7.125,
          78.2667,
          7.25,
          7.75,
          26,
          24.15,
          33,
          0,
          7.225,
          56.9292,
          27,
          7.8958,
          42.4,
          8.05,
          26.55,
          15.55,
          7.8958,
          30.5,
          41.5792,
          153.4625,
          31.275,
          7.05,
          15.5,
          7.75,
          8.05,
          65,
          14.4,
          16.1,
          39,
          10.5,
          14.4542,
          52.5542,
          15.7417,
          7.8542,
          16.1,
          32.3208,
          12.35,
          77.9583,
          7.8958,
          7.7333,
          30,
          7.0542,
          30.5,
          0,
          27.9,
          13,
          7.925,
          26.25,
          39.6875,
          16.1,
          7.8542,
          69.3,
          27.9,
          56.4958,
          19.2583,
          76.7292,
          7.8958,
          35.5,
          7.55,
          7.55,
          7.8958,
          23,
          8.4333,
          7.8292,
          6.75,
          73.5,
          7.8958,
          15.5,
          13,
          113.275,
          133.65,
          7.225,
          25.5875,
          7.4958,
          7.925,
          73.5,
          13,
          7.775,
          8.05,
          52,
          39,
          52,
          10.5,
          13,
          0,
          7.775,
          8.05,
          9.8417,
          46.9,
          512.3292,
          8.1375,
          76.7292,
          9.225,
          46.9,
          39,
          41.5792,
          39.6875,
          10.1708,
          7.7958,
          211.3375,
          57,
          13.4167,
          56.4958,
          7.225,
          26.55,
          13.5,
          8.05,
          7.7333,
          110.8833,
          7.65,
          227.525,
          26.2875,
          14.4542,
          7.7417,
          7.8542,
          26,
          13.5,
          26.2875,
          151.55,
          15.2458,
          49.5042,
          26.55,
          52,
          9.4833,
          13,
          7.65,
          227.525,
          10.5,
          15.5,
          7.775,
          33,
          7.0542,
          13,
          13,
          53.1,
          8.6625,
          21,
          7.7375,
          26,
          7.925,
          211.3375,
          18.7875,
          0,
          13,
          13,
          16.1,
          34.375,
          512.3292,
          7.8958,
          7.8958,
          30,
          78.85,
          262.375,
          16.1,
          7.925,
          71,
          20.25,
          13,
          53.1,
          7.75,
          23,
          12.475,
          9.5,
          7.8958,
          65,
          14.5,
          7.7958,
          11.5,
          8.05,
          86.5,
          14.5,
          7.125,
          7.2292,
          120,
          7.775,
          77.9583,
          39.6,
          7.75,
          24.15,
          8.3625,
          9.5,
          7.8542,
          10.5,
          7.225,
          23,
          7.75,
          7.75,
          12.475,
          7.7375,
          211.3375,
          7.2292,
          57,
          30,
          23.45,
          7.05,
          7.25,
          7.4958,
          29.125,
          20.575,
          79.2,
          7.75,
          26,
          69.55,
          30.6958,
          7.8958,
          13,
          25.9292,
          8.6833,
          7.2292,
          24.15,
          13,
          26.25,
          120,
          8.5167,
          6.975,
          7.775,
          0,
          7.775,
          13,
          53.1,
          7.8875,
          24.15,
          10.5,
          31.275,
          8.05,
          0,
          7.925,
          37.0042,
          6.45,
          27.9,
          93.5,
          8.6625,
          0,
          12.475,
          39.6875,
          6.95,
          56.4958,
          37.0042,
          7.75,
          80,
          14.4542,
          18.75,
          7.2292,
          7.8542,
          8.3,
          83.1583,
          8.6625,
          8.05,
          56.4958,
          29.7,
          7.925,
          10.5,
          31,
          6.4375,
          8.6625,
          7.55,
          69.55,
          7.8958,
          33,
          89.1042,
          31.275,
          7.775,
          15.2458,
          39.4,
          26,
          9.35,
          164.8667,
          26.55,
          19.2583,
          7.2292,
          14.1083,
          11.5,
          25.9292,
          69.55,
          13,
          13,
          13.8583,
          50.4958,
          9.5,
          11.1333,
          7.8958,
          52.5542,
          5,
          9,
          24,
          7.225,
          9.8458,
          7.8958,
          7.8958,
          83.1583,
          26,
          7.8958,
          10.5167,
          10.5,
          7.05,
          29.125,
          13,
          30,
          23.45,
          30,
          7.75
         ],
         "yaxis": "y"
        }
       ],
       "layout": {
        "autosize": true,
        "coloraxis": {
         "colorbar": {
          "title": {
           "text": "Survived"
          }
         },
         "colorscale": [
          [
           0,
           "#0d0887"
          ],
          [
           0.1111111111111111,
           "#46039f"
          ],
          [
           0.2222222222222222,
           "#7201a8"
          ],
          [
           0.3333333333333333,
           "#9c179e"
          ],
          [
           0.4444444444444444,
           "#bd3786"
          ],
          [
           0.5555555555555556,
           "#d8576b"
          ],
          [
           0.6666666666666666,
           "#ed7953"
          ],
          [
           0.7777777777777778,
           "#fb9f3a"
          ],
          [
           0.8888888888888888,
           "#fdca26"
          ],
          [
           1,
           "#f0f921"
          ]
         ]
        },
        "legend": {
         "tracegroupgap": 0
        },
        "margin": {
         "t": 60
        },
        "template": {
         "data": {
          "bar": [
           {
            "error_x": {
             "color": "#2a3f5f"
            },
            "error_y": {
             "color": "#2a3f5f"
            },
            "marker": {
             "line": {
              "color": "#E5ECF6",
              "width": 0.5
             },
             "pattern": {
              "fillmode": "overlay",
              "size": 10,
              "solidity": 0.2
             }
            },
            "type": "bar"
           }
          ],
          "barpolar": [
           {
            "marker": {
             "line": {
              "color": "#E5ECF6",
              "width": 0.5
             },
             "pattern": {
              "fillmode": "overlay",
              "size": 10,
              "solidity": 0.2
             }
            },
            "type": "barpolar"
           }
          ],
          "carpet": [
           {
            "aaxis": {
             "endlinecolor": "#2a3f5f",
             "gridcolor": "white",
             "linecolor": "white",
             "minorgridcolor": "white",
             "startlinecolor": "#2a3f5f"
            },
            "baxis": {
             "endlinecolor": "#2a3f5f",
             "gridcolor": "white",
             "linecolor": "white",
             "minorgridcolor": "white",
             "startlinecolor": "#2a3f5f"
            },
            "type": "carpet"
           }
          ],
          "choropleth": [
           {
            "colorbar": {
             "outlinewidth": 0,
             "ticks": ""
            },
            "type": "choropleth"
           }
          ],
          "contour": [
           {
            "colorbar": {
             "outlinewidth": 0,
             "ticks": ""
            },
            "colorscale": [
             [
              0,
              "#0d0887"
             ],
             [
              0.1111111111111111,
              "#46039f"
             ],
             [
              0.2222222222222222,
              "#7201a8"
             ],
             [
              0.3333333333333333,
              "#9c179e"
             ],
             [
              0.4444444444444444,
              "#bd3786"
             ],
             [
              0.5555555555555556,
              "#d8576b"
             ],
             [
              0.6666666666666666,
              "#ed7953"
             ],
             [
              0.7777777777777778,
              "#fb9f3a"
             ],
             [
              0.8888888888888888,
              "#fdca26"
             ],
             [
              1,
              "#f0f921"
             ]
            ],
            "type": "contour"
           }
          ],
          "contourcarpet": [
           {
            "colorbar": {
             "outlinewidth": 0,
             "ticks": ""
            },
            "type": "contourcarpet"
           }
          ],
          "heatmap": [
           {
            "colorbar": {
             "outlinewidth": 0,
             "ticks": ""
            },
            "colorscale": [
             [
              0,
              "#0d0887"
             ],
             [
              0.1111111111111111,
              "#46039f"
             ],
             [
              0.2222222222222222,
              "#7201a8"
             ],
             [
              0.3333333333333333,
              "#9c179e"
             ],
             [
              0.4444444444444444,
              "#bd3786"
             ],
             [
              0.5555555555555556,
              "#d8576b"
             ],
             [
              0.6666666666666666,
              "#ed7953"
             ],
             [
              0.7777777777777778,
              "#fb9f3a"
             ],
             [
              0.8888888888888888,
              "#fdca26"
             ],
             [
              1,
              "#f0f921"
             ]
            ],
            "type": "heatmap"
           }
          ],
          "heatmapgl": [
           {
            "colorbar": {
             "outlinewidth": 0,
             "ticks": ""
            },
            "colorscale": [
             [
              0,
              "#0d0887"
             ],
             [
              0.1111111111111111,
              "#46039f"
             ],
             [
              0.2222222222222222,
              "#7201a8"
             ],
             [
              0.3333333333333333,
              "#9c179e"
             ],
             [
              0.4444444444444444,
              "#bd3786"
             ],
             [
              0.5555555555555556,
              "#d8576b"
             ],
             [
              0.6666666666666666,
              "#ed7953"
             ],
             [
              0.7777777777777778,
              "#fb9f3a"
             ],
             [
              0.8888888888888888,
              "#fdca26"
             ],
             [
              1,
              "#f0f921"
             ]
            ],
            "type": "heatmapgl"
           }
          ],
          "histogram": [
           {
            "marker": {
             "pattern": {
              "fillmode": "overlay",
              "size": 10,
              "solidity": 0.2
             }
            },
            "type": "histogram"
           }
          ],
          "histogram2d": [
           {
            "colorbar": {
             "outlinewidth": 0,
             "ticks": ""
            },
            "colorscale": [
             [
              0,
              "#0d0887"
             ],
             [
              0.1111111111111111,
              "#46039f"
             ],
             [
              0.2222222222222222,
              "#7201a8"
             ],
             [
              0.3333333333333333,
              "#9c179e"
             ],
             [
              0.4444444444444444,
              "#bd3786"
             ],
             [
              0.5555555555555556,
              "#d8576b"
             ],
             [
              0.6666666666666666,
              "#ed7953"
             ],
             [
              0.7777777777777778,
              "#fb9f3a"
             ],
             [
              0.8888888888888888,
              "#fdca26"
             ],
             [
              1,
              "#f0f921"
             ]
            ],
            "type": "histogram2d"
           }
          ],
          "histogram2dcontour": [
           {
            "colorbar": {
             "outlinewidth": 0,
             "ticks": ""
            },
            "colorscale": [
             [
              0,
              "#0d0887"
             ],
             [
              0.1111111111111111,
              "#46039f"
             ],
             [
              0.2222222222222222,
              "#7201a8"
             ],
             [
              0.3333333333333333,
              "#9c179e"
             ],
             [
              0.4444444444444444,
              "#bd3786"
             ],
             [
              0.5555555555555556,
              "#d8576b"
             ],
             [
              0.6666666666666666,
              "#ed7953"
             ],
             [
              0.7777777777777778,
              "#fb9f3a"
             ],
             [
              0.8888888888888888,
              "#fdca26"
             ],
             [
              1,
              "#f0f921"
             ]
            ],
            "type": "histogram2dcontour"
           }
          ],
          "mesh3d": [
           {
            "colorbar": {
             "outlinewidth": 0,
             "ticks": ""
            },
            "type": "mesh3d"
           }
          ],
          "parcoords": [
           {
            "line": {
             "colorbar": {
              "outlinewidth": 0,
              "ticks": ""
             }
            },
            "type": "parcoords"
           }
          ],
          "pie": [
           {
            "automargin": true,
            "type": "pie"
           }
          ],
          "scatter": [
           {
            "fillpattern": {
             "fillmode": "overlay",
             "size": 10,
             "solidity": 0.2
            },
            "type": "scatter"
           }
          ],
          "scatter3d": [
           {
            "line": {
             "colorbar": {
              "outlinewidth": 0,
              "ticks": ""
             }
            },
            "marker": {
             "colorbar": {
              "outlinewidth": 0,
              "ticks": ""
             }
            },
            "type": "scatter3d"
           }
          ],
          "scattercarpet": [
           {
            "marker": {
             "colorbar": {
              "outlinewidth": 0,
              "ticks": ""
             }
            },
            "type": "scattercarpet"
           }
          ],
          "scattergeo": [
           {
            "marker": {
             "colorbar": {
              "outlinewidth": 0,
              "ticks": ""
             }
            },
            "type": "scattergeo"
           }
          ],
          "scattergl": [
           {
            "marker": {
             "colorbar": {
              "outlinewidth": 0,
              "ticks": ""
             }
            },
            "type": "scattergl"
           }
          ],
          "scattermapbox": [
           {
            "marker": {
             "colorbar": {
              "outlinewidth": 0,
              "ticks": ""
             }
            },
            "type": "scattermapbox"
           }
          ],
          "scatterpolar": [
           {
            "marker": {
             "colorbar": {
              "outlinewidth": 0,
              "ticks": ""
             }
            },
            "type": "scatterpolar"
           }
          ],
          "scatterpolargl": [
           {
            "marker": {
             "colorbar": {
              "outlinewidth": 0,
              "ticks": ""
             }
            },
            "type": "scatterpolargl"
           }
          ],
          "scatterternary": [
           {
            "marker": {
             "colorbar": {
              "outlinewidth": 0,
              "ticks": ""
             }
            },
            "type": "scatterternary"
           }
          ],
          "surface": [
           {
            "colorbar": {
             "outlinewidth": 0,
             "ticks": ""
            },
            "colorscale": [
             [
              0,
              "#0d0887"
             ],
             [
              0.1111111111111111,
              "#46039f"
             ],
             [
              0.2222222222222222,
              "#7201a8"
             ],
             [
              0.3333333333333333,
              "#9c179e"
             ],
             [
              0.4444444444444444,
              "#bd3786"
             ],
             [
              0.5555555555555556,
              "#d8576b"
             ],
             [
              0.6666666666666666,
              "#ed7953"
             ],
             [
              0.7777777777777778,
              "#fb9f3a"
             ],
             [
              0.8888888888888888,
              "#fdca26"
             ],
             [
              1,
              "#f0f921"
             ]
            ],
            "type": "surface"
           }
          ],
          "table": [
           {
            "cells": {
             "fill": {
              "color": "#EBF0F8"
             },
             "line": {
              "color": "white"
             }
            },
            "header": {
             "fill": {
              "color": "#C8D4E3"
             },
             "line": {
              "color": "white"
             }
            },
            "type": "table"
           }
          ]
         },
         "layout": {
          "annotationdefaults": {
           "arrowcolor": "#2a3f5f",
           "arrowhead": 0,
           "arrowwidth": 1
          },
          "autotypenumbers": "strict",
          "coloraxis": {
           "colorbar": {
            "outlinewidth": 0,
            "ticks": ""
           }
          },
          "colorscale": {
           "diverging": [
            [
             0,
             "#8e0152"
            ],
            [
             0.1,
             "#c51b7d"
            ],
            [
             0.2,
             "#de77ae"
            ],
            [
             0.3,
             "#f1b6da"
            ],
            [
             0.4,
             "#fde0ef"
            ],
            [
             0.5,
             "#f7f7f7"
            ],
            [
             0.6,
             "#e6f5d0"
            ],
            [
             0.7,
             "#b8e186"
            ],
            [
             0.8,
             "#7fbc41"
            ],
            [
             0.9,
             "#4d9221"
            ],
            [
             1,
             "#276419"
            ]
           ],
           "sequential": [
            [
             0,
             "#0d0887"
            ],
            [
             0.1111111111111111,
             "#46039f"
            ],
            [
             0.2222222222222222,
             "#7201a8"
            ],
            [
             0.3333333333333333,
             "#9c179e"
            ],
            [
             0.4444444444444444,
             "#bd3786"
            ],
            [
             0.5555555555555556,
             "#d8576b"
            ],
            [
             0.6666666666666666,
             "#ed7953"
            ],
            [
             0.7777777777777778,
             "#fb9f3a"
            ],
            [
             0.8888888888888888,
             "#fdca26"
            ],
            [
             1,
             "#f0f921"
            ]
           ],
           "sequentialminus": [
            [
             0,
             "#0d0887"
            ],
            [
             0.1111111111111111,
             "#46039f"
            ],
            [
             0.2222222222222222,
             "#7201a8"
            ],
            [
             0.3333333333333333,
             "#9c179e"
            ],
            [
             0.4444444444444444,
             "#bd3786"
            ],
            [
             0.5555555555555556,
             "#d8576b"
            ],
            [
             0.6666666666666666,
             "#ed7953"
            ],
            [
             0.7777777777777778,
             "#fb9f3a"
            ],
            [
             0.8888888888888888,
             "#fdca26"
            ],
            [
             1,
             "#f0f921"
            ]
           ]
          },
          "colorway": [
           "#636efa",
           "#EF553B",
           "#00cc96",
           "#ab63fa",
           "#FFA15A",
           "#19d3f3",
           "#FF6692",
           "#B6E880",
           "#FF97FF",
           "#FECB52"
          ],
          "font": {
           "color": "#2a3f5f"
          },
          "geo": {
           "bgcolor": "white",
           "lakecolor": "white",
           "landcolor": "#E5ECF6",
           "showlakes": true,
           "showland": true,
           "subunitcolor": "white"
          },
          "hoverlabel": {
           "align": "left"
          },
          "hovermode": "closest",
          "mapbox": {
           "style": "light"
          },
          "paper_bgcolor": "white",
          "plot_bgcolor": "#E5ECF6",
          "polar": {
           "angularaxis": {
            "gridcolor": "white",
            "linecolor": "white",
            "ticks": ""
           },
           "bgcolor": "#E5ECF6",
           "radialaxis": {
            "gridcolor": "white",
            "linecolor": "white",
            "ticks": ""
           }
          },
          "scene": {
           "xaxis": {
            "backgroundcolor": "#E5ECF6",
            "gridcolor": "white",
            "gridwidth": 2,
            "linecolor": "white",
            "showbackground": true,
            "ticks": "",
            "zerolinecolor": "white"
           },
           "yaxis": {
            "backgroundcolor": "#E5ECF6",
            "gridcolor": "white",
            "gridwidth": 2,
            "linecolor": "white",
            "showbackground": true,
            "ticks": "",
            "zerolinecolor": "white"
           },
           "zaxis": {
            "backgroundcolor": "#E5ECF6",
            "gridcolor": "white",
            "gridwidth": 2,
            "linecolor": "white",
            "showbackground": true,
            "ticks": "",
            "zerolinecolor": "white"
           }
          },
          "shapedefaults": {
           "line": {
            "color": "#2a3f5f"
           }
          },
          "ternary": {
           "aaxis": {
            "gridcolor": "white",
            "linecolor": "white",
            "ticks": ""
           },
           "baxis": {
            "gridcolor": "white",
            "linecolor": "white",
            "ticks": ""
           },
           "bgcolor": "#E5ECF6",
           "caxis": {
            "gridcolor": "white",
            "linecolor": "white",
            "ticks": ""
           }
          },
          "title": {
           "x": 0.05
          },
          "xaxis": {
           "automargin": true,
           "gridcolor": "white",
           "linecolor": "white",
           "ticks": "",
           "title": {
            "standoff": 15
           },
           "zerolinecolor": "white",
           "zerolinewidth": 2
          },
          "yaxis": {
           "automargin": true,
           "gridcolor": "white",
           "linecolor": "white",
           "ticks": "",
           "title": {
            "standoff": 15
           },
           "zerolinecolor": "white",
           "zerolinewidth": 2
          }
         }
        },
        "title": {
         "text": "Interactive Age vs Fare Scatter Plot"
        },
        "xaxis": {
         "anchor": "y",
         "autorange": true,
         "domain": [
          0,
          1
         ],
         "range": [
          -4.416629072681705,
          84.8366290726817
         ],
         "title": {
          "text": "Age"
         },
         "type": "linear"
        },
        "yaxis": {
         "anchor": "x",
         "autorange": true,
         "domain": [
          0,
          1
         ],
         "range": [
          -39.66853385826772,
          551.9977338582678
         ],
         "title": {
          "text": "Fare"
         },
         "type": "linear"
        }
       }
      },
      "image/png": "[encoded data removed]",
      "text/html": [
       "<div>                            <div id=\"62eca09b-d57d-4065-b0b1-e24fced4c28f\" class=\"plotly-graph-div\" style=\"height:525px; width:100%;\"></div>            <script type=\"text/javascript\">                require([\"plotly\"], function(Plotly) {                    window.PLOTLYENV=window.PLOTLYENV || {};                                    if (document.getElementById(\"62eca09b-d57d-4065-b0b1-e24fced4c28f\")) {                    Plotly.newPlot(                        \"62eca09b-d57d-4065-b0b1-e24fced4c28f\",                        [{\"customdata\":[[\"Braund, Mr. Owen Harris\",\"male\",3],[\"Cumings, Mrs. John Bradley (Florence Briggs Thayer)\",\"female\",1],[\"Heikkinen, Miss. Laina\",\"female\",3],[\"Futrelle, Mrs. Jacques Heath (Lily May Peel)\",\"female\",1],[\"Allen, Mr. William Henry\",\"male\",3],[\"Moran, Mr. James\",\"male\",3],[\"McCarthy, Mr. Timothy J\",\"male\",1],[\"Palsson, Master. Gosta Leonard\",\"male\",3],[\"Johnson, Mrs. Oscar W (Elisabeth Vilhelmina Berg)\",\"female\",3],[\"Nasser, Mrs. Nicholas (Adele Achem)\",\"female\",2],[\"Sandstrom, Miss. Marguerite Rut\",\"female\",3],[\"Bonnell, Miss. Elizabeth\",\"female\",1],[\"Saundercock, Mr. William Henry\",\"male\",3],[\"Andersson, Mr. Anders Johan\",\"male\",3],[\"Vestrom, Miss. Hulda Amanda Adolfina\",\"female\",3],[\"Hewlett, Mrs. (Mary D Kingcome) \",\"female\",2],[\"Rice, Master. Eugene\",\"male\",3],[\"Williams, Mr. Charles Eugene\",\"male\",2],[\"Vander Planke, Mrs. Julius (Emelia Maria Vandemoortele)\",\"female\",3],[\"Masselmani, Mrs. Fatima\",\"female\",3],[\"Fynney, Mr. Joseph J\",\"male\",2],[\"Beesley, Mr. Lawrence\",\"male\",2],[\"McGowan, Miss. Anna \\\"Annie\\\"\",\"female\",3],[\"Sloper, Mr. William Thompson\",\"male\",1],[\"Palsson, Miss. Torborg Danira\",\"female\",3],[\"Asplund, Mrs. Carl Oscar (Selma Augusta Emilia Johansson)\",\"female\",3],[\"Emir, Mr. Farred Chehab\",\"male\",3],[\"Fortune, Mr. Charles Alexander\",\"male\",1],[\"O'Dwyer, Miss. Ellen \\\"Nellie\\\"\",\"female\",3],[\"Todoroff, Mr. Lalio\",\"male\",3],[\"Uruchurtu, Don. Manuel E\",\"male\",1],[\"Spencer, Mrs. William Augustus (Marie Eugenie)\",\"female\",1],[\"Glynn, Miss. Mary Agatha\",\"female\",3],[\"Wheadon, Mr. Edward H\",\"male\",2],[\"Meyer, Mr. Edgar Joseph\",\"male\",1],[\"Holverson, Mr. Alexander Oskar\",\"male\",1],[\"Mamee, Mr. Hanna\",\"male\",3],[\"Cann, Mr. Ernest Charles\",\"male\",3],[\"Vander Planke, Miss. Augusta Maria\",\"female\",3],[\"Nicola-Yarred, Miss. Jamila\",\"female\",3],[\"Ahlin, Mrs. Johan (Johanna Persdotter Larsson)\",\"female\",3],[\"Turpin, Mrs. William John Robert (Dorothy Ann Wonnacott)\",\"female\",2],[\"Kraeff, Mr. Theodor\",\"male\",3],[\"Laroche, Miss. Simonne Marie Anne Andree\",\"female\",2],[\"Devaney, Miss. Margaret Delia\",\"female\",3],[\"Rogers, Mr. William John\",\"male\",3],[\"Lennon, Mr. Denis\",\"male\",3],[\"O'Driscoll, Miss. Bridget\",\"female\",3],[\"Samaan, Mr. Youssef\",\"male\",3],[\"Arnold-Franchi, Mrs. Josef (Josefine Franchi)\",\"female\",3],[\"Panula, Master. Juha Niilo\",\"male\",3],[\"Nosworthy, Mr. Richard Cater\",\"male\",3],[\"Harper, Mrs. Henry Sleeper (Myna Haxtun)\",\"female\",1],[\"Faunthorpe, Mrs. Lizzie (Elizabeth Anne Wilkinson)\",\"female\",2],[\"Ostby, Mr. Engelhart Cornelius\",\"male\",1],[\"Woolner, Mr. Hugh\",\"male\",1],[\"Rugg, Miss. Emily\",\"female\",2],[\"Novel, Mr. Mansouer\",\"male\",3],[\"West, Miss. Constance Mirium\",\"female\",2],[\"Goodwin, Master. William Frederick\",\"male\",3],[\"Sirayanian, Mr. Orsen\",\"male\",3],[\"Icard, Miss. Amelie\",\"female\",1],[\"Harris, Mr. Henry Birkhardt\",\"male\",1],[\"Skoog, Master. Harald\",\"male\",3],[\"Stewart, Mr. Albert A\",\"male\",1],[\"Moubarek, Master. Gerios\",\"male\",3],[\"Nye, Mrs. (Elizabeth Ramell)\",\"female\",2],[\"Crease, Mr. Ernest James\",\"male\",3],[\"Andersson, Miss. Erna Alexandra\",\"female\",3],[\"Kink, Mr. Vincenz\",\"male\",3],[\"Jenkin, Mr. Stephen Curnow\",\"male\",2],[\"Goodwin, Miss. Lillian Amy\",\"female\",3],[\"Hood, Mr. Ambrose Jr\",\"male\",2],[\"Chronopoulos, Mr. Apostolos\",\"male\",3],[\"Bing, Mr. Lee\",\"male\",3],[\"Moen, Mr. Sigurd Hansen\",\"male\",3],[\"Staneff, Mr. Ivan\",\"male\",3],[\"Moutal, Mr. Rahamin Haim\",\"male\",3],[\"Caldwell, Master. Alden Gates\",\"male\",2],[\"Dowdell, Miss. Elizabeth\",\"female\",3],[\"Waelens, Mr. Achille\",\"male\",3],[\"Sheerlinck, Mr. Jan Baptist\",\"male\",3],[\"McDermott, Miss. Brigdet Delia\",\"female\",3],[\"Carrau, Mr. Francisco M\",\"male\",1],[\"Ilett, Miss. Bertha\",\"female\",2],[\"Backstrom, Mrs. Karl Alfred (Maria Mathilda Gustafsson)\",\"female\",3],[\"Ford, Mr. William Neal\",\"male\",3],[\"Slocovski, Mr. Selman Francis\",\"male\",3],[\"Fortune, Miss. Mabel Helen\",\"female\",1],[\"Celotti, Mr. Francesco\",\"male\",3],[\"Christmann, Mr. Emil\",\"male\",3],[\"Andreasson, Mr. Paul Edvin\",\"male\",3],[\"Chaffee, Mr. Herbert Fuller\",\"male\",1],[\"Dean, Mr. Bertram Frank\",\"male\",3],[\"Coxon, Mr. Daniel\",\"male\",3],[\"Shorney, Mr. Charles Joseph\",\"male\",3],[\"Goldschmidt, Mr. George B\",\"male\",1],[\"Greenfield, Mr. William Bertram\",\"male\",1],[\"Doling, Mrs. John T (Ada Julia Bone)\",\"female\",2],[\"Kantor, Mr. Sinai\",\"male\",2],[\"Petranec, Miss. Matilda\",\"female\",3],[\"Petroff, Mr. Pastcho (\\\"Pentcho\\\")\",\"male\",3],[\"White, Mr. Richard Frasar\",\"male\",1],[\"Johansson, Mr. Gustaf Joel\",\"male\",3],[\"Gustafsson, Mr. Anders Vilhelm\",\"male\",3],[\"Mionoff, Mr. Stoytcho\",\"male\",3],[\"Salkjelsvik, Miss. Anna Kristine\",\"female\",3],[\"Moss, Mr. Albert Johan\",\"male\",3],[\"Rekic, Mr. Tido\",\"male\",3],[\"Moran, Miss. Bertha\",\"female\",3],[\"Porter, Mr. Walter Chamberlain\",\"male\",1],[\"Zabour, Miss. Hileni\",\"female\",3],[\"Barton, Mr. David John\",\"male\",3],[\"Jussila, Miss. Katriina\",\"female\",3],[\"Attalah, Miss. Malake\",\"female\",3],[\"Pekoniemi, Mr. Edvard\",\"male\",3],[\"Connors, Mr. Patrick\",\"male\",3],[\"Turpin, Mr. William John Robert\",\"male\",2],[\"Baxter, Mr. Quigg Edmond\",\"male\",1],[\"Andersson, Miss. Ellis Anna Maria\",\"female\",3],[\"Hickman, Mr. Stanley George\",\"male\",2],[\"Moore, Mr. Leonard Charles\",\"male\",3],[\"Nasser, Mr. Nicholas\",\"male\",2],[\"Webber, Miss. Susan\",\"female\",2],[\"White, Mr. Percival Wayland\",\"male\",1],[\"Nicola-Yarred, Master. Elias\",\"male\",3],[\"McMahon, Mr. Martin\",\"male\",3],[\"Madsen, Mr. Fridtjof Arne\",\"male\",3],[\"Peter, Miss. Anna\",\"female\",3],[\"Ekstrom, Mr. Johan\",\"male\",3],[\"Drazenoic, Mr. Jozef\",\"male\",3],[\"Coelho, Mr. Domingos Fernandeo\",\"male\",3],[\"Robins, Mrs. Alexander A (Grace Charity Laury)\",\"female\",3],[\"Weisz, Mrs. Leopold (Mathilde Francoise Pede)\",\"female\",2],[\"Sobey, Mr. Samuel James Hayden\",\"male\",2],[\"Richard, Mr. Emile\",\"male\",2],[\"Newsom, Miss. Helen Monypeny\",\"female\",1],[\"Futrelle, Mr. Jacques Heath\",\"male\",1],[\"Osen, Mr. Olaf Elon\",\"male\",3],[\"Giglio, Mr. Victor\",\"male\",1],[\"Boulos, Mrs. Joseph (Sultana)\",\"female\",3],[\"Nysten, Miss. Anna Sofia\",\"female\",3],[\"Hakkarainen, Mrs. Pekka Pietari (Elin Matilda Dolck)\",\"female\",3],[\"Burke, Mr. Jeremiah\",\"male\",3],[\"Andrew, Mr. Edgardo Samuel\",\"male\",2],[\"Nicholls, Mr. Joseph Charles\",\"male\",2],[\"Andersson, Mr. August Edvard (\\\"Wennerstrom\\\")\",\"male\",3],[\"Ford, Miss. Robina Maggie \\\"Ruby\\\"\",\"female\",3],[\"Navratil, Mr. Michel (\\\"Louis M Hoffman\\\")\",\"male\",2],[\"Byles, Rev. Thomas Roussel Davids\",\"male\",2],[\"Bateman, Rev. Robert James\",\"male\",2],[\"Pears, Mrs. Thomas (Edith Wearne)\",\"female\",1],[\"Meo, Mr. Alfonzo\",\"male\",3],[\"van Billiard, Mr. Austin Blyler\",\"male\",3],[\"Olsen, Mr. Ole Martin\",\"male\",3],[\"Williams, Mr. Charles Duane\",\"male\",1],[\"Gilnagh, Miss. Katherine \\\"Katie\\\"\",\"female\",3],[\"Corn, Mr. Harry\",\"male\",3],[\"Smiljanic, Mr. Mile\",\"male\",3],[\"Sage, Master. Thomas Henry\",\"male\",3],[\"Cribb, Mr. John Hatfield\",\"male\",3],[\"Watt, Mrs. James (Elizabeth \\\"Bessie\\\" Inglis Milne)\",\"female\",2],[\"Bengtsson, Mr. John Viktor\",\"male\",3],[\"Calic, Mr. Jovo\",\"male\",3],[\"Panula, Master. Eino Viljami\",\"male\",3],[\"Goldsmith, Master. Frank John William \\\"Frankie\\\"\",\"male\",3],[\"Chibnall, Mrs. (Edith Martha Bowerman)\",\"female\",1],[\"Skoog, Mrs. William (Anna Bernhardina Karlsson)\",\"female\",3],[\"Baumann, Mr. John D\",\"male\",1],[\"Ling, Mr. Lee\",\"male\",3],[\"Van der hoef, Mr. Wyckoff\",\"male\",1],[\"Rice, Master. Arthur\",\"male\",3],[\"Johnson, Miss. Eleanor Ileen\",\"female\",3],[\"Sivola, Mr. Antti Wilhelm\",\"male\",3],[\"Smith, Mr. James Clinch\",\"male\",1],[\"Klasen, Mr. Klas Albin\",\"male\",3],[\"Lefebre, Master. Henry Forbes\",\"male\",3],[\"Isham, Miss. Ann Elizabeth\",\"female\",1],[\"Hale, Mr. Reginald\",\"male\",2],[\"Leonard, Mr. Lionel\",\"male\",3],[\"Sage, Miss. Constance Gladys\",\"female\",3],[\"Pernot, Mr. Rene\",\"male\",2],[\"Asplund, Master. Clarence Gustaf Hugo\",\"male\",3],[\"Becker, Master. Richard F\",\"male\",2],[\"Kink-Heilmann, Miss. Luise Gretchen\",\"female\",3],[\"Rood, Mr. Hugh Roscoe\",\"male\",1],[\"O'Brien, Mrs. Thomas (Johanna \\\"Hannah\\\" Godfrey)\",\"female\",3],[\"Romaine, Mr. Charles Hallace (\\\"Mr C Rolmane\\\")\",\"male\",1],[\"Bourke, Mr. John\",\"male\",3],[\"Turcin, Mr. Stjepan\",\"male\",3],[\"Pinsky, Mrs. (Rosa)\",\"female\",2],[\"Carbines, Mr. William\",\"male\",2],[\"Andersen-Jensen, Miss. Carla Christine Nielsine\",\"female\",3],[\"Navratil, Master. Michel M\",\"male\",2],[\"Brown, Mrs. James Joseph (Margaret Tobin)\",\"female\",1],[\"Lurette, Miss. Elise\",\"female\",1],[\"Mernagh, Mr. Robert\",\"male\",3],[\"Olsen, Mr. Karl Siegwart Andreas\",\"male\",3],[\"Madigan, Miss. Margaret \\\"Maggie\\\"\",\"female\",3],[\"Yrois, Miss. Henriette (\\\"Mrs Harbeck\\\")\",\"female\",2],[\"Vande Walle, Mr. Nestor Cyriel\",\"male\",3],[\"Sage, Mr. Frederick\",\"male\",3],[\"Johanson, Mr. Jakob Alfred\",\"male\",3],[\"Youseff, Mr. Gerious\",\"male\",3],[\"Cohen, Mr. Gurshon \\\"Gus\\\"\",\"male\",3],[\"Strom, Miss. Telma Matilda\",\"female\",3],[\"Backstrom, Mr. Karl Alfred\",\"male\",3],[\"Albimona, Mr. Nassef Cassem\",\"male\",3],[\"Carr, Miss. Helen \\\"Ellen\\\"\",\"female\",3],[\"Blank, Mr. Henry\",\"male\",1],[\"Ali, Mr. Ahmed\",\"male\",3],[\"Cameron, Miss. Clear Annie\",\"female\",2],[\"Perkin, Mr. John Henry\",\"male\",3],[\"Givard, Mr. Hans Kristensen\",\"male\",2],[\"Kiernan, Mr. Philip\",\"male\",3],[\"Newell, Miss. Madeleine\",\"female\",1],[\"Honkanen, Miss. Eliina\",\"female\",3],[\"Jacobsohn, Mr. Sidney Samuel\",\"male\",2],[\"Bazzani, Miss. Albina\",\"female\",1],[\"Harris, Mr. Walter\",\"male\",2],[\"Sunderland, Mr. Victor Francis\",\"male\",3],[\"Bracken, Mr. James H\",\"male\",2],[\"Green, Mr. George Henry\",\"male\",3],[\"Nenkoff, Mr. Christo\",\"male\",3],[\"Hoyt, Mr. Frederick Maxfield\",\"male\",1],[\"Berglund, Mr. Karl Ivar Sven\",\"male\",3],[\"Mellors, Mr. William John\",\"male\",2],[\"Lovell, Mr. John Hall (\\\"Henry\\\")\",\"male\",3],[\"Fahlstrom, Mr. Arne Jonas\",\"male\",2],[\"Lefebre, Miss. Mathilde\",\"female\",3],[\"Harris, Mrs. Henry Birkhardt (Irene Wallach)\",\"female\",1],[\"Larsson, Mr. Bengt Edvin\",\"male\",3],[\"Sjostedt, Mr. Ernst Adolf\",\"male\",2],[\"Asplund, Miss. Lillian Gertrud\",\"female\",3],[\"Leyson, Mr. Robert William Norman\",\"male\",2],[\"Harknett, Miss. Alice Phoebe\",\"female\",3],[\"Hold, Mr. Stephen\",\"male\",2],[\"Collyer, Miss. Marjorie \\\"Lottie\\\"\",\"female\",2],[\"Pengelly, Mr. Frederick William\",\"male\",2],[\"Hunt, Mr. George Henry\",\"male\",2],[\"Zabour, Miss. Thamine\",\"female\",3],[\"Murphy, Miss. Katherine \\\"Kate\\\"\",\"female\",3],[\"Coleridge, Mr. Reginald Charles\",\"male\",2],[\"Maenpaa, Mr. Matti Alexanteri\",\"male\",3],[\"Attalah, Mr. Sleiman\",\"male\",3],[\"Minahan, Dr. William Edward\",\"male\",1],[\"Lindahl, Miss. Agda Thorilda Viktoria\",\"female\",3],[\"Hamalainen, Mrs. William (Anna)\",\"female\",2],[\"Beckwith, Mr. Richard Leonard\",\"male\",1],[\"Carter, Rev. Ernest Courtenay\",\"male\",2],[\"Reed, Mr. James George\",\"male\",3],[\"Strom, Mrs. Wilhelm (Elna Matilda Persson)\",\"female\",3],[\"Stead, Mr. William Thomas\",\"male\",1],[\"Lobb, Mr. William Arthur\",\"male\",3],[\"Rosblom, Mrs. Viktor (Helena Wilhelmina)\",\"female\",3],[\"Touma, Mrs. Darwis (Hanne Youssef Razi)\",\"female\",3],[\"Thorne, Mrs. Gertrude Maybelle\",\"female\",1],[\"Cherry, Miss. Gladys\",\"female\",1],[\"Ward, Miss. Anna\",\"female\",1],[\"Parrish, Mrs. (Lutie Davis)\",\"female\",2],[\"Smith, Mr. Thomas\",\"male\",3],[\"Asplund, Master. Edvin Rojj Felix\",\"male\",3],[\"Taussig, Mr. Emil\",\"male\",1],[\"Harrison, Mr. William\",\"male\",1],[\"Henry, Miss. Delia\",\"female\",3],[\"Reeves, Mr. David\",\"male\",2],[\"Panula, Mr. Ernesti Arvid\",\"male\",3],[\"Persson, Mr. Ernst Ulrik\",\"male\",3],[\"Graham, Mrs. William Thompson (Edith Junkins)\",\"female\",1],[\"Bissette, Miss. Amelia\",\"female\",1],[\"Cairns, Mr. Alexander\",\"male\",1],[\"Tornquist, Mr. William Henry\",\"male\",3],[\"Mellinger, Mrs. (Elizabeth Anne Maidment)\",\"female\",2],[\"Natsch, Mr. Charles H\",\"male\",1],[\"Healy, Miss. Hanora \\\"Nora\\\"\",\"female\",3],[\"Andrews, Miss. Kornelia Theodosia\",\"female\",1],[\"Lindblom, Miss. Augusta Charlotta\",\"female\",3],[\"Parkes, Mr. Francis \\\"Frank\\\"\",\"male\",2],[\"Rice, Master. Eric\",\"male\",3],[\"Abbott, Mrs. Stanton (Rosa Hunt)\",\"female\",3],[\"Duane, Mr. Frank\",\"male\",3],[\"Olsson, Mr. Nils Johan Goransson\",\"male\",3],[\"de Pelsmaeker, Mr. Alfons\",\"male\",3],[\"Dorking, Mr. Edward Arthur\",\"male\",3],[\"Smith, Mr. Richard William\",\"male\",1],[\"Stankovic, Mr. Ivan\",\"male\",3],[\"de Mulder, Mr. Theodore\",\"male\",3],[\"Naidenoff, Mr. Penko\",\"male\",3],[\"Hosono, Mr. Masabumi\",\"male\",2],[\"Connolly, Miss. Kate\",\"female\",3],[\"Barber, Miss. Ellen \\\"Nellie\\\"\",\"female\",1],[\"Bishop, Mrs. Dickinson H (Helen Walton)\",\"female\",1],[\"Levy, Mr. Rene Jacques\",\"male\",2],[\"Haas, Miss. Aloisia\",\"female\",3],[\"Mineff, Mr. Ivan\",\"male\",3],[\"Lewy, Mr. Ervin G\",\"male\",1],[\"Hanna, Mr. Mansour\",\"male\",3],[\"Allison, Miss. Helen Loraine\",\"female\",1],[\"Saalfeld, Mr. Adolphe\",\"male\",1],[\"Baxter, Mrs. James (Helene DeLaudeniere Chaput)\",\"female\",1],[\"Kelly, Miss. Anna Katherine \\\"Annie Kate\\\"\",\"female\",3],[\"McCoy, Mr. Bernard\",\"male\",3],[\"Johnson, Mr. William Cahoone Jr\",\"male\",3],[\"Keane, Miss. Nora A\",\"female\",2],[\"Williams, Mr. Howard Hugh \\\"Harry\\\"\",\"male\",3],[\"Allison, Master. Hudson Trevor\",\"male\",1],[\"Fleming, Miss. Margaret\",\"female\",1],[\"Penasco y Castellana, Mrs. Victor de Satode (Maria Josefa Perez de Soto y Vallejo)\",\"female\",1],[\"Abelson, Mr. Samuel\",\"male\",2],[\"Francatelli, Miss. Laura Mabel\",\"female\",1],[\"Hays, Miss. Margaret Bechstein\",\"female\",1],[\"Ryerson, Miss. Emily Borie\",\"female\",1],[\"Lahtinen, Mrs. William (Anna Sylfven)\",\"female\",2],[\"Hendekovic, Mr. Ignjac\",\"male\",3],[\"Hart, Mr. Benjamin\",\"male\",2],[\"Nilsson, Miss. Helmina Josefina\",\"female\",3],[\"Kantor, Mrs. Sinai (Miriam Sternin)\",\"female\",2],[\"Moraweck, Dr. Ernest\",\"male\",2],[\"Wick, Miss. Mary Natalie\",\"female\",1],[\"Spedden, Mrs. Frederic Oakley (Margaretta Corning Stone)\",\"female\",1],[\"Dennis, Mr. Samuel\",\"male\",3],[\"Danoff, Mr. Yoto\",\"male\",3],[\"Slayter, Miss. Hilda Mary\",\"female\",2],[\"Caldwell, Mrs. Albert Francis (Sylvia Mae Harbaugh)\",\"female\",2],[\"Sage, Mr. George John Jr\",\"male\",3],[\"Young, Miss. Marie Grice\",\"female\",1],[\"Nysveen, Mr. Johan Hansen\",\"male\",3],[\"Ball, Mrs. (Ada E Hall)\",\"female\",2],[\"Goldsmith, Mrs. Frank John (Emily Alice Brown)\",\"female\",3],[\"Hippach, Miss. Jean Gertrude\",\"female\",1],[\"McCoy, Miss. Agnes\",\"female\",3],[\"Partner, Mr. Austen\",\"male\",1],[\"Graham, Mr. George Edward\",\"male\",1],[\"Vander Planke, Mr. Leo Edmondus\",\"male\",3],[\"Frauenthal, Mrs. Henry William (Clara Heinsheimer)\",\"female\",1],[\"Denkoff, Mr. Mitto\",\"male\",3],[\"Pears, Mr. Thomas Clinton\",\"male\",1],[\"Burns, Miss. Elizabeth Margaret\",\"female\",1],[\"Dahl, Mr. Karl Edwart\",\"male\",3],[\"Blackwell, Mr. Stephen Weart\",\"male\",1],[\"Navratil, Master. Edmond Roger\",\"male\",2],[\"Fortune, Miss. Alice Elizabeth\",\"female\",1],[\"Collander, Mr. Erik Gustaf\",\"male\",2],[\"Sedgwick, Mr. Charles Frederick Waddington\",\"male\",2],[\"Fox, Mr. Stanley Hubert\",\"male\",2],[\"Brown, Miss. Amelia \\\"Mildred\\\"\",\"female\",2],[\"Smith, Miss. Marion Elsie\",\"female\",2],[\"Davison, Mrs. Thomas Henry (Mary E Finck)\",\"female\",3],[\"Coutts, Master. William Loch \\\"William\\\"\",\"male\",3],[\"Dimic, Mr. Jovan\",\"male\",3],[\"Odahl, Mr. Nils Martin\",\"male\",3],[\"Williams-Lambert, Mr. Fletcher Fellows\",\"male\",1],[\"Elias, Mr. Tannous\",\"male\",3],[\"Arnold-Franchi, Mr. Josef\",\"male\",3],[\"Yousif, Mr. Wazli\",\"male\",3],[\"Vanden Steen, Mr. Leo Peter\",\"male\",3],[\"Bowerman, Miss. Elsie Edith\",\"female\",1],[\"Funk, Miss. Annie Clemmer\",\"female\",2],[\"McGovern, Miss. Mary\",\"female\",3],[\"Mockler, Miss. Helen Mary \\\"Ellie\\\"\",\"female\",3],[\"Skoog, Mr. Wilhelm\",\"male\",3],[\"del Carlo, Mr. Sebastiano\",\"male\",2],[\"Barbara, Mrs. (Catherine David)\",\"female\",3],[\"Asim, Mr. Adola\",\"male\",3],[\"O'Brien, Mr. Thomas\",\"male\",3],[\"Adahl, Mr. Mauritz Nils Martin\",\"male\",3],[\"Warren, Mrs. Frank Manley (Anna Sophia Atkinson)\",\"female\",1],[\"Moussa, Mrs. (Mantoura Boulos)\",\"female\",3],[\"Jermyn, Miss. Annie\",\"female\",3],[\"Aubart, Mme. Leontine Pauline\",\"female\",1],[\"Harder, Mr. George Achilles\",\"male\",1],[\"Wiklund, Mr. Jakob Alfred\",\"male\",3],[\"Beavan, Mr. William Thomas\",\"male\",3],[\"Ringhini, Mr. Sante\",\"male\",1],[\"Palsson, Miss. Stina Viola\",\"female\",3],[\"Meyer, Mrs. Edgar Joseph (Leila Saks)\",\"female\",1],[\"Landergren, Miss. Aurora Adelia\",\"female\",3],[\"Widener, Mr. Harry Elkins\",\"male\",1],[\"Betros, Mr. Tannous\",\"male\",3],[\"Gustafsson, Mr. Karl Gideon\",\"male\",3],[\"Bidois, Miss. Rosalie\",\"female\",1],[\"Nakid, Miss. Maria (\\\"Mary\\\")\",\"female\",3],[\"Tikkanen, Mr. Juho\",\"male\",3],[\"Holverson, Mrs. Alexander Oskar (Mary Aline Towner)\",\"female\",1],[\"Plotcharsky, Mr. Vasil\",\"male\",3],[\"Davies, Mr. Charles Henry\",\"male\",2],[\"Goodwin, Master. Sidney Leonard\",\"male\",3],[\"Buss, Miss. Kate\",\"female\",2],[\"Sadlier, Mr. Matthew\",\"male\",3],[\"Lehmann, Miss. Bertha\",\"female\",2],[\"Carter, Mr. William Ernest\",\"male\",1],[\"Jansson, Mr. Carl Olof\",\"male\",3],[\"Gustafsson, Mr. Johan Birger\",\"male\",3],[\"Newell, Miss. Marjorie\",\"female\",1],[\"Sandstrom, Mrs. Hjalmar (Agnes Charlotta Bengtsson)\",\"female\",3],[\"Johansson, Mr. Erik\",\"male\",3],[\"Olsson, Miss. Elina\",\"female\",3],[\"McKane, Mr. Peter David\",\"male\",2],[\"Pain, Dr. Alfred\",\"male\",2],[\"Trout, Mrs. William H (Jessie L)\",\"female\",2],[\"Niskanen, Mr. Juha\",\"male\",3],[\"Adams, Mr. John\",\"male\",3],[\"Jussila, Miss. Mari Aina\",\"female\",3],[\"Hakkarainen, Mr. Pekka Pietari\",\"male\",3],[\"Oreskovic, Miss. Marija\",\"female\",3],[\"Gale, Mr. Shadrach\",\"male\",2],[\"Widegren, Mr. Carl\\u002fCharles Peter\",\"male\",3],[\"Richards, Master. William Rowe\",\"male\",2],[\"Birkeland, Mr. Hans Martin Monsen\",\"male\",3],[\"Lefebre, Miss. Ida\",\"female\",3],[\"Sdycoff, Mr. Todor\",\"male\",3],[\"Hart, Mr. Henry\",\"male\",3],[\"Minahan, Miss. Daisy E\",\"female\",1],[\"Cunningham, Mr. Alfred Fleming\",\"male\",2],[\"Sundman, Mr. Johan Julian\",\"male\",3],[\"Meek, Mrs. Thomas (Annie Louise Rowley)\",\"female\",3],[\"Drew, Mrs. James Vivian (Lulu Thorne Christian)\",\"female\",2],[\"Silven, Miss. Lyyli Karoliina\",\"female\",2],[\"Matthews, Mr. William John\",\"male\",2],[\"Van Impe, Miss. Catharina\",\"female\",3],[\"Gheorgheff, Mr. Stanio\",\"male\",3],[\"Charters, Mr. David\",\"male\",3],[\"Zimmerman, Mr. Leo\",\"male\",3],[\"Danbom, Mrs. Ernst Gilbert (Anna Sigrid Maria Brogren)\",\"female\",3],[\"Rosblom, Mr. Viktor Richard\",\"male\",3],[\"Wiseman, Mr. Phillippe\",\"male\",3],[\"Clarke, Mrs. Charles V (Ada Maria Winfield)\",\"female\",2],[\"Phillips, Miss. Kate Florence (\\\"Mrs Kate Louise Phillips Marshall\\\")\",\"female\",2],[\"Flynn, Mr. James\",\"male\",3],[\"Pickard, Mr. Berk (Berk Trembisky)\",\"male\",3],[\"Bjornstrom-Steffansson, Mr. Mauritz Hakan\",\"male\",1],[\"Thorneycroft, Mrs. Percival (Florence Kate White)\",\"female\",3],[\"Louch, Mrs. Charles Alexander (Alice Adelaide Slow)\",\"female\",2],[\"Kallio, Mr. Nikolai Erland\",\"male\",3],[\"Silvey, Mr. William Baird\",\"male\",1],[\"Carter, Miss. Lucile Polk\",\"female\",1],[\"Ford, Miss. Doolina Margaret \\\"Daisy\\\"\",\"female\",3],[\"Richards, Mrs. Sidney (Emily Hocking)\",\"female\",2],[\"Fortune, Mr. Mark\",\"male\",1],[\"Kvillner, Mr. Johan Henrik Johannesson\",\"male\",2],[\"Hart, Mrs. Benjamin (Esther Ada Bloomfield)\",\"female\",2],[\"Hampe, Mr. Leon\",\"male\",3],[\"Petterson, Mr. Johan Emil\",\"male\",3],[\"Reynaldo, Ms. Encarnacion\",\"female\",2],[\"Johannesen-Bratthammer, Mr. Bernt\",\"male\",3],[\"Dodge, Master. Washington\",\"male\",1],[\"Mellinger, Miss. Madeleine Violet\",\"female\",2],[\"Seward, Mr. Frederic Kimber\",\"male\",1],[\"Baclini, Miss. Marie Catherine\",\"female\",3],[\"Peuchen, Major. Arthur Godfrey\",\"male\",1],[\"West, Mr. Edwy Arthur\",\"male\",2],[\"Hagland, Mr. Ingvald Olai Olsen\",\"male\",3],[\"Foreman, Mr. Benjamin Laventall\",\"male\",1],[\"Goldenberg, Mr. Samuel L\",\"male\",1],[\"Peduzzi, Mr. Joseph\",\"male\",3],[\"Jalsevac, Mr. Ivan\",\"male\",3],[\"Millet, Mr. Francis Davis\",\"male\",1],[\"Kenyon, Mrs. Frederick R (Marion)\",\"female\",1],[\"Toomey, Miss. Ellen\",\"female\",2],[\"O'Connor, Mr. Maurice\",\"male\",3],[\"Anderson, Mr. Harry\",\"male\",1],[\"Morley, Mr. William\",\"male\",3],[\"Gee, Mr. Arthur H\",\"male\",1],[\"Milling, Mr. Jacob Christian\",\"male\",2],[\"Maisner, Mr. Simon\",\"male\",3],[\"Goncalves, Mr. Manuel Estanslas\",\"male\",3],[\"Campbell, Mr. William\",\"male\",2],[\"Smart, Mr. John Montgomery\",\"male\",1],[\"Scanlan, Mr. James\",\"male\",3],[\"Baclini, Miss. Helene Barbara\",\"female\",3],[\"Keefe, Mr. Arthur\",\"male\",3],[\"Cacic, Mr. Luka\",\"male\",3],[\"West, Mrs. Edwy Arthur (Ada Mary Worth)\",\"female\",2],[\"Jerwan, Mrs. Amin S (Marie Marthe Thuillard)\",\"female\",2],[\"Strandberg, Miss. Ida Sofia\",\"female\",3],[\"Clifford, Mr. George Quincy\",\"male\",1],[\"Renouf, Mr. Peter Henry\",\"male\",2],[\"Braund, Mr. Lewis Richard\",\"male\",3],[\"Karlsson, Mr. Nils August\",\"male\",3],[\"Hirvonen, Miss. Hildur E\",\"female\",3],[\"Goodwin, Master. Harold Victor\",\"male\",3],[\"Frost, Mr. Anthony Wood \\\"Archie\\\"\",\"male\",2],[\"Rouse, Mr. Richard Henry\",\"male\",3],[\"Turkula, Mrs. (Hedwig)\",\"female\",3],[\"Bishop, Mr. Dickinson H\",\"male\",1],[\"Lefebre, Miss. Jeannie\",\"female\",3],[\"Hoyt, Mrs. Frederick Maxfield (Jane Anne Forby)\",\"female\",1],[\"Kent, Mr. Edward Austin\",\"male\",1],[\"Somerton, Mr. Francis William\",\"male\",3],[\"Coutts, Master. Eden Leslie \\\"Neville\\\"\",\"male\",3],[\"Hagland, Mr. Konrad Mathias Reiersen\",\"male\",3],[\"Windelov, Mr. Einar\",\"male\",3],[\"Molson, Mr. Harry Markland\",\"male\",1],[\"Artagaveytia, Mr. Ramon\",\"male\",1],[\"Stanley, Mr. Edward Roland\",\"male\",3],[\"Yousseff, Mr. Gerious\",\"male\",3],[\"Eustis, Miss. Elizabeth Mussey\",\"female\",1],[\"Shellard, Mr. Frederick William\",\"male\",3],[\"Allison, Mrs. Hudson J C (Bessie Waldo Daniels)\",\"female\",1],[\"Svensson, Mr. Olof\",\"male\",3],[\"Calic, Mr. Petar\",\"male\",3],[\"Canavan, Miss. Mary\",\"female\",3],[\"O'Sullivan, Miss. Bridget Mary\",\"female\",3],[\"Laitinen, Miss. Kristina Sofia\",\"female\",3],[\"Maioni, Miss. Roberta\",\"female\",1],[\"Penasco y Castellana, Mr. Victor de Satode\",\"male\",1],[\"Quick, Mrs. Frederick Charles (Jane Richards)\",\"female\",2],[\"Bradley, Mr. George (\\\"George Arthur Brayton\\\")\",\"male\",1],[\"Olsen, Mr. Henry Margido\",\"male\",3],[\"Lang, Mr. Fang\",\"male\",3],[\"Daly, Mr. Eugene Patrick\",\"male\",3],[\"Webber, Mr. James\",\"male\",3],[\"McGough, Mr. James Robert\",\"male\",1],[\"Rothschild, Mrs. Martin (Elizabeth L. Barrett)\",\"female\",1],[\"Coleff, Mr. Satio\",\"male\",3],[\"Walker, Mr. William Anderson\",\"male\",1],[\"Lemore, Mrs. (Amelia Milley)\",\"female\",2],[\"Ryan, Mr. Patrick\",\"male\",3],[\"Angle, Mrs. William A (Florence \\\"Mary\\\" Agnes Hughes)\",\"female\",2],[\"Pavlovic, Mr. Stefo\",\"male\",3],[\"Perreault, Miss. Anne\",\"female\",1],[\"Vovk, Mr. Janko\",\"male\",3],[\"Lahoud, Mr. Sarkis\",\"male\",3],[\"Hippach, Mrs. Louis Albert (Ida Sophia Fischer)\",\"female\",1],[\"Kassem, Mr. Fared\",\"male\",3],[\"Farrell, Mr. James\",\"male\",3],[\"Ridsdale, Miss. Lucy\",\"female\",2],[\"Farthing, Mr. John\",\"male\",1],[\"Salonen, Mr. Johan Werner\",\"male\",3],[\"Hocking, Mr. Richard George\",\"male\",2],[\"Quick, Miss. Phyllis May\",\"female\",2],[\"Toufik, Mr. Nakli\",\"male\",3],[\"Elias, Mr. Joseph Jr\",\"male\",3],[\"Peter, Mrs. Catherine (Catherine Rizk)\",\"female\",3],[\"Cacic, Miss. Marija\",\"female\",3],[\"Hart, Miss. Eva Miriam\",\"female\",2],[\"Butt, Major. Archibald Willingham\",\"male\",1],[\"LeRoy, Miss. Bertha\",\"female\",1],[\"Risien, Mr. Samuel Beard\",\"male\",3],[\"Frolicher, Miss. Hedwig Margaritha\",\"female\",1],[\"Crosby, Miss. Harriet R\",\"female\",1],[\"Andersson, Miss. Ingeborg Constanzia\",\"female\",3],[\"Andersson, Miss. Sigrid Elisabeth\",\"female\",3],[\"Beane, Mr. Edward\",\"male\",2],[\"Douglas, Mr. Walter Donald\",\"male\",1],[\"Nicholson, Mr. Arthur Ernest\",\"male\",1],[\"Beane, Mrs. Edward (Ethel Clarke)\",\"female\",2],[\"Padro y Manent, Mr. Julian\",\"male\",2],[\"Goldsmith, Mr. Frank John\",\"male\",3],[\"Davies, Master. John Morgan Jr\",\"male\",2],[\"Thayer, Mr. John Borland Jr\",\"male\",1],[\"Sharp, Mr. Percival James R\",\"male\",2],[\"O'Brien, Mr. Timothy\",\"male\",3],[\"Leeni, Mr. Fahim (\\\"Philip Zenni\\\")\",\"male\",3],[\"Ohman, Miss. Velin\",\"female\",3],[\"Wright, Mr. George\",\"male\",1],[\"Duff Gordon, Lady. (Lucille Christiana Sutherland) (\\\"Mrs Morgan\\\")\",\"female\",1],[\"Robbins, Mr. Victor\",\"male\",1],[\"Taussig, Mrs. Emil (Tillie Mandelbaum)\",\"female\",1],[\"de Messemaeker, Mrs. Guillaume Joseph (Emma)\",\"female\",3],[\"Morrow, Mr. Thomas Rowan\",\"male\",3],[\"Sivic, Mr. Husein\",\"male\",3],[\"Norman, Mr. Robert Douglas\",\"male\",2],[\"Simmons, Mr. John\",\"male\",3],[\"Meanwell, Miss. (Marion Ogden)\",\"female\",3],[\"Davies, Mr. Alfred J\",\"male\",3],[\"Stoytcheff, Mr. Ilia\",\"male\",3],[\"Palsson, Mrs. Nils (Alma Cornelia Berglund)\",\"female\",3],[\"Doharr, Mr. Tannous\",\"male\",3],[\"Jonsson, Mr. Carl\",\"male\",3],[\"Harris, Mr. George\",\"male\",2],[\"Appleton, Mrs. Edward Dale (Charlotte Lamson)\",\"female\",1],[\"Flynn, Mr. John Irwin (\\\"Irving\\\")\",\"male\",1],[\"Kelly, Miss. Mary\",\"female\",3],[\"Rush, Mr. Alfred George John\",\"male\",3],[\"Patchett, Mr. George\",\"male\",3],[\"Garside, Miss. Ethel\",\"female\",2],[\"Silvey, Mrs. William Baird (Alice Munger)\",\"female\",1],[\"Caram, Mrs. Joseph (Maria Elias)\",\"female\",3],[\"Jussila, Mr. Eiriik\",\"male\",3],[\"Christy, Miss. Julie Rachel\",\"female\",2],[\"Thayer, Mrs. John Borland (Marian Longstreth Morris)\",\"female\",1],[\"Downton, Mr. William James\",\"male\",2],[\"Ross, Mr. John Hugo\",\"male\",1],[\"Paulner, Mr. Uscher\",\"male\",3],[\"Taussig, Miss. Ruth\",\"female\",1],[\"Jarvis, Mr. John Denzil\",\"male\",2],[\"Frolicher-Stehli, Mr. Maxmillian\",\"male\",1],[\"Gilinski, Mr. Eliezer\",\"male\",3],[\"Murdlin, Mr. Joseph\",\"male\",3],[\"Rintamaki, Mr. Matti\",\"male\",3],[\"Stephenson, Mrs. Walter Bertram (Martha Eustis)\",\"female\",1],[\"Elsbury, Mr. William James\",\"male\",3],[\"Bourke, Miss. Mary\",\"female\",3],[\"Chapman, Mr. John Henry\",\"male\",2],[\"Van Impe, Mr. Jean Baptiste\",\"male\",3],[\"Leitch, Miss. Jessie Wills\",\"female\",2],[\"Johnson, Mr. Alfred\",\"male\",3],[\"Boulos, Mr. Hanna\",\"male\",3],[\"Duff Gordon, Sir. Cosmo Edmund (\\\"Mr Morgan\\\")\",\"male\",1],[\"Jacobsohn, Mrs. Sidney Samuel (Amy Frances Christy)\",\"female\",2],[\"Slabenoff, Mr. Petco\",\"male\",3],[\"Harrington, Mr. Charles H\",\"male\",1],[\"Torber, Mr. Ernst William\",\"male\",3],[\"Homer, Mr. Harry (\\\"Mr E Haven\\\")\",\"male\",1],[\"Lindell, Mr. Edvard Bengtsson\",\"male\",3],[\"Karaic, Mr. Milan\",\"male\",3],[\"Daniel, Mr. Robert Williams\",\"male\",1],[\"Laroche, Mrs. Joseph (Juliette Marie Louise Lafargue)\",\"female\",2],[\"Shutes, Miss. Elizabeth W\",\"female\",1],[\"Andersson, Mrs. Anders Johan (Alfrida Konstantia Brogren)\",\"female\",3],[\"Jardin, Mr. Jose Neto\",\"male\",3],[\"Murphy, Miss. Margaret Jane\",\"female\",3],[\"Horgan, Mr. John\",\"male\",3],[\"Brocklebank, Mr. William Alfred\",\"male\",3],[\"Herman, Miss. Alice\",\"female\",2],[\"Danbom, Mr. Ernst Gilbert\",\"male\",3],[\"Lobb, Mrs. William Arthur (Cordelia K Stanlick)\",\"female\",3],[\"Becker, Miss. Marion Louise\",\"female\",2],[\"Gavey, Mr. Lawrence\",\"male\",2],[\"Yasbeck, Mr. Antoni\",\"male\",3],[\"Kimball, Mr. Edwin Nelson Jr\",\"male\",1],[\"Nakid, Mr. Sahid\",\"male\",3],[\"Hansen, Mr. Henry Damsgaard\",\"male\",3],[\"Bowen, Mr. David John \\\"Dai\\\"\",\"male\",3],[\"Sutton, Mr. Frederick\",\"male\",1],[\"Kirkland, Rev. Charles Leonard\",\"male\",2],[\"Longley, Miss. Gretchen Fiske\",\"female\",1],[\"Bostandyeff, Mr. Guentcho\",\"male\",3],[\"O'Connell, Mr. Patrick D\",\"male\",3],[\"Barkworth, Mr. Algernon Henry Wilson\",\"male\",1],[\"Lundahl, Mr. Johan Svensson\",\"male\",3],[\"Stahelin-Maeglin, Dr. Max\",\"male\",1],[\"Parr, Mr. William Henry Marsh\",\"male\",1],[\"Skoog, Miss. Mabel\",\"female\",3],[\"Davis, Miss. Mary\",\"female\",2],[\"Leinonen, Mr. Antti Gustaf\",\"male\",3],[\"Collyer, Mr. Harvey\",\"male\",2],[\"Panula, Mrs. Juha (Maria Emilia Ojala)\",\"female\",3],[\"Thorneycroft, Mr. Percival\",\"male\",3],[\"Jensen, Mr. Hans Peder\",\"male\",3],[\"Sagesser, Mlle. Emma\",\"female\",1],[\"Skoog, Miss. Margit Elizabeth\",\"female\",3],[\"Foo, Mr. Choong\",\"male\",3],[\"Baclini, Miss. Eugenie\",\"female\",3],[\"Harper, Mr. Henry Sleeper\",\"male\",1],[\"Cor, Mr. Liudevit\",\"male\",3],[\"Simonius-Blumer, Col. Oberst Alfons\",\"male\",1],[\"Willey, Mr. Edward\",\"male\",3],[\"Stanley, Miss. Amy Zillah Elsie\",\"female\",3],[\"Mitkoff, Mr. Mito\",\"male\",3],[\"Doling, Miss. Elsie\",\"female\",2],[\"Kalvik, Mr. Johannes Halvorsen\",\"male\",3],[\"O'Leary, Miss. Hanora \\\"Norah\\\"\",\"female\",3],[\"Hegarty, Miss. Hanora \\\"Nora\\\"\",\"female\",3],[\"Hickman, Mr. Leonard Mark\",\"male\",2],[\"Radeff, Mr. Alexander\",\"male\",3],[\"Bourke, Mrs. John (Catherine)\",\"female\",3],[\"Eitemiller, Mr. George Floyd\",\"male\",2],[\"Newell, Mr. Arthur Webster\",\"male\",1],[\"Frauenthal, Dr. Henry William\",\"male\",1],[\"Badt, Mr. Mohamed\",\"male\",3],[\"Colley, Mr. Edward Pomeroy\",\"male\",1],[\"Coleff, Mr. Peju\",\"male\",3],[\"Lindqvist, Mr. Eino William\",\"male\",3],[\"Hickman, Mr. Lewis\",\"male\",2],[\"Butler, Mr. Reginald Fenton\",\"male\",2],[\"Rommetvedt, Mr. Knud Paust\",\"male\",3],[\"Cook, Mr. Jacob\",\"male\",3],[\"Taylor, Mrs. Elmer Zebley (Juliet Cummins Wright)\",\"female\",1],[\"Brown, Mrs. Thomas William Solomon (Elizabeth Catherine Ford)\",\"female\",2],[\"Davidson, Mr. Thornton\",\"male\",1],[\"Mitchell, Mr. Henry Michael\",\"male\",2],[\"Wilhelms, Mr. Charles\",\"male\",2],[\"Watson, Mr. Ennis Hastings\",\"male\",2],[\"Edvardsson, Mr. Gustaf Hjalmar\",\"male\",3],[\"Sawyer, Mr. Frederick Charles\",\"male\",3],[\"Turja, Miss. Anna Sofia\",\"female\",3],[\"Goodwin, Mrs. Frederick (Augusta Tyler)\",\"female\",3],[\"Cardeza, Mr. Thomas Drake Martinez\",\"male\",1],[\"Peters, Miss. Katie\",\"female\",3],[\"Hassab, Mr. Hammad\",\"male\",1],[\"Olsvigen, Mr. Thor Anderson\",\"male\",3],[\"Goodwin, Mr. Charles Edward\",\"male\",3],[\"Brown, Mr. Thomas William Solomon\",\"male\",2],[\"Laroche, Mr. Joseph Philippe Lemercier\",\"male\",2],[\"Panula, Mr. Jaako Arnold\",\"male\",3],[\"Dakic, Mr. Branko\",\"male\",3],[\"Fischer, Mr. Eberhard Thelander\",\"male\",3],[\"Madill, Miss. Georgette Alexandra\",\"female\",1],[\"Dick, Mr. Albert Adrian\",\"male\",1],[\"Karun, Miss. Manca\",\"female\",3],[\"Lam, Mr. Ali\",\"male\",3],[\"Saad, Mr. Khalil\",\"male\",3],[\"Weir, Col. John\",\"male\",1],[\"Chapman, Mr. Charles Henry\",\"male\",2],[\"Kelly, Mr. James\",\"male\",3],[\"Mullens, Miss. Katherine \\\"Katie\\\"\",\"female\",3],[\"Thayer, Mr. John Borland\",\"male\",1],[\"Humblen, Mr. Adolf Mathias Nicolai Olsen\",\"male\",3],[\"Astor, Mrs. John Jacob (Madeleine Talmadge Force)\",\"female\",1],[\"Silverthorne, Mr. Spencer Victor\",\"male\",1],[\"Barbara, Miss. Saiide\",\"female\",3],[\"Gallagher, Mr. Martin\",\"male\",3],[\"Hansen, Mr. Henrik Juul\",\"male\",3],[\"Morley, Mr. Henry Samuel (\\\"Mr Henry Marshall\\\")\",\"male\",2],[\"Kelly, Mrs. Florence \\\"Fannie\\\"\",\"female\",2],[\"Calderhead, Mr. Edward Pennington\",\"male\",1],[\"Cleaver, Miss. Alice\",\"female\",1],[\"Moubarek, Master. Halim Gonios (\\\"William George\\\")\",\"male\",3],[\"Mayne, Mlle. Berthe Antonine (\\\"Mrs de Villiers\\\")\",\"female\",1],[\"Klaber, Mr. Herman\",\"male\",1],[\"Taylor, Mr. Elmer Zebley\",\"male\",1],[\"Larsson, Mr. August Viktor\",\"male\",3],[\"Greenberg, Mr. Samuel\",\"male\",2],[\"Soholt, Mr. Peter Andreas Lauritz Andersen\",\"male\",3],[\"Endres, Miss. Caroline Louise\",\"female\",1],[\"Troutt, Miss. Edwina Celia \\\"Winnie\\\"\",\"female\",2],[\"McEvoy, Mr. Michael\",\"male\",3],[\"Johnson, Mr. Malkolm Joackim\",\"male\",3],[\"Harper, Miss. Annie Jessie \\\"Nina\\\"\",\"female\",2],[\"Jensen, Mr. Svend Lauritz\",\"male\",3],[\"Gillespie, Mr. William Henry\",\"male\",2],[\"Hodges, Mr. Henry Price\",\"male\",2],[\"Chambers, Mr. Norman Campbell\",\"male\",1],[\"Oreskovic, Mr. Luka\",\"male\",3],[\"Renouf, Mrs. Peter Henry (Lillian Jefferys)\",\"female\",2],[\"Mannion, Miss. Margareth\",\"female\",3],[\"Bryhl, Mr. Kurt Arnold Gottfrid\",\"male\",2],[\"Ilmakangas, Miss. Pieta Sofia\",\"female\",3],[\"Allen, Miss. Elisabeth Walton\",\"female\",1],[\"Hassan, Mr. Houssein G N\",\"male\",3],[\"Knight, Mr. Robert J\",\"male\",2],[\"Berriman, Mr. William John\",\"male\",2],[\"Troupiansky, Mr. Moses Aaron\",\"male\",2],[\"Williams, Mr. Leslie\",\"male\",3],[\"Ford, Mrs. Edward (Margaret Ann Watson)\",\"female\",3],[\"Lesurer, Mr. Gustave J\",\"male\",1],[\"Ivanoff, Mr. Kanio\",\"male\",3],[\"Nankoff, Mr. Minko\",\"male\",3],[\"Hawksford, Mr. Walter James\",\"male\",1],[\"Cavendish, Mr. Tyrell William\",\"male\",1],[\"Ryerson, Miss. Susan Parker \\\"Suzette\\\"\",\"female\",1],[\"McNamee, Mr. Neal\",\"male\",3],[\"Stranden, Mr. Juho\",\"male\",3],[\"Crosby, Capt. Edward Gifford\",\"male\",1],[\"Abbott, Mr. Rossmore Edward\",\"male\",3],[\"Sinkkonen, Miss. Anna\",\"female\",2],[\"Marvin, Mr. Daniel Warner\",\"male\",1],[\"Connaghton, Mr. Michael\",\"male\",3],[\"Wells, Miss. Joan\",\"female\",2],[\"Moor, Master. Meier\",\"male\",3],[\"Vande Velde, Mr. Johannes Joseph\",\"male\",3],[\"Jonkoff, Mr. Lalio\",\"male\",3],[\"Herman, Mrs. Samuel (Jane Laver)\",\"female\",2],[\"Hamalainen, Master. Viljo\",\"male\",2],[\"Carlsson, Mr. August Sigfrid\",\"male\",3],[\"Bailey, Mr. Percy Andrew\",\"male\",2],[\"Theobald, Mr. Thomas Leonard\",\"male\",3],[\"Rothes, the Countess. of (Lucy Noel Martha Dyer-Edwards)\",\"female\",1],[\"Garfirth, Mr. John\",\"male\",3],[\"Nirva, Mr. Iisakki Antino Aijo\",\"male\",3],[\"Barah, Mr. Hanna Assi\",\"male\",3],[\"Carter, Mrs. William Ernest (Lucile Polk)\",\"female\",1],[\"Eklund, Mr. Hans Linus\",\"male\",3],[\"Hogeboom, Mrs. John C (Anna Andrews)\",\"female\",1],[\"Brewe, Dr. Arthur Jackson\",\"male\",1],[\"Mangan, Miss. Mary\",\"female\",3],[\"Moran, Mr. Daniel J\",\"male\",3],[\"Gronnestad, Mr. Daniel Danielsen\",\"male\",3],[\"Lievens, Mr. Rene Aime\",\"male\",3],[\"Jensen, Mr. Niels Peder\",\"male\",3],[\"Mack, Mrs. (Mary)\",\"female\",2],[\"Elias, Mr. Dibo\",\"male\",3],[\"Hocking, Mrs. Elizabeth (Eliza Needs)\",\"female\",2],[\"Myhrman, Mr. Pehr Fabian Oliver Malkolm\",\"male\",3],[\"Tobin, Mr. Roger\",\"male\",3],[\"Emanuel, Miss. Virginia Ethel\",\"female\",3],[\"Kilgannon, Mr. Thomas J\",\"male\",3],[\"Robert, Mrs. Edward Scott (Elisabeth Walton McMillan)\",\"female\",1],[\"Ayoub, Miss. Banoura\",\"female\",3],[\"Dick, Mrs. Albert Adrian (Vera Gillespie)\",\"female\",1],[\"Long, Mr. Milton Clyde\",\"male\",1],[\"Johnston, Mr. Andrew G\",\"male\",3],[\"Ali, Mr. William\",\"male\",3],[\"Harmer, Mr. Abraham (David Lishin)\",\"male\",3],[\"Sjoblom, Miss. Anna Sofia\",\"female\",3],[\"Rice, Master. George Hugh\",\"male\",3],[\"Dean, Master. Bertram Vere\",\"male\",3],[\"Guggenheim, Mr. Benjamin\",\"male\",1],[\"Keane, Mr. Andrew \\\"Andy\\\"\",\"male\",3],[\"Gaskell, Mr. Alfred\",\"male\",2],[\"Sage, Miss. Stella Anna\",\"female\",3],[\"Hoyt, Mr. William Fisher\",\"male\",1],[\"Dantcheff, Mr. Ristiu\",\"male\",3],[\"Otter, Mr. Richard\",\"male\",2],[\"Leader, Dr. Alice (Farnham)\",\"female\",1],[\"Osman, Mrs. Mara\",\"female\",3],[\"Ibrahim Shawah, Mr. Yousseff\",\"male\",3],[\"Van Impe, Mrs. Jean Baptiste (Rosalie Paula Govaert)\",\"female\",3],[\"Ponesell, Mr. Martin\",\"male\",2],[\"Collyer, Mrs. Harvey (Charlotte Annie Tate)\",\"female\",2],[\"Carter, Master. William Thornton II\",\"male\",1],[\"Thomas, Master. Assad Alexander\",\"male\",3],[\"Hedman, Mr. Oskar Arvid\",\"male\",3],[\"Johansson, Mr. Karl Johan\",\"male\",3],[\"Andrews, Mr. Thomas Jr\",\"male\",1],[\"Pettersson, Miss. Ellen Natalia\",\"female\",3],[\"Meyer, Mr. August\",\"male\",2],[\"Chambers, Mrs. Norman Campbell (Bertha Griggs)\",\"female\",1],[\"Alexander, Mr. William\",\"male\",3],[\"Lester, Mr. James\",\"male\",3],[\"Slemen, Mr. Richard James\",\"male\",2],[\"Andersson, Miss. Ebba Iris Alfrida\",\"female\",3],[\"Tomlin, Mr. Ernest Portage\",\"male\",3],[\"Fry, Mr. Richard\",\"male\",1],[\"Heininen, Miss. Wendla Maria\",\"female\",3],[\"Mallet, Mr. Albert\",\"male\",2],[\"Holm, Mr. John Fredrik Alexander\",\"male\",3],[\"Skoog, Master. Karl Thorsten\",\"male\",3],[\"Hays, Mrs. Charles Melville (Clara Jennings Gregg)\",\"female\",1],[\"Lulic, Mr. Nikola\",\"male\",3],[\"Reuchlin, Jonkheer. John George\",\"male\",1],[\"Moor, Mrs. (Beila)\",\"female\",3],[\"Panula, Master. Urho Abraham\",\"male\",3],[\"Flynn, Mr. John\",\"male\",3],[\"Lam, Mr. Len\",\"male\",3],[\"Mallet, Master. Andre\",\"male\",2],[\"McCormack, Mr. Thomas Joseph\",\"male\",3],[\"Stone, Mrs. George Nelson (Martha Evelyn)\",\"female\",1],[\"Yasbeck, Mrs. Antoni (Selini Alexander)\",\"female\",3],[\"Richards, Master. George Sibley\",\"male\",2],[\"Saad, Mr. Amin\",\"male\",3],[\"Augustsson, Mr. Albert\",\"male\",3],[\"Allum, Mr. Owen George\",\"male\",3],[\"Compton, Miss. Sara Rebecca\",\"female\",1],[\"Pasic, Mr. Jakob\",\"male\",3],[\"Sirota, Mr. Maurice\",\"male\",3],[\"Chip, Mr. Chang\",\"male\",3],[\"Marechal, Mr. Pierre\",\"male\",1],[\"Alhomaki, Mr. Ilmari Rudolf\",\"male\",3],[\"Mudd, Mr. Thomas Charles\",\"male\",2],[\"Serepeca, Miss. Augusta\",\"female\",1],[\"Lemberopolous, Mr. Peter L\",\"male\",3],[\"Culumovic, Mr. Jeso\",\"male\",3],[\"Abbing, Mr. Anthony\",\"male\",3],[\"Sage, Mr. Douglas Bullen\",\"male\",3],[\"Markoff, Mr. Marin\",\"male\",3],[\"Harper, Rev. John\",\"male\",2],[\"Goldenberg, Mrs. Samuel L (Edwiga Grabowska)\",\"female\",1],[\"Andersson, Master. Sigvard Harald Elias\",\"male\",3],[\"Svensson, Mr. Johan\",\"male\",3],[\"Boulos, Miss. Nourelain\",\"female\",3],[\"Lines, Miss. Mary Conover\",\"female\",1],[\"Carter, Mrs. Ernest Courtenay (Lilian Hughes)\",\"female\",2],[\"Aks, Mrs. Sam (Leah Rosen)\",\"female\",3],[\"Wick, Mrs. George Dennick (Mary Hitchcock)\",\"female\",1],[\"Daly, Mr. Peter Denis \",\"male\",1],[\"Baclini, Mrs. Solomon (Latifa Qurban)\",\"female\",3],[\"Razi, Mr. Raihed\",\"male\",3],[\"Hansen, Mr. Claus Peter\",\"male\",3],[\"Giles, Mr. Frederick Edward\",\"male\",2],[\"Swift, Mrs. Frederick Joel (Margaret Welles Barron)\",\"female\",1],[\"Sage, Miss. Dorothy Edith \\\"Dolly\\\"\",\"female\",3],[\"Gill, Mr. John William\",\"male\",2],[\"Bystrom, Mrs. (Karolina)\",\"female\",2],[\"Duran y More, Miss. Asuncion\",\"female\",2],[\"Roebling, Mr. Washington Augustus II\",\"male\",1],[\"van Melkebeke, Mr. Philemon\",\"male\",3],[\"Johnson, Master. Harold Theodor\",\"male\",3],[\"Balkic, Mr. Cerin\",\"male\",3],[\"Beckwith, Mrs. Richard Leonard (Sallie Monypeny)\",\"female\",1],[\"Carlsson, Mr. Frans Olof\",\"male\",1],[\"Vander Cruyssen, Mr. Victor\",\"male\",3],[\"Abelson, Mrs. Samuel (Hannah Wizosky)\",\"female\",2],[\"Najib, Miss. Adele Kiamie \\\"Jane\\\"\",\"female\",3],[\"Gustafsson, Mr. Alfred Ossian\",\"male\",3],[\"Petroff, Mr. Nedelio\",\"male\",3],[\"Laleff, Mr. Kristo\",\"male\",3],[\"Potter, Mrs. Thomas Jr (Lily Alexenia Wilson)\",\"female\",1],[\"Shelley, Mrs. William (Imanita Parrish Hall)\",\"female\",2],[\"Markun, Mr. Johann\",\"male\",3],[\"Dahlberg, Miss. Gerda Ulrika\",\"female\",3],[\"Banfield, Mr. Frederick James\",\"male\",2],[\"Sutehall, Mr. Henry Jr\",\"male\",3],[\"Rice, Mrs. William (Margaret Norton)\",\"female\",3],[\"Montvila, Rev. Juozas\",\"male\",2],[\"Graham, Miss. Margaret Edith\",\"female\",1],[\"Johnston, Miss. Catherine Helen \\\"Carrie\\\"\",\"female\",3],[\"Behr, Mr. Karl Howell\",\"male\",1],[\"Dooley, Mr. Patrick\",\"male\",3]],\"hovertemplate\":\"Age=%{x}\\u003cbr\\u003eFare=%{y}\\u003cbr\\u003eName=%{customdata[0]}\\u003cbr\\u003eSex=%{customdata[1]}\\u003cbr\\u003ePclass=%{customdata[2]}\\u003cbr\\u003eSurvived=%{marker.color}\\u003cextra\\u003e\\u003c\\u002fextra\\u003e\",\"legendgroup\":\"\",\"marker\":{\"color\":[0,1,1,1,0,0,0,0,1,1,1,1,0,0,0,1,0,1,0,1,0,1,1,1,0,1,0,0,1,0,0,1,1,0,0,0,1,0,0,1,0,0,0,1,1,0,0,1,0,0,0,0,1,1,0,1,1,0,1,0,0,1,0,0,0,1,1,0,1,0,0,0,0,0,1,0,0,0,1,1,0,1,1,0,1,1,0,0,1,0,0,0,0,0,0,0,0,1,1,0,0,0,0,0,0,0,1,1,0,1,0,0,0,0,0,0,0,0,0,0,0,0,0,1,0,1,0,1,1,0,0,0,0,1,0,0,1,0,0,0,0,1,1,0,0,0,1,0,0,0,0,1,0,0,0,0,1,0,0,0,0,1,0,0,0,1,1,0,0,0,0,0,1,0,0,0,0,0,0,0,0,0,0,1,1,0,1,1,0,0,1,0,1,1,1,1,0,0,1,0,0,0,0,0,1,0,0,1,1,1,0,1,0,0,0,1,1,0,1,0,1,0,0,0,1,0,1,0,0,0,1,0,0,1,0,0,0,1,0,0,0,1,0,0,0,0,0,1,1,0,0,0,0,0,0,1,1,1,1,1,0,1,0,0,0,0,0,1,1,1,0,1,1,0,1,1,0,0,0,1,0,0,0,1,0,0,1,0,1,1,1,1,0,0,0,0,0,0,1,1,1,1,0,1,0,1,1,1,0,1,1,1,0,0,0,1,1,0,1,1,0,0,1,1,0,1,0,1,1,1,1,0,0,0,1,0,0,1,1,0,1,1,0,0,0,1,1,1,1,0,0,0,0,0,0,0,1,0,1,1,0,0,0,0,0,0,1,1,1,1,1,0,0,0,0,1,1,0,0,0,1,1,0,1,0,0,0,1,0,1,1,1,0,1,1,0,0,0,0,1,1,0,0,0,0,0,0,1,0,0,0,0,1,0,1,0,1,1,0,0,0,0,0,0,0,0,1,1,0,1,1,1,1,0,0,1,0,1,0,0,1,0,0,1,1,1,1,1,1,1,0,0,0,1,0,1,0,1,1,0,1,0,0,0,0,0,0,0,0,1,0,0,1,1,0,0,0,0,0,1,0,0,0,1,1,0,1,0,0,1,0,0,0,0,0,0,1,0,0,0,0,0,0,0,1,0,1,1,0,1,1,0,1,1,0,0,1,0,1,0,1,0,0,1,0,0,1,0,0,0,1,0,0,1,0,1,0,1,0,1,1,0,0,1,0,0,1,1,0,1,1,0,0,1,1,0,1,0,1,1,0,0,0,0,0,0,0,0,0,1,1,1,1,1,0,0,1,1,0,1,1,1,0,0,0,1,0,1,0,0,0,1,0,0,0,0,1,0,0,1,1,0,0,0,1,0,0,1,1,1,0,0,1,0,0,1,0,0,1,0,0,1,1,0,0,0,0,1,0,0,1,0,1,0,0,1,0,0,0,0,0,1,0,1,1,1,0,1,0,1,0,1,0,1,0,0,0,0,0,0,1,0,0,0,1,0,0,0,0,1,1,0,0,1,0,0,0,1,0,1,0,1,0,0,0,0,0,0,0,1,1,1,1,0,0,0,0,1,0,0,1,1,0,0,0,0,1,1,1,1,1,0,1,0,0,0,1,1,0,0,1,0,0,0,1,0,1,1,0,0,1,0,0,0,0,0,0,1,0,0,1,0,1,0,1,0,0,1,0,0,1,1,0,0,1,1,0,0,0,1,0,0,1,1,0,1,0,0,0,0,0,0,0,0,1,0,0,1,0,1,1,1,0,0,0,0,1,0,1,0,0,0,0,0,0,0,1,1,0,0,0,1,1,1,1,0,0,0,0,1,0,0,0,0,0,0,0,0,0,0,1,1,0,1,0,0,0,1,1,1,1,1,0,0,0,1,0,0,1,1,0,0,1,0,0,0,0,0,0,1,0,0,0,1,0,1,1,1,1,0,0,0,1,0,0,1,1,0,0,1,0,1,0,0,1,1,0,0,0,1,1,0,0,0,0,0,0,1,0,1,0],\"coloraxis\":\"coloraxis\",\"symbol\":\"circle\"},\"mode\":\"markers\",\"name\":\"\",\"orientation\":\"v\",\"showlegend\":false,\"x\":[22.0,38.0,26.0,35.0,35.0,null,54.0,2.0,27.0,14.0,4.0,58.0,20.0,39.0,14.0,55.0,2.0,null,31.0,null,35.0,34.0,15.0,28.0,8.0,38.0,null,19.0,null,null,40.0,null,null,66.0,28.0,42.0,null,21.0,18.0,14.0,40.0,27.0,null,3.0,19.0,null,null,null,null,18.0,7.0,21.0,49.0,29.0,65.0,null,21.0,28.5,5.0,11.0,22.0,38.0,45.0,4.0,null,null,29.0,19.0,17.0,26.0,32.0,16.0,21.0,26.0,32.0,25.0,null,null,0.83,30.0,22.0,29.0,null,28.0,17.0,33.0,16.0,null,23.0,24.0,29.0,20.0,46.0,26.0,59.0,null,71.0,23.0,34.0,34.0,28.0,null,21.0,33.0,37.0,28.0,21.0,null,38.0,null,47.0,14.5,22.0,20.0,17.0,21.0,70.5,29.0,24.0,2.0,21.0,null,32.5,32.5,54.0,12.0,null,24.0,null,45.0,33.0,20.0,47.0,29.0,25.0,23.0,19.0,37.0,16.0,24.0,null,22.0,24.0,19.0,18.0,19.0,27.0,9.0,36.5,42.0,51.0,22.0,55.5,40.5,null,51.0,16.0,30.0,null,null,44.0,40.0,26.0,17.0,1.0,9.0,null,45.0,null,28.0,61.0,4.0,1.0,21.0,56.0,18.0,null,50.0,30.0,36.0,null,null,9.0,1.0,4.0,null,null,45.0,40.0,36.0,32.0,19.0,19.0,3.0,44.0,58.0,null,42.0,null,24.0,28.0,null,34.0,45.5,18.0,2.0,32.0,26.0,16.0,40.0,24.0,35.0,22.0,30.0,null,31.0,27.0,42.0,32.0,30.0,16.0,27.0,51.0,null,38.0,22.0,19.0,20.5,18.0,null,35.0,29.0,59.0,5.0,24.0,null,44.0,8.0,19.0,33.0,null,null,29.0,22.0,30.0,44.0,25.0,24.0,37.0,54.0,null,29.0,62.0,30.0,41.0,29.0,null,30.0,35.0,50.0,null,3.0,52.0,40.0,null,36.0,16.0,25.0,58.0,35.0,null,25.0,41.0,37.0,null,63.0,45.0,null,7.0,35.0,65.0,28.0,16.0,19.0,null,33.0,30.0,22.0,42.0,22.0,26.0,19.0,36.0,24.0,24.0,null,23.5,2.0,null,50.0,null,null,19.0,null,null,0.92,null,17.0,30.0,30.0,24.0,18.0,26.0,28.0,43.0,26.0,24.0,54.0,31.0,40.0,22.0,27.0,30.0,22.0,null,36.0,61.0,36.0,31.0,16.0,null,45.5,38.0,16.0,null,null,29.0,41.0,45.0,45.0,2.0,24.0,28.0,25.0,36.0,24.0,40.0,null,3.0,42.0,23.0,null,15.0,25.0,null,28.0,22.0,38.0,null,null,40.0,29.0,45.0,35.0,null,30.0,60.0,null,null,24.0,25.0,18.0,19.0,22.0,3.0,null,22.0,27.0,20.0,19.0,42.0,1.0,32.0,35.0,null,18.0,1.0,36.0,null,17.0,36.0,21.0,28.0,23.0,24.0,22.0,31.0,46.0,23.0,28.0,39.0,26.0,21.0,28.0,20.0,34.0,51.0,3.0,21.0,null,null,null,33.0,null,44.0,null,34.0,18.0,30.0,10.0,null,21.0,29.0,28.0,18.0,null,28.0,19.0,null,32.0,28.0,null,42.0,17.0,50.0,14.0,21.0,24.0,64.0,31.0,45.0,20.0,25.0,28.0,null,4.0,13.0,34.0,5.0,52.0,36.0,null,30.0,49.0,null,29.0,65.0,null,50.0,null,48.0,34.0,47.0,48.0,null,38.0,null,56.0,null,0.75,null,38.0,33.0,23.0,22.0,null,34.0,29.0,22.0,2.0,9.0,null,50.0,63.0,25.0,null,35.0,58.0,30.0,9.0,null,21.0,55.0,71.0,21.0,null,54.0,null,25.0,24.0,17.0,21.0,null,37.0,16.0,18.0,33.0,null,28.0,26.0,29.0,null,36.0,54.0,24.0,47.0,34.0,null,36.0,32.0,30.0,22.0,null,44.0,null,40.5,50.0,null,39.0,23.0,2.0,null,17.0,null,30.0,7.0,45.0,30.0,null,22.0,36.0,9.0,11.0,32.0,50.0,64.0,19.0,null,33.0,8.0,17.0,27.0,null,22.0,22.0,62.0,48.0,null,39.0,36.0,null,40.0,28.0,null,null,24.0,19.0,29.0,null,32.0,62.0,53.0,36.0,null,16.0,19.0,34.0,39.0,null,32.0,25.0,39.0,54.0,36.0,null,18.0,47.0,60.0,22.0,null,35.0,52.0,47.0,null,37.0,36.0,null,49.0,null,49.0,24.0,null,null,44.0,35.0,36.0,30.0,27.0,22.0,40.0,39.0,null,null,null,35.0,24.0,34.0,26.0,4.0,26.0,27.0,42.0,20.0,21.0,21.0,61.0,57.0,21.0,26.0,null,80.0,51.0,32.0,null,9.0,28.0,32.0,31.0,41.0,null,20.0,24.0,2.0,null,0.75,48.0,19.0,56.0,null,23.0,null,18.0,21.0,null,18.0,24.0,null,32.0,23.0,58.0,50.0,40.0,47.0,36.0,20.0,32.0,25.0,null,43.0,null,40.0,31.0,70.0,31.0,null,18.0,24.5,18.0,43.0,36.0,null,27.0,20.0,14.0,60.0,25.0,14.0,19.0,18.0,15.0,31.0,4.0,null,25.0,60.0,52.0,44.0,null,49.0,42.0,18.0,35.0,18.0,25.0,26.0,39.0,45.0,42.0,22.0,null,24.0,null,48.0,29.0,52.0,19.0,38.0,27.0,null,33.0,6.0,17.0,34.0,50.0,27.0,20.0,30.0,null,25.0,25.0,29.0,11.0,null,23.0,23.0,28.5,48.0,35.0,null,null,null,36.0,21.0,24.0,31.0,70.0,16.0,30.0,19.0,31.0,4.0,6.0,33.0,23.0,48.0,0.67,28.0,18.0,34.0,33.0,null,41.0,20.0,36.0,16.0,51.0,null,30.5,null,32.0,24.0,48.0,57.0,null,54.0,18.0,null,5.0,null,43.0,13.0,17.0,29.0,null,25.0,25.0,18.0,8.0,1.0,46.0,null,16.0,null,null,25.0,39.0,49.0,31.0,30.0,30.0,34.0,31.0,11.0,0.42,27.0,31.0,39.0,18.0,39.0,33.0,26.0,39.0,35.0,6.0,30.5,null,23.0,31.0,43.0,10.0,52.0,27.0,38.0,27.0,2.0,null,null,1.0,null,62.0,15.0,0.83,null,23.0,18.0,39.0,21.0,null,32.0,null,20.0,16.0,30.0,34.5,17.0,42.0,null,35.0,28.0,null,4.0,74.0,9.0,16.0,44.0,18.0,45.0,51.0,24.0,null,41.0,21.0,48.0,null,24.0,42.0,27.0,31.0,null,4.0,26.0,47.0,33.0,47.0,28.0,15.0,20.0,19.0,null,56.0,25.0,33.0,22.0,28.0,25.0,39.0,27.0,19.0,null,26.0,32.0],\"xaxis\":\"x\",\"y\":[7.25,71.2833,7.925,53.1,8.05,8.4583,51.8625,21.075,11.1333,30.0708,16.7,26.55,8.05,31.275,7.8542,16.0,29.125,13.0,18.0,7.225,26.0,13.0,8.0292,35.5,21.075,31.3875,7.225,263.0,7.8792,7.8958,27.7208,146.5208,7.75,10.5,82.1708,52.0,7.2292,8.05,18.0,11.2417,9.475,21.0,7.8958,41.5792,7.8792,8.05,15.5,7.75,21.6792,17.8,39.6875,7.8,76.7292,26.0,61.9792,35.5,10.5,7.2292,27.75,46.9,7.2292,80.0,83.475,27.9,27.7208,15.2458,10.5,8.1583,7.925,8.6625,10.5,46.9,73.5,14.4542,56.4958,7.65,7.8958,8.05,29.0,12.475,9.0,9.5,7.7875,47.1,10.5,15.85,34.375,8.05,263.0,8.05,8.05,7.8542,61.175,20.575,7.25,8.05,34.6542,63.3583,23.0,26.0,7.8958,7.8958,77.2875,8.6542,7.925,7.8958,7.65,7.775,7.8958,24.15,52.0,14.4542,8.05,9.825,14.4583,7.925,7.75,21.0,247.5208,31.275,73.5,8.05,30.0708,13.0,77.2875,11.2417,7.75,7.1417,22.3583,6.975,7.8958,7.05,14.5,26.0,13.0,15.0458,26.2833,53.1,9.2167,79.2,15.2458,7.75,15.85,6.75,11.5,36.75,7.7958,34.375,26.0,13.0,12.525,66.6,8.05,14.5,7.3125,61.3792,7.7333,8.05,8.6625,69.55,16.1,15.75,7.775,8.6625,39.6875,20.525,55.0,27.9,25.925,56.4958,33.5,29.125,11.1333,7.925,30.6958,7.8542,25.4667,28.7125,13.0,0.0,69.55,15.05,31.3875,39.0,22.025,50.0,15.5,26.55,15.5,7.8958,13.0,13.0,7.8542,26.0,27.7208,146.5208,7.75,8.4042,7.75,13.0,9.5,69.55,6.4958,7.225,8.05,10.4625,15.85,18.7875,7.75,31.0,7.05,21.0,7.25,13.0,7.75,113.275,7.925,27.0,76.2917,10.5,8.05,13.0,8.05,7.8958,90.0,9.35,10.5,7.25,13.0,25.4667,83.475,7.775,13.5,31.3875,10.5,7.55,26.0,26.25,10.5,12.275,14.4542,15.5,10.5,7.125,7.225,90.0,7.775,14.5,52.5542,26.0,7.25,10.4625,26.55,16.1,20.2125,15.2458,79.2,86.5,512.3292,26.0,7.75,31.3875,79.65,0.0,7.75,10.5,39.6875,7.775,153.4625,135.6333,31.0,0.0,19.5,29.7,7.75,77.9583,7.75,0.0,29.125,20.25,7.75,7.8542,9.5,8.05,26.0,8.6625,9.5,7.8958,13.0,7.75,78.85,91.0792,12.875,8.85,7.8958,27.7208,7.2292,151.55,30.5,247.5208,7.75,23.25,0.0,12.35,8.05,151.55,110.8833,108.9,24.0,56.9292,83.1583,262.375,26.0,7.8958,26.25,7.8542,26.0,14.0,164.8667,134.5,7.25,7.8958,12.35,29.0,69.55,135.6333,6.2375,13.0,20.525,57.9792,23.25,28.5,153.4625,18.0,133.65,7.8958,66.6,134.5,8.05,35.5,26.0,263.0,13.0,13.0,13.0,13.0,13.0,16.1,15.9,8.6625,9.225,35.0,7.2292,17.8,7.225,9.5,55.0,13.0,7.8792,7.8792,27.9,27.7208,14.4542,7.05,15.5,7.25,75.25,7.2292,7.75,69.3,55.4417,6.4958,8.05,135.6333,21.075,82.1708,7.25,211.5,4.0125,7.775,227.525,15.7417,7.925,52.0,7.8958,73.5,46.9,13.0,7.7292,12.0,120.0,7.7958,7.925,113.275,16.7,7.7958,7.8542,26.0,10.5,12.65,7.925,8.05,9.825,15.85,8.6625,21.0,7.75,18.75,7.775,25.4667,7.8958,6.8583,90.0,0.0,7.925,8.05,32.5,13.0,13.0,24.15,7.8958,7.7333,7.875,14.4,20.2125,7.25,26.0,26.0,7.75,8.05,26.55,16.1,26.0,7.125,55.9,120.0,34.375,18.75,263.0,10.5,26.25,9.5,7.775,13.0,8.1125,81.8583,19.5,26.55,19.2583,30.5,27.75,19.9667,27.75,89.1042,8.05,7.8958,26.55,51.8625,10.5,7.75,26.55,8.05,38.5,13.0,8.05,7.05,0.0,26.55,7.725,19.2583,7.25,8.6625,27.75,13.7917,9.8375,52.0,21.0,7.0458,7.5208,12.2875,46.9,0.0,8.05,9.5875,91.0792,25.4667,90.0,29.7,8.05,15.9,19.9667,7.25,30.5,49.5042,8.05,14.4583,78.2667,15.1,151.55,7.7958,8.6625,7.75,7.6292,9.5875,86.5,108.9,26.0,26.55,22.525,56.4958,7.75,8.05,26.2875,59.4,7.4958,34.0208,10.5,24.15,26.0,7.8958,93.5,7.8958,7.225,57.9792,7.2292,7.75,10.5,221.7792,7.925,11.5,26.0,7.2292,7.2292,22.3583,8.6625,26.25,26.55,106.425,14.5,49.5,71.0,31.275,31.275,26.0,106.425,26.0,26.0,13.8625,20.525,36.75,110.8833,26.0,7.8292,7.225,7.775,26.55,39.6,227.525,79.65,17.4,7.75,7.8958,13.5,8.05,8.05,24.15,7.8958,21.075,7.2292,7.8542,10.5,51.4792,26.3875,7.75,8.05,14.5,13.0,55.9,14.4583,7.925,30.0,110.8833,26.0,40.125,8.7125,79.65,15.0,79.2,8.05,8.05,7.125,78.2667,7.25,7.75,26.0,24.15,33.0,0.0,7.225,56.9292,27.0,7.8958,42.4,8.05,26.55,15.55,7.8958,30.5,41.5792,153.4625,31.275,7.05,15.5,7.75,8.05,65.0,14.4,16.1,39.0,10.5,14.4542,52.5542,15.7417,7.8542,16.1,32.3208,12.35,77.9583,7.8958,7.7333,30.0,7.0542,30.5,0.0,27.9,13.0,7.925,26.25,39.6875,16.1,7.8542,69.3,27.9,56.4958,19.2583,76.7292,7.8958,35.5,7.55,7.55,7.8958,23.0,8.4333,7.8292,6.75,73.5,7.8958,15.5,13.0,113.275,133.65,7.225,25.5875,7.4958,7.925,73.5,13.0,7.775,8.05,52.0,39.0,52.0,10.5,13.0,0.0,7.775,8.05,9.8417,46.9,512.3292,8.1375,76.7292,9.225,46.9,39.0,41.5792,39.6875,10.1708,7.7958,211.3375,57.0,13.4167,56.4958,7.225,26.55,13.5,8.05,7.7333,110.8833,7.65,227.525,26.2875,14.4542,7.7417,7.8542,26.0,13.5,26.2875,151.55,15.2458,49.5042,26.55,52.0,9.4833,13.0,7.65,227.525,10.5,15.5,7.775,33.0,7.0542,13.0,13.0,53.1,8.6625,21.0,7.7375,26.0,7.925,211.3375,18.7875,0.0,13.0,13.0,16.1,34.375,512.3292,7.8958,7.8958,30.0,78.85,262.375,16.1,7.925,71.0,20.25,13.0,53.1,7.75,23.0,12.475,9.5,7.8958,65.0,14.5,7.7958,11.5,8.05,86.5,14.5,7.125,7.2292,120.0,7.775,77.9583,39.6,7.75,24.15,8.3625,9.5,7.8542,10.5,7.225,23.0,7.75,7.75,12.475,7.7375,211.3375,7.2292,57.0,30.0,23.45,7.05,7.25,7.4958,29.125,20.575,79.2,7.75,26.0,69.55,30.6958,7.8958,13.0,25.9292,8.6833,7.2292,24.15,13.0,26.25,120.0,8.5167,6.975,7.775,0.0,7.775,13.0,53.1,7.8875,24.15,10.5,31.275,8.05,0.0,7.925,37.0042,6.45,27.9,93.5,8.6625,0.0,12.475,39.6875,6.95,56.4958,37.0042,7.75,80.0,14.4542,18.75,7.2292,7.8542,8.3,83.1583,8.6625,8.05,56.4958,29.7,7.925,10.5,31.0,6.4375,8.6625,7.55,69.55,7.8958,33.0,89.1042,31.275,7.775,15.2458,39.4,26.0,9.35,164.8667,26.55,19.2583,7.2292,14.1083,11.5,25.9292,69.55,13.0,13.0,13.8583,50.4958,9.5,11.1333,7.8958,52.5542,5.0,9.0,24.0,7.225,9.8458,7.8958,7.8958,83.1583,26.0,7.8958,10.5167,10.5,7.05,29.125,13.0,30.0,23.45,30.0,7.75],\"yaxis\":\"y\",\"type\":\"scatter\"}],                        {\"template\":{\"data\":{\"histogram2dcontour\":[{\"type\":\"histogram2dcontour\",\"colorbar\":{\"outlinewidth\":0,\"ticks\":\"\"},\"colorscale\":[[0.0,\"#0d0887\"],[0.1111111111111111,\"#46039f\"],[0.2222222222222222,\"#7201a8\"],[0.3333333333333333,\"#9c179e\"],[0.4444444444444444,\"#bd3786\"],[0.5555555555555556,\"#d8576b\"],[0.6666666666666666,\"#ed7953\"],[0.7777777777777778,\"#fb9f3a\"],[0.8888888888888888,\"#fdca26\"],[1.0,\"#f0f921\"]]}],\"choropleth\":[{\"type\":\"choropleth\",\"colorbar\":{\"outlinewidth\":0,\"ticks\":\"\"}}],\"histogram2d\":[{\"type\":\"histogram2d\",\"colorbar\":{\"outlinewidth\":0,\"ticks\":\"\"},\"colorscale\":[[0.0,\"#0d0887\"],[0.1111111111111111,\"#46039f\"],[0.2222222222222222,\"#7201a8\"],[0.3333333333333333,\"#9c179e\"],[0.4444444444444444,\"#bd3786\"],[0.5555555555555556,\"#d8576b\"],[0.6666666666666666,\"#ed7953\"],[0.7777777777777778,\"#fb9f3a\"],[0.8888888888888888,\"#fdca26\"],[1.0,\"#f0f921\"]]}],\"heatmap\":[{\"type\":\"heatmap\",\"colorbar\":{\"outlinewidth\":0,\"ticks\":\"\"},\"colorscale\":[[0.0,\"#0d0887\"],[0.1111111111111111,\"#46039f\"],[0.2222222222222222,\"#7201a8\"],[0.3333333333333333,\"#9c179e\"],[0.4444444444444444,\"#bd3786\"],[0.5555555555555556,\"#d8576b\"],[0.6666666666666666,\"#ed7953\"],[0.7777777777777778,\"#fb9f3a\"],[0.8888888888888888,\"#fdca26\"],[1.0,\"#f0f921\"]]}],\"heatmapgl\":[{\"type\":\"heatmapgl\",\"colorbar\":{\"outlinewidth\":0,\"ticks\":\"\"},\"colorscale\":[[0.0,\"#0d0887\"],[0.1111111111111111,\"#46039f\"],[0.2222222222222222,\"#7201a8\"],[0.3333333333333333,\"#9c179e\"],[0.4444444444444444,\"#bd3786\"],[0.5555555555555556,\"#d8576b\"],[0.6666666666666666,\"#ed7953\"],[0.7777777777777778,\"#fb9f3a\"],[0.8888888888888888,\"#fdca26\"],[1.0,\"#f0f921\"]]}],\"contourcarpet\":[{\"type\":\"contourcarpet\",\"colorbar\":{\"outlinewidth\":0,\"ticks\":\"\"}}],\"contour\":[{\"type\":\"contour\",\"colorbar\":{\"outlinewidth\":0,\"ticks\":\"\"},\"colorscale\":[[0.0,\"#0d0887\"],[0.1111111111111111,\"#46039f\"],[0.2222222222222222,\"#7201a8\"],[0.3333333333333333,\"#9c179e\"],[0.4444444444444444,\"#bd3786\"],[0.5555555555555556,\"#d8576b\"],[0.6666666666666666,\"#ed7953\"],[0.7777777777777778,\"#fb9f3a\"],[0.8888888888888888,\"#fdca26\"],[1.0,\"#f0f921\"]]}],\"surface\":[{\"type\":\"surface\",\"colorbar\":{\"outlinewidth\":0,\"ticks\":\"\"},\"colorscale\":[[0.0,\"#0d0887\"],[0.1111111111111111,\"#46039f\"],[0.2222222222222222,\"#7201a8\"],[0.3333333333333333,\"#9c179e\"],[0.4444444444444444,\"#bd3786\"],[0.5555555555555556,\"#d8576b\"],[0.6666666666666666,\"#ed7953\"],[0.7777777777777778,\"#fb9f3a\"],[0.8888888888888888,\"#fdca26\"],[1.0,\"#f0f921\"]]}],\"mesh3d\":[{\"type\":\"mesh3d\",\"colorbar\":{\"outlinewidth\":0,\"ticks\":\"\"}}],\"scatter\":[{\"fillpattern\":{\"fillmode\":\"overlay\",\"size\":10,\"solidity\":0.2},\"type\":\"scatter\"}],\"parcoords\":[{\"type\":\"parcoords\",\"line\":{\"colorbar\":{\"outlinewidth\":0,\"ticks\":\"\"}}}],\"scatterpolargl\":[{\"type\":\"scatterpolargl\",\"marker\":{\"colorbar\":{\"outlinewidth\":0,\"ticks\":\"\"}}}],\"bar\":[{\"error_x\":{\"color\":\"#2a3f5f\"},\"error_y\":{\"color\":\"#2a3f5f\"},\"marker\":{\"line\":{\"color\":\"#E5ECF6\",\"width\":0.5},\"pattern\":{\"fillmode\":\"overlay\",\"size\":10,\"solidity\":0.2}},\"type\":\"bar\"}],\"scattergeo\":[{\"type\":\"scattergeo\",\"marker\":{\"colorbar\":{\"outlinewidth\":0,\"ticks\":\"\"}}}],\"scatterpolar\":[{\"type\":\"scatterpolar\",\"marker\":{\"colorbar\":{\"outlinewidth\":0,\"ticks\":\"\"}}}],\"histogram\":[{\"marker\":{\"pattern\":{\"fillmode\":\"overlay\",\"size\":10,\"solidity\":0.2}},\"type\":\"histogram\"}],\"scattergl\":[{\"type\":\"scattergl\",\"marker\":{\"colorbar\":{\"outlinewidth\":0,\"ticks\":\"\"}}}],\"scatter3d\":[{\"type\":\"scatter3d\",\"line\":{\"colorbar\":{\"outlinewidth\":0,\"ticks\":\"\"}},\"marker\":{\"colorbar\":{\"outlinewidth\":0,\"ticks\":\"\"}}}],\"scattermapbox\":[{\"type\":\"scattermapbox\",\"marker\":{\"colorbar\":{\"outlinewidth\":0,\"ticks\":\"\"}}}],\"scatterternary\":[{\"type\":\"scatterternary\",\"marker\":{\"colorbar\":{\"outlinewidth\":0,\"ticks\":\"\"}}}],\"scattercarpet\":[{\"type\":\"scattercarpet\",\"marker\":{\"colorbar\":{\"outlinewidth\":0,\"ticks\":\"\"}}}],\"carpet\":[{\"aaxis\":{\"endlinecolor\":\"#2a3f5f\",\"gridcolor\":\"white\",\"linecolor\":\"white\",\"minorgridcolor\":\"white\",\"startlinecolor\":\"#2a3f5f\"},\"baxis\":{\"endlinecolor\":\"#2a3f5f\",\"gridcolor\":\"white\",\"linecolor\":\"white\",\"minorgridcolor\":\"white\",\"startlinecolor\":\"#2a3f5f\"},\"type\":\"carpet\"}],\"table\":[{\"cells\":{\"fill\":{\"color\":\"#EBF0F8\"},\"line\":{\"color\":\"white\"}},\"header\":{\"fill\":{\"color\":\"#C8D4E3\"},\"line\":{\"color\":\"white\"}},\"type\":\"table\"}],\"barpolar\":[{\"marker\":{\"line\":{\"color\":\"#E5ECF6\",\"width\":0.5},\"pattern\":{\"fillmode\":\"overlay\",\"size\":10,\"solidity\":0.2}},\"type\":\"barpolar\"}],\"pie\":[{\"automargin\":true,\"type\":\"pie\"}]},\"layout\":{\"autotypenumbers\":\"strict\",\"colorway\":[\"#636efa\",\"#EF553B\",\"#00cc96\",\"#ab63fa\",\"#FFA15A\",\"#19d3f3\",\"#FF6692\",\"#B6E880\",\"#FF97FF\",\"#FECB52\"],\"font\":{\"color\":\"#2a3f5f\"},\"hovermode\":\"closest\",\"hoverlabel\":{\"align\":\"left\"},\"paper_bgcolor\":\"white\",\"plot_bgcolor\":\"#E5ECF6\",\"polar\":{\"bgcolor\":\"#E5ECF6\",\"angularaxis\":{\"gridcolor\":\"white\",\"linecolor\":\"white\",\"ticks\":\"\"},\"radialaxis\":{\"gridcolor\":\"white\",\"linecolor\":\"white\",\"ticks\":\"\"}},\"ternary\":{\"bgcolor\":\"#E5ECF6\",\"aaxis\":{\"gridcolor\":\"white\",\"linecolor\":\"white\",\"ticks\":\"\"},\"baxis\":{\"gridcolor\":\"white\",\"linecolor\":\"white\",\"ticks\":\"\"},\"caxis\":{\"gridcolor\":\"white\",\"linecolor\":\"white\",\"ticks\":\"\"}},\"coloraxis\":{\"colorbar\":{\"outlinewidth\":0,\"ticks\":\"\"}},\"colorscale\":{\"sequential\":[[0.0,\"#0d0887\"],[0.1111111111111111,\"#46039f\"],[0.2222222222222222,\"#7201a8\"],[0.3333333333333333,\"#9c179e\"],[0.4444444444444444,\"#bd3786\"],[0.5555555555555556,\"#d8576b\"],[0.6666666666666666,\"#ed7953\"],[0.7777777777777778,\"#fb9f3a\"],[0.8888888888888888,\"#fdca26\"],[1.0,\"#f0f921\"]],\"sequentialminus\":[[0.0,\"#0d0887\"],[0.1111111111111111,\"#46039f\"],[0.2222222222222222,\"#7201a8\"],[0.3333333333333333,\"#9c179e\"],[0.4444444444444444,\"#bd3786\"],[0.5555555555555556,\"#d8576b\"],[0.6666666666666666,\"#ed7953\"],[0.7777777777777778,\"#fb9f3a\"],[0.8888888888888888,\"#fdca26\"],[1.0,\"#f0f921\"]],\"diverging\":[[0,\"#8e0152\"],[0.1,\"#c51b7d\"],[0.2,\"#de77ae\"],[0.3,\"#f1b6da\"],[0.4,\"#fde0ef\"],[0.5,\"#f7f7f7\"],[0.6,\"#e6f5d0\"],[0.7,\"#b8e186\"],[0.8,\"#7fbc41\"],[0.9,\"#4d9221\"],[1,\"#276419\"]]},\"xaxis\":{\"gridcolor\":\"white\",\"linecolor\":\"white\",\"ticks\":\"\",\"title\":{\"standoff\":15},\"zerolinecolor\":\"white\",\"automargin\":true,\"zerolinewidth\":2},\"yaxis\":{\"gridcolor\":\"white\",\"linecolor\":\"white\",\"ticks\":\"\",\"title\":{\"standoff\":15},\"zerolinecolor\":\"white\",\"automargin\":true,\"zerolinewidth\":2},\"scene\":{\"xaxis\":{\"backgroundcolor\":\"#E5ECF6\",\"gridcolor\":\"white\",\"linecolor\":\"white\",\"showbackground\":true,\"ticks\":\"\",\"zerolinecolor\":\"white\",\"gridwidth\":2},\"yaxis\":{\"backgroundcolor\":\"#E5ECF6\",\"gridcolor\":\"white\",\"linecolor\":\"white\",\"showbackground\":true,\"ticks\":\"\",\"zerolinecolor\":\"white\",\"gridwidth\":2},\"zaxis\":{\"backgroundcolor\":\"#E5ECF6\",\"gridcolor\":\"white\",\"linecolor\":\"white\",\"showbackground\":true,\"ticks\":\"\",\"zerolinecolor\":\"white\",\"gridwidth\":2}},\"shapedefaults\":{\"line\":{\"color\":\"#2a3f5f\"}},\"annotationdefaults\":{\"arrowcolor\":\"#2a3f5f\",\"arrowhead\":0,\"arrowwidth\":1},\"geo\":{\"bgcolor\":\"white\",\"landcolor\":\"#E5ECF6\",\"subunitcolor\":\"white\",\"showland\":true,\"showlakes\":true,\"lakecolor\":\"white\"},\"title\":{\"x\":0.05},\"mapbox\":{\"style\":\"light\"}}},\"xaxis\":{\"anchor\":\"y\",\"domain\":[0.0,1.0],\"title\":{\"text\":\"Age\"}},\"yaxis\":{\"anchor\":\"x\",\"domain\":[0.0,1.0],\"title\":{\"text\":\"Fare\"}},\"coloraxis\":{\"colorbar\":{\"title\":{\"text\":\"Survived\"}},\"colorscale\":[[0.0,\"#0d0887\"],[0.1111111111111111,\"#46039f\"],[0.2222222222222222,\"#7201a8\"],[0.3333333333333333,\"#9c179e\"],[0.4444444444444444,\"#bd3786\"],[0.5555555555555556,\"#d8576b\"],[0.6666666666666666,\"#ed7953\"],[0.7777777777777778,\"#fb9f3a\"],[0.8888888888888888,\"#fdca26\"],[1.0,\"#f0f921\"]]},\"legend\":{\"tracegroupgap\":0},\"margin\":{\"t\":60},\"title\":{\"text\":\"Interactive Age vs Fare Scatter Plot\"}},                        {\"responsive\": true}                    ).then(function(){\n",
       "                            \n",
       "var gd = document.getElementById('62eca09b-d57d-4065-b0b1-e24fced4c28f');\n",
       "var x = new MutationObserver(function (mutations, observer) {{\n",
       "        var display = window.getComputedStyle(gd).display;\n",
       "        if (!display || display === 'none') {{\n",
       "            console.log([gd, 'removed!']);\n",
       "            Plotly.purge(gd);\n",
       "            observer.disconnect();\n",
       "        }}\n",
       "}});\n",
       "\n",
       "// Listen for the removal of the full notebook cells\n",
       "var notebookContainer = gd.closest('#notebook-container');\n",
       "if (notebookContainer) {{\n",
       "    x.observe(notebookContainer, {childList: true});\n",
       "}}\n",
       "\n",
       "// Listen for the clearing of the current output cell\n",
       "var outputEl = gd.closest('.output');\n",
       "if (outputEl) {{\n",
       "    x.observe(outputEl, {childList: true});\n",
       "}}\n",
       "\n",
       "                        })                };                });            </script>        </div>"
      ]
     },
     "metadata": {},
     "output_type": "display_data"
    }
   ],
   "source": [
    "# Interactive Scatter Plot: Age vs Fare\n",
    "fig = px.scatter(df, x='Age', y='Fare', color='Survived',\n",
    "                 hover_data=['Name', 'Sex', 'Pclass'])\n",
    "fig.update_layout(title='Interactive Age vs Fare Scatter Plot')\n",
    "fig.show()\n"
   ]
  }
 ],
 "metadata": {
  "kernelspec": {
   "display_name": "Python 3 (ipykernel)",
   "language": "python",
   "name": "python3"
  },
  "language_info": {
   "codemirror_mode": {
    "name": "ipython",
    "version": 3
   },
   "file_extension": ".py",
   "mimetype": "text/x-python",
   "name": "python",
   "nbconvert_exporter": "python",
   "pygments_lexer": "ipython3",
   "version": "3.12.4"
  }
 },
 "nbformat": 4,
 "nbformat_minor": 5
}
